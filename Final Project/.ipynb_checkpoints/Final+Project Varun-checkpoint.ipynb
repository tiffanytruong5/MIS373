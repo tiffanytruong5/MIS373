{
 "cells": [
  {
   "cell_type": "code",
   "execution_count": 1,
   "metadata": {},
   "outputs": [
    {
     "name": "stdout",
     "output_type": "stream",
     "text": [
      "Populating the interactive namespace from numpy and matplotlib\n"
     ]
    }
   ],
   "source": [
    "from pandas import Series, DataFrame\n",
    "import pandas as pd\n",
    "from patsy import dmatrices\n",
    "%pylab inline\n",
    "\n",
    "from sklearn.model_selection import train_test_split\n",
    "from sklearn.linear_model import LogisticRegression\n",
    "from sklearn import metrics\n",
    "\n",
    "import warnings\n",
    "warnings.filterwarnings('ignore')"
   ]
  },
  {
   "cell_type": "code",
   "execution_count": 2,
   "metadata": {
    "collapsed": true
   },
   "outputs": [],
   "source": [
    "df = pd.read_csv('aac_intakes_outcomes.csv')\n",
    "df['cat_or_dog'] = False\n",
    "\n",
    "def valid_animal(x):\n",
    "    valid = ['Dog','Cat']\n",
    "    if x in valid:\n",
    "        return True\n",
    "    return False\n",
    "\n",
    "df['cat_or_dog'] = df['animal_type'].apply(valid_animal)\n",
    "\n",
    "\n",
    "\n",
    "mask = (df['cat_or_dog'] == True)\n",
    "df = df[mask]\n",
    "\n",
    "colors = df['color'].value_counts()>100\n",
    "color_list = df['color'].value_counts()[colors].index.tolist()\n",
    "df['color_bin'] = 'other'\n",
    "def colortest(x):\n",
    "    if x in color_list:\n",
    "        return x\n",
    "    return 'other'\n",
    "df['color_bin'] = df['color'].apply(colortest)\n"
   ]
  },
  {
   "cell_type": "code",
   "execution_count": 3,
   "metadata": {
    "collapsed": true
   },
   "outputs": [],
   "source": [
    "categorical_columns_to_convert = ['intake_type', 'sex_upon_intake', 'intake_weekday', 'breed', 'color_bin', 'intake_condition', 'sex_upon_outcome', 'outcome_weekday']\n",
    "\n",
    "new_categorical_columns = []\n",
    "\n",
    "for column in categorical_columns_to_convert:\n",
    "    df[column] = df[column].astype('category')\n",
    "    new_column_name = column + \"_coded\"\n",
    "    new_categorical_columns.append(new_column_name)\n",
    "    df[new_column_name] = df[column].cat.codes\n",
    "\n",
    "categorical_columns = ['intake_month', 'intake_hour', 'outcome_month', 'outcome_hour', 'dob_month']\n",
    "\n",
    "all_categorical_columns = new_categorical_columns + categorical_columns                              \n",
    "                                \n",
    "numerical_columns = ['dob_year', 'age_upon_intake_(days)', 'age_upon_outcome_(days)', 'outcome_year', 'intake_year', 'time_in_shelter_days']"
   ]
  },
  {
   "cell_type": "code",
   "execution_count": 4,
   "metadata": {},
   "outputs": [
    {
     "data": {
      "text/plain": [
       "'target ~ 0 + Q(\"dob_year\") + Q(\"age_upon_intake_(days)\") + Q(\"age_upon_outcome_(days)\") + Q(\"outcome_year\") + Q(\"intake_year\") + Q(\"time_in_shelter_days\") + C(intake_type_coded) + C(sex_upon_intake_coded) + C(intake_weekday_coded) + C(breed_coded) + C(color_bin_coded) + C(intake_condition_coded) + C(sex_upon_outcome_coded) + C(outcome_weekday_coded) + C(intake_month) + C(intake_hour) + C(outcome_month) + C(outcome_hour) + C(dob_month)'"
      ]
     },
     "execution_count": 4,
     "metadata": {},
     "output_type": "execute_result"
    }
   ],
   "source": [
    "df = df[df['outcome_type'] != 'Return to Owner']\n",
    "\n",
    "df['target'] = 0\n",
    "mask = (df['outcome_type']=='Adoption')\n",
    "df['target'][mask] = 1.0\n",
    "\n",
    "def formula(numerical, categorical):\n",
    "    formula = 'target ~ 0'\n",
    "    for numerical_feature in numerical:\n",
    "        formula += ' + Q(\"' + numerical_feature + '\")'\n",
    "    for categorical_feature in categorical:\n",
    "        formula += ' + C(' + categorical_feature + ')'\n",
    "    return formula\n",
    "    \n",
    "formula = formula(numerical_columns, all_categorical_columns)\n",
    "formula"
   ]
  },
  {
   "cell_type": "code",
   "execution_count": 5,
   "metadata": {},
   "outputs": [
    {
     "name": "stdout",
     "output_type": "stream",
     "text": [
      "Training accuracy =  0.842823898176\n",
      "Test accuracy =  0.84165327719\n",
      "Baseline accuracy = 0.44739320738\n"
     ]
    },
    {
     "data": {
      "text/plain": [
       "C(sex_upon_outcome_coded)[T.4]   -1.355948\n",
       "C(sex_upon_intake_coded)[T.4]    -1.355948\n",
       "C(sex_upon_outcome_coded)[T.1]   -1.252557\n",
       "C(outcome_hour)[T.9]             -0.854852\n",
       "C(outcome_month)[T.4]            -0.591048\n",
       "C(sex_upon_intake_coded)[T.3]    -0.534178\n",
       "C(intake_type_coded)[2]          -0.532651\n",
       "C(breed_coded)[T.1768]           -0.531950\n",
       "C(intake_type_coded)[0]          -0.488031\n",
       "C(intake_condition_coded)[T.7]   -0.478819\n",
       "C(breed_coded)[T.1521]           -0.439102\n",
       "C(breed_coded)[T.910]            -0.406648\n",
       "C(outcome_month)[T.5]            -0.327027\n",
       "C(breed_coded)[T.37]             -0.320214\n",
       "C(intake_hour)[T.20]             -0.319859\n",
       "C(breed_coded)[T.905]            -0.283507\n",
       "C(breed_coded)[T.74]             -0.281871\n",
       "C(intake_condition_coded)[T.2]   -0.278893\n",
       "C(breed_coded)[T.63]             -0.272684\n",
       "C(outcome_month)[T.3]            -0.270434\n",
       "C(breed_coded)[T.1260]           -0.256703\n",
       "C(color_bin_coded)[T.61]         -0.254315\n",
       "C(breed_coded)[T.1290]           -0.243434\n",
       "C(breed_coded)[T.741]            -0.230649\n",
       "C(intake_weekday_coded)[T.5]     -0.218402\n",
       "C(color_bin_coded)[T.28]         -0.211886\n",
       "C(intake_hour)[T.23]             -0.210757\n",
       "C(outcome_hour)[T.10]            -0.205406\n",
       "C(breed_coded)[T.1553]           -0.200915\n",
       "C(color_bin_coded)[T.66]         -0.198237\n",
       "                                    ...   \n",
       "C(outcome_hour)[T.14]             0.276699\n",
       "C(breed_coded)[T.1152]            0.277972\n",
       "C(breed_coded)[T.87]              0.280422\n",
       "C(color_bin_coded)[T.5]           0.300166\n",
       "C(intake_hour)[T.7]               0.302541\n",
       "C(outcome_hour)[T.13]             0.346706\n",
       "C(breed_coded)[T.364]             0.350453\n",
       "C(breed_coded)[T.107]             0.360668\n",
       "C(outcome_month)[T.8]             0.389547\n",
       "C(breed_coded)[T.1795]            0.401773\n",
       "C(outcome_hour)[T.8]              0.411172\n",
       "C(outcome_hour)[T.15]             0.420147\n",
       "C(outcome_hour)[T.7]              0.428975\n",
       "C(intake_type_coded)[3]           0.430807\n",
       "C(outcome_hour)[T.20]             0.439862\n",
       "C(outcome_month)[T.7]             0.443265\n",
       "C(outcome_hour)[T.12]             0.521669\n",
       "C(intake_condition_coded)[T.3]    0.552639\n",
       "C(intake_type_coded)[1]           0.569030\n",
       "C(outcome_hour)[T.21]             0.673326\n",
       "C(outcome_weekday_coded)[T.3]     0.800708\n",
       "C(outcome_hour)[T.22]             0.856136\n",
       "C(outcome_hour)[T.16]             0.889086\n",
       "C(outcome_weekday_coded)[T.2]     0.985131\n",
       "C(sex_upon_intake_coded)[T.1]     1.000667\n",
       "C(outcome_hour)[T.19]             1.660287\n",
       "C(outcome_hour)[T.17]             1.842124\n",
       "C(outcome_hour)[T.18]             1.991344\n",
       "C(sex_upon_outcome_coded)[T.2]    2.500849\n",
       "C(sex_upon_outcome_coded)[T.3]    3.519119\n",
       "Length: 1934, dtype: float64"
      ]
     },
     "execution_count": 5,
     "metadata": {},
     "output_type": "execute_result"
    }
   ],
   "source": [
    "\n",
    "Y, X = dmatrices(formula, df, return_type='dataframe')\n",
    "y = Y['target'].values\n",
    "X_train, X_test, y_train, y_test = train_test_split(X, y, test_size=0.3, random_state=1)\n",
    "model = LogisticRegression()\n",
    "result = model.fit(X_train, y_train)\n",
    "prediction_train = model.predict(X_train)\n",
    "prediction_test = model.predict(X_test)\n",
    "\n",
    "print 'Training accuracy = ', metrics.accuracy_score(y_train, prediction_train)\n",
    "print 'Test accuracy = ', metrics.accuracy_score(y_test, prediction_test)\n",
    "\n",
    "negative_examples_in_test = len(y_test[y_test==0])\n",
    "total_examples_in_test = len(y_test)\n",
    "print 'Baseline accuracy =', negative_examples_in_test * 1.0 / total_examples_in_test\n",
    "\n",
    "weights = Series(model.coef_[0],\n",
    "                 index=X.columns.values)\n",
    "weights.sort_values()"
   ]
  },
  {
   "cell_type": "code",
   "execution_count": 6,
   "metadata": {},
   "outputs": [
    {
     "name": "stdout",
     "output_type": "stream",
     "text": [
      "Training accuracy =  0.819719563766\n",
      "Test accuracy =  0.816265060241\n",
      "Baseline accuracy = 0.360303282094\n"
     ]
    },
    {
     "data": {
      "text/plain": [
       "C(intake_type_coded)[0]          -1.008862\n",
       "C(breed_coded)[T.1768]           -0.948568\n",
       "C(sex_upon_outcome_coded)[T.4]   -0.849946\n",
       "C(sex_upon_intake_coded)[T.4]    -0.849946\n",
       "C(sex_upon_outcome_coded)[T.1]   -0.718730\n",
       "C(intake_condition_coded)[T.7]   -0.603117\n",
       "C(breed_coded)[T.1767]           -0.521230\n",
       "C(breed_coded)[T.427]            -0.494711\n",
       "C(breed_coded)[T.1290]           -0.493054\n",
       "C(breed_coded)[T.881]            -0.455489\n",
       "C(breed_coded)[T.74]             -0.432918\n",
       "C(breed_coded)[T.1521]           -0.432260\n",
       "C(breed_coded)[T.1627]           -0.422775\n",
       "C(breed_coded)[T.1260]           -0.420624\n",
       "C(color_bin_coded)[T.28]         -0.398670\n",
       "C(breed_coded)[T.1569]           -0.395379\n",
       "C(breed_coded)[T.63]             -0.389915\n",
       "C(breed_coded)[T.1069]           -0.383481\n",
       "C(color_bin_coded)[T.35]         -0.363200\n",
       "C(intake_condition_coded)[T.2]   -0.362646\n",
       "C(breed_coded)[T.742]            -0.354721\n",
       "C(outcome_hour)[T.10]            -0.337153\n",
       "C(intake_weekday_coded)[T.5]     -0.333971\n",
       "C(breed_coded)[T.791]            -0.331204\n",
       "C(breed_coded)[T.426]            -0.309136\n",
       "C(intake_month)[T.9]             -0.301205\n",
       "C(breed_coded)[T.723]            -0.288585\n",
       "C(breed_coded)[T.1613]           -0.285257\n",
       "C(breed_coded)[T.1626]           -0.284879\n",
       "C(breed_coded)[T.1520]           -0.271225\n",
       "                                    ...   \n",
       "C(breed_coded)[T.107]             0.356513\n",
       "C(breed_coded)[T.1709]            0.364791\n",
       "C(breed_coded)[T.408]             0.391446\n",
       "C(intake_condition_coded)[T.4]    0.405101\n",
       "C(outcome_hour)[T.14]             0.410545\n",
       "C(breed_coded)[T.158]             0.411393\n",
       "C(outcome_hour)[T.13]             0.417036\n",
       "C(breed_coded)[T.87]              0.418996\n",
       "C(intake_condition_coded)[T.3]    0.420180\n",
       "C(outcome_hour)[T.20]             0.429050\n",
       "C(breed_coded)[T.520]             0.444872\n",
       "C(outcome_hour)[T.15]             0.445040\n",
       "C(outcome_hour)[T.7]              0.463052\n",
       "C(intake_type_coded)[1]           0.507252\n",
       "C(breed_coded)[T.1795]            0.514536\n",
       "C(outcome_hour)[T.12]             0.571738\n",
       "C(breed_coded)[T.364]             0.593579\n",
       "C(intake_type_coded)[3]           0.596283\n",
       "C(sex_upon_intake_coded)[T.2]     0.622321\n",
       "C(outcome_hour)[T.22]             0.639807\n",
       "C(outcome_hour)[T.21]             0.703989\n",
       "C(outcome_weekday_coded)[T.3]     0.722472\n",
       "C(outcome_hour)[T.16]             0.750379\n",
       "C(outcome_weekday_coded)[T.2]     1.041716\n",
       "C(sex_upon_intake_coded)[T.1]     1.066110\n",
       "C(outcome_hour)[T.17]             1.815178\n",
       "C(outcome_hour)[T.18]             2.332802\n",
       "C(sex_upon_outcome_coded)[T.2]    2.407162\n",
       "C(outcome_hour)[T.19]             2.424663\n",
       "C(sex_upon_outcome_coded)[T.3]    3.361347\n",
       "Length: 1835, dtype: float64"
      ]
     },
     "execution_count": 6,
     "metadata": {},
     "output_type": "execute_result"
    }
   ],
   "source": [
    "df_dogs = df[df['animal_type'] == 'Dog']\n",
    "\n",
    "Y_dog, X_dog = dmatrices(formula, df_dogs, return_type='dataframe')\n",
    "y_dog = Y_dog['target'].values\n",
    "X_train_dog, X_test_dog, y_train_dog, y_test_dog = train_test_split(X_dog, y_dog, test_size=0.3, random_state=1)\n",
    "model_dog = LogisticRegression()\n",
    "result = model_dog.fit(X_train_dog, y_train_dog)\n",
    "prediction_train_dog = model_dog.predict(X_train_dog)\n",
    "prediction_test_dog = model_dog.predict(X_test_dog)\n",
    "\n",
    "print 'Training accuracy = ', metrics.accuracy_score(y_train_dog, prediction_train_dog)\n",
    "print 'Test accuracy = ', metrics.accuracy_score(y_test_dog, prediction_test_dog)\n",
    "\n",
    "negative_examples_in_test_dog = len(y_test_dog[y_test_dog==0])\n",
    "total_examples_in_test_dog = len(y_test_dog)\n",
    "print 'Baseline accuracy =', negative_examples_in_test_dog * 1.0 / total_examples_in_test_dog\n",
    "\n",
    "weights_dog = Series(model_dog.coef_[0],\n",
    "                 index=X_dog.columns.values)\n",
    "weights_dog.sort_values()"
   ]
  },
  {
   "cell_type": "code",
   "execution_count": 7,
   "metadata": {},
   "outputs": [
    {
     "name": "stdout",
     "output_type": "stream",
     "text": [
      "Training accuracy =  0.842823898176\n",
      "Test accuracy =  0.84165327719\n",
      "Baseline accuracy = 0.44739320738\n"
     ]
    },
    {
     "ename": "ValueError",
     "evalue": "Wrong number of items passed 1934, placement implies 245",
     "output_type": "error",
     "traceback": [
      "\u001b[1;31m---------------------------------------------------------------------------\u001b[0m",
      "\u001b[1;31mValueError\u001b[0m                                Traceback (most recent call last)",
      "\u001b[1;32m<ipython-input-7-54e2bcc31aff>\u001b[0m in \u001b[0;36m<module>\u001b[1;34m()\u001b[0m\n\u001b[0;32m     17\u001b[0m \u001b[1;33m\u001b[0m\u001b[0m\n\u001b[0;32m     18\u001b[0m weights_cat = Series(model_cat.coef_[0],\n\u001b[1;32m---> 19\u001b[1;33m                  index=X_cat.columns.values)\n\u001b[0m\u001b[0;32m     20\u001b[0m \u001b[0mweights_cat\u001b[0m\u001b[1;33m.\u001b[0m\u001b[0msort_values\u001b[0m\u001b[1;33m(\u001b[0m\u001b[1;33m)\u001b[0m\u001b[1;33m\u001b[0m\u001b[0m\n",
      "\u001b[1;32mD:\\Anaconda\\lib\\site-packages\\pandas\\core\\series.pyc\u001b[0m in \u001b[0;36m__init__\u001b[1;34m(self, data, index, dtype, name, copy, fastpath)\u001b[0m\n\u001b[0;32m    248\u001b[0m                                        raise_cast_failure=True)\n\u001b[0;32m    249\u001b[0m \u001b[1;33m\u001b[0m\u001b[0m\n\u001b[1;32m--> 250\u001b[1;33m                 \u001b[0mdata\u001b[0m \u001b[1;33m=\u001b[0m \u001b[0mSingleBlockManager\u001b[0m\u001b[1;33m(\u001b[0m\u001b[0mdata\u001b[0m\u001b[1;33m,\u001b[0m \u001b[0mindex\u001b[0m\u001b[1;33m,\u001b[0m \u001b[0mfastpath\u001b[0m\u001b[1;33m=\u001b[0m\u001b[0mTrue\u001b[0m\u001b[1;33m)\u001b[0m\u001b[1;33m\u001b[0m\u001b[0m\n\u001b[0m\u001b[0;32m    251\u001b[0m \u001b[1;33m\u001b[0m\u001b[0m\n\u001b[0;32m    252\u001b[0m         \u001b[0mgeneric\u001b[0m\u001b[1;33m.\u001b[0m\u001b[0mNDFrame\u001b[0m\u001b[1;33m.\u001b[0m\u001b[0m__init__\u001b[0m\u001b[1;33m(\u001b[0m\u001b[0mself\u001b[0m\u001b[1;33m,\u001b[0m \u001b[0mdata\u001b[0m\u001b[1;33m,\u001b[0m \u001b[0mfastpath\u001b[0m\u001b[1;33m=\u001b[0m\u001b[0mTrue\u001b[0m\u001b[1;33m)\u001b[0m\u001b[1;33m\u001b[0m\u001b[0m\n",
      "\u001b[1;32mD:\\Anaconda\\lib\\site-packages\\pandas\\core\\internals.pyc\u001b[0m in \u001b[0;36m__init__\u001b[1;34m(self, block, axis, do_integrity_check, fastpath)\u001b[0m\n\u001b[0;32m   4115\u001b[0m         \u001b[1;32mif\u001b[0m \u001b[1;32mnot\u001b[0m \u001b[0misinstance\u001b[0m\u001b[1;33m(\u001b[0m\u001b[0mblock\u001b[0m\u001b[1;33m,\u001b[0m \u001b[0mBlock\u001b[0m\u001b[1;33m)\u001b[0m\u001b[1;33m:\u001b[0m\u001b[1;33m\u001b[0m\u001b[0m\n\u001b[0;32m   4116\u001b[0m             block = make_block(block, placement=slice(0, len(axis)), ndim=1,\n\u001b[1;32m-> 4117\u001b[1;33m                                fastpath=True)\n\u001b[0m\u001b[0;32m   4118\u001b[0m \u001b[1;33m\u001b[0m\u001b[0m\n\u001b[0;32m   4119\u001b[0m         \u001b[0mself\u001b[0m\u001b[1;33m.\u001b[0m\u001b[0mblocks\u001b[0m \u001b[1;33m=\u001b[0m \u001b[1;33m[\u001b[0m\u001b[0mblock\u001b[0m\u001b[1;33m]\u001b[0m\u001b[1;33m\u001b[0m\u001b[0m\n",
      "\u001b[1;32mD:\\Anaconda\\lib\\site-packages\\pandas\\core\\internals.pyc\u001b[0m in \u001b[0;36mmake_block\u001b[1;34m(values, placement, klass, ndim, dtype, fastpath)\u001b[0m\n\u001b[0;32m   2717\u001b[0m                      placement=placement, dtype=dtype)\n\u001b[0;32m   2718\u001b[0m \u001b[1;33m\u001b[0m\u001b[0m\n\u001b[1;32m-> 2719\u001b[1;33m     \u001b[1;32mreturn\u001b[0m \u001b[0mklass\u001b[0m\u001b[1;33m(\u001b[0m\u001b[0mvalues\u001b[0m\u001b[1;33m,\u001b[0m \u001b[0mndim\u001b[0m\u001b[1;33m=\u001b[0m\u001b[0mndim\u001b[0m\u001b[1;33m,\u001b[0m \u001b[0mfastpath\u001b[0m\u001b[1;33m=\u001b[0m\u001b[0mfastpath\u001b[0m\u001b[1;33m,\u001b[0m \u001b[0mplacement\u001b[0m\u001b[1;33m=\u001b[0m\u001b[0mplacement\u001b[0m\u001b[1;33m)\u001b[0m\u001b[1;33m\u001b[0m\u001b[0m\n\u001b[0m\u001b[0;32m   2720\u001b[0m \u001b[1;33m\u001b[0m\u001b[0m\n\u001b[0;32m   2721\u001b[0m \u001b[1;31m# TODO: flexible with index=None and/or items=None\u001b[0m\u001b[1;33m\u001b[0m\u001b[1;33m\u001b[0m\u001b[0m\n",
      "\u001b[1;32mD:\\Anaconda\\lib\\site-packages\\pandas\\core\\internals.pyc\u001b[0m in \u001b[0;36m__init__\u001b[1;34m(self, values, placement, ndim, fastpath)\u001b[0m\n\u001b[0;32m    113\u001b[0m             raise ValueError('Wrong number of items passed %d, placement '\n\u001b[0;32m    114\u001b[0m                              'implies %d' % (len(self.values),\n\u001b[1;32m--> 115\u001b[1;33m                                              len(self.mgr_locs)))\n\u001b[0m\u001b[0;32m    116\u001b[0m \u001b[1;33m\u001b[0m\u001b[0m\n\u001b[0;32m    117\u001b[0m     \u001b[1;33m@\u001b[0m\u001b[0mproperty\u001b[0m\u001b[1;33m\u001b[0m\u001b[0m\n",
      "\u001b[1;31mValueError\u001b[0m: Wrong number of items passed 1934, placement implies 245"
     ]
    }
   ],
   "source": [
    "df_cats = df[df['animal_type'] == 'Cat']\n",
    "\n",
    "Y_cat, X_cat = dmatrices(formula, df_cats, return_type='dataframe')\n",
    "y_cat = Y_cat['target'].values\n",
    "X_train_cat, X_test_cat, y_train_cat, y_test_cat = train_test_split(X, y, test_size=0.3, random_state=1)\n",
    "model_cat = LogisticRegression()\n",
    "result = model_cat.fit(X_train_cat, y_train_cat)\n",
    "prediction_train_cat = model_cat.predict(X_train_cat)\n",
    "prediction_test_cat = model_cat.predict(X_test_cat)\n",
    "\n",
    "print 'Training accuracy = ', metrics.accuracy_score(y_train_cat, prediction_train_cat)\n",
    "print 'Test accuracy = ', metrics.accuracy_score(y_test_cat, prediction_test_cat)\n",
    "\n",
    "negative_examples_in_test_cat = len(y_test_cat[y_test_cat==0])\n",
    "total_examples_in_test_cat = len(y_test_cat)\n",
    "print 'Baseline accuracy =', negative_examples_in_test_cat * 1.0 / total_examples_in_test_cat\n",
    "\n",
    "weights_cat = Series(model_cat.coef_[0],\n",
    "                 index=X_cat.columns.values)\n",
    "weights_cat.sort_values()"
   ]
  },
  {
   "cell_type": "code",
   "execution_count": null,
   "metadata": {
    "collapsed": true
   },
   "outputs": [],
   "source": [
    "df['sex_upon_outcome']"
   ]
  },
  {
   "cell_type": "code",
   "execution_count": null,
   "metadata": {
    "collapsed": true
   },
   "outputs": [],
   "source": []
  }
 ],
 "metadata": {
  "kernelspec": {
   "display_name": "Python 2",
   "language": "python",
   "name": "python2"
  },
  "language_info": {
   "codemirror_mode": {
    "name": "ipython",
    "version": 2
   },
   "file_extension": ".py",
   "mimetype": "text/x-python",
   "name": "python",
   "nbconvert_exporter": "python",
   "pygments_lexer": "ipython2",
   "version": "2.7.14"
  }
 },
 "nbformat": 4,
 "nbformat_minor": 2
}
