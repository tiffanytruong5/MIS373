{
 "cells": [
  {
   "cell_type": "code",
   "execution_count": null,
   "metadata": {
    "collapsed": true
   },
   "outputs": [],
   "source": [
    "#Rock, Paper, Scissors Game\n",
    "from pandas import Series, DataFrame\n",
    "import random\n",
    "import pandas as pd\n",
    "\n",
    "#Function to play the game\n",
    "def playgame(player_choice,comp_choice):\n",
    "#Takes in the player's move and the corresponding computer's move as inputs, prints a line with the result of the game and\n",
    "#returns true if the player won\n",
    "\n",
    "    if player_choice ==\"Rock\":\n",
    "        if comp_choice == \"Paper\":\n",
    "            print (\"Computer chose: \"+comp_choice+\", You Lose!\")\n",
    "        elif comp_choice == \"Rock\":\n",
    "            print (\"Computer chose: \"+comp_choice+\", It's a tie\")\n",
    "        else:\n",
    "            print (\"Computer chose: \"+comp_choice+\", You Win!\")\n",
    "            return True\n",
    "    elif player_choice ==\"Paper\":\n",
    "        if comp_choice == \"Scissors\":\n",
    "            print (\"Computer chose: \"+comp_choice+\", You Lose!\")\n",
    "        elif comp_choice == \"Paper\":\n",
    "            print (\"Computer chose: \"+comp_choice+\", It's a tie\")\n",
    "        else:\n",
    "            print (\"Computer chose: \"+comp_choice+\", You Win!\")\n",
    "            return True\n",
    "    else:\n",
    "        if comp_choice == \"Rock\":\n",
    "            print (\"Computer chose: \"+comp_choice+\", You Lose!\")\n",
    "        elif comp_choice == \"Scissors\":\n",
    "            print (\"Computer chose: \"+comp_choice+\", It's a tie\")\n",
    "        else:\n",
    "            print (\"Computer chose: \"+comp_choice+\", You Win!\")\n",
    "            return True"
   ]
  },
  {
   "cell_type": "code",
   "execution_count": null,
   "metadata": {
    "collapsed": true
   },
   "outputs": [],
   "source": [
    "#Variable set up\n",
    "valids = ['Rock','Paper','Scissors']\n",
    "r = 1.0\n",
    "p = 1.0\n",
    "s = 1.0\n",
    "game_counter = 0\n",
    "game_won = 0\n",
    "\n",
    "#Logic to take in the user's input and check if its a valid move\n",
    "player_choice = raw_input('Your move: ')\n",
    "while (player_choice not in valids) and (player_choice != \"Quit\"):\n",
    "    player_choice = raw_input('Invalid decision, try again: ')\n",
    "\n",
    "#\"Smart\" computer logic\n",
    "while player_choice != \"Quit\":\n",
    "    if r>=p and r>=s:\n",
    "        comp_choice = \"Paper\"\n",
    "    elif p>=r and p>=s:\n",
    "        comp_choice = \"Scissors\"\n",
    "    else:\n",
    "        comp_choice = \"Rock\"\n",
    "        \n",
    "#Plays the game by calling function, sees if it won\n",
    "    if playgame(player_choice,comp_choice) == True:\n",
    "        game_won +=1\n",
    "\n",
    "#Computer learns the player's preferences\n",
    "    if player_choice == 'Rock':\n",
    "        r +=1.0\n",
    "    elif player_choice == 'Paper':\n",
    "        p +=1.0\n",
    "    else:\n",
    "        s +=1.0\n",
    "    \n",
    "#Play it again\n",
    "    player_choice = raw_input('Your move: ')\n",
    "    while (player_choice not in valids) and (player_choice != \"Quit\"):\n",
    "        player_choice = raw_input('Invalid decision, try again: ')\n",
    "        \n",
    "    game_counter +=1\n",
    "print (\"Games played: \"+str(game_counter))\n",
    "print (\"Games won: \"+str(game_won))\n",
    "    "
   ]
  },
  {
   "cell_type": "code",
   "execution_count": null,
   "metadata": {
    "collapsed": true
   },
   "outputs": [],
   "source": []
  },
  {
   "cell_type": "code",
   "execution_count": 8,
   "metadata": {},
   "outputs": [
    {
     "name": "stdout",
     "output_type": "stream",
     "text": [
      "First Movie: Bone Collector\n",
      "Second Movie: Top Gun\n",
      "These actors appeared in both Bone Collector and Top Gun:[]\n",
      "These actors appeared in Bone Collector but not Top Gun:['Denzel Washington', 'Angelina Jolie', 'Morgan Freeman']\n",
      "These actors appeared in Top Gun but not Bone Collector:[]\n"
     ]
    }
   ],
   "source": [
    "#Movies.csv (part 2)\n",
    "\n",
    "#Sets up a dictionary with the actor name as the key and their movies as a list of values\n",
    "history = {}\n",
    "mov = open('movies.csv','r')\n",
    "for line in mov:\n",
    "    line = line.strip()\n",
    "    t = line.split(',')\n",
    "    history.update({t[0]:t[1:len(t)]})\n",
    "\n",
    "movies = []\n",
    "#Set up list of all valid movies (unique)\n",
    "for key, value in history.iteritems():\n",
    "    for item in value:\n",
    "        if item not in movies:\n",
    "            movies.append(item)\n",
    "\n",
    "#Reads user input and verfies movies are actually in the list\n",
    "checker = False\n",
    "while checker == False:\n",
    "    movie1 = raw_input(\"First Movie: \")\n",
    "    if movie1 in movies:\n",
    "        checker = True\n",
    "    else:\n",
    "        print(\"Invalid choice. Try again: \")\n",
    "checker = False\n",
    "while checker == False:\n",
    "    movie2 = raw_input(\"Second Movie: \")\n",
    "    if movie2 in movies:\n",
    "        checker = True\n",
    "    else:\n",
    "        print(\"Invalid choice. Try again: \")\n",
    "\n",
    "#Function that does actors in both movies\n",
    "BothMovies = []\n",
    "for key, value in history.iteritems():\n",
    "    if (movie1 in value) and (movie2 in value):\n",
    "        BothMovies.append(key)\n",
    "print (\"These actors appeared in both \"+movie1+\" and \"+movie2+\":\"+str(BothMovies))\n",
    "\n",
    "#Movie1 but not movie2\n",
    "OneNTwo = []\n",
    "for key,value in history.iteritems():\n",
    "    if (movie1 in value) and (movie2 not in value):\n",
    "        OneNTwo.append(key)\n",
    "print (\"These actors appeared in \"+movie1+\" but not \"+movie2+\":\"+str(OneNTwo))\n",
    "\n",
    "#Movie2 but not movie1\n",
    "TwoNOne = []\n",
    "for key,value in history.iteritems():\n",
    "    if (movie1 not in value) and (movie1 in value):\n",
    "        TwoNOne.append(key)\n",
    "print (\"These actors appeared in \"+movie2+\" but not \"+movie1+\":\"+str(TwoNOne))\n"
   ]
  },
  {
   "cell_type": "code",
   "execution_count": null,
   "metadata": {
    "collapsed": true
   },
   "outputs": [],
   "source": []
  }
 ],
 "metadata": {
  "kernelspec": {
   "display_name": "Python 2",
   "language": "python",
   "name": "python2"
  },
  "language_info": {
   "codemirror_mode": {
    "name": "ipython",
    "version": 2
   },
   "file_extension": ".py",
   "mimetype": "text/x-python",
   "name": "python",
   "nbconvert_exporter": "python",
   "pygments_lexer": "ipython2",
   "version": "2.7.14"
  }
 },
 "nbformat": 4,
 "nbformat_minor": 2
}
