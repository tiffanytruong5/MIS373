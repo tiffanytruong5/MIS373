{
 "cells": [
  {
   "cell_type": "code",
   "execution_count": 2,
   "metadata": {},
   "outputs": [
    {
     "name": "stdout",
     "output_type": "stream",
     "text": [
      "Populating the interactive namespace from numpy and matplotlib\n"
     ]
    },
    {
     "name": "stderr",
     "output_type": "stream",
     "text": [
      "D:\\Anaconda\\lib\\site-packages\\statsmodels\\compat\\pandas.py:56: FutureWarning: The pandas.core.datetools module is deprecated and will be removed in a future version. Please use the pandas.tseries module instead.\n",
      "  from pandas.core import datetools\n"
     ]
    }
   ],
   "source": [
    "import pandas as pd\n",
    "from pandas import Series, DataFrame\n",
    "%matplotlib inline\n",
    "%pylab inline\n",
    "import matplotlib\n",
    "\n",
    "# Special packages\n",
    "import statsmodels.api as sm\n",
    "import re\n",
    "from patsy import dmatrices"
   ]
  },
  {
   "cell_type": "markdown",
   "metadata": {},
   "source": [
    "# Question 1 "
   ]
  },
  {
   "cell_type": "code",
   "execution_count": 3,
   "metadata": {
    "scrolled": false
   },
   "outputs": [
    {
     "name": "stderr",
     "output_type": "stream",
     "text": [
      "D:\\Anaconda\\lib\\site-packages\\ipykernel_launcher.py:2: ParserWarning: Falling back to the 'python' engine because the 'c' engine does not support regex separators (separators > 1 char and different from '\\s+' are interpreted as regex); you can avoid this warning by specifying engine='python'.\n",
      "  \n"
     ]
    },
    {
     "data": {
      "text/html": [
       "<div>\n",
       "<style>\n",
       "    .dataframe thead tr:only-child th {\n",
       "        text-align: right;\n",
       "    }\n",
       "\n",
       "    .dataframe thead th {\n",
       "        text-align: left;\n",
       "    }\n",
       "\n",
       "    .dataframe tbody tr th {\n",
       "        vertical-align: top;\n",
       "    }\n",
       "</style>\n",
       "<table border=\"1\" class=\"dataframe\">\n",
       "  <thead>\n",
       "    <tr style=\"text-align: right;\">\n",
       "      <th></th>\n",
       "      <th>Percent voting for Clinton in 1992</th>\n",
       "      <th>Median Age</th>\n",
       "      <th>Mean Savings ($)</th>\n",
       "      <th>PerCapita Income ($)</th>\n",
       "      <th>Percent in Poverty</th>\n",
       "      <th>Percent Veterans</th>\n",
       "      <th>Percent Female</th>\n",
       "      <th>Population Density</th>\n",
       "      <th>Percent in Nursing Homes</th>\n",
       "      <th>Crime Index (Per capita)</th>\n",
       "    </tr>\n",
       "    <tr>\n",
       "      <th>County Names</th>\n",
       "      <th></th>\n",
       "      <th></th>\n",
       "      <th></th>\n",
       "      <th></th>\n",
       "      <th></th>\n",
       "      <th></th>\n",
       "      <th></th>\n",
       "      <th></th>\n",
       "      <th></th>\n",
       "      <th></th>\n",
       "    </tr>\n",
       "  </thead>\n",
       "  <tbody>\n",
       "    <tr>\n",
       "      <th>Autauga, AL</th>\n",
       "      <td>30.92</td>\n",
       "      <td>31.7</td>\n",
       "      <td>57623</td>\n",
       "      <td>15768</td>\n",
       "      <td>15.2</td>\n",
       "      <td>10.74</td>\n",
       "      <td>51.41</td>\n",
       "      <td>60.4</td>\n",
       "      <td>2.36</td>\n",
       "      <td>457</td>\n",
       "    </tr>\n",
       "    <tr>\n",
       "      <th>Baldwin, AL</th>\n",
       "      <td>26.24</td>\n",
       "      <td>35.5</td>\n",
       "      <td>84935</td>\n",
       "      <td>16954</td>\n",
       "      <td>13.6</td>\n",
       "      <td>9.73</td>\n",
       "      <td>51.34</td>\n",
       "      <td>66.5</td>\n",
       "      <td>5.40</td>\n",
       "      <td>282</td>\n",
       "    </tr>\n",
       "    <tr>\n",
       "      <th>Barbour, AL</th>\n",
       "      <td>46.36</td>\n",
       "      <td>32.8</td>\n",
       "      <td>83656</td>\n",
       "      <td>15532</td>\n",
       "      <td>25.0</td>\n",
       "      <td>8.82</td>\n",
       "      <td>53.03</td>\n",
       "      <td>28.8</td>\n",
       "      <td>7.02</td>\n",
       "      <td>47</td>\n",
       "    </tr>\n",
       "    <tr>\n",
       "      <th>Blount, AL</th>\n",
       "      <td>32.92</td>\n",
       "      <td>34.5</td>\n",
       "      <td>61249</td>\n",
       "      <td>14820</td>\n",
       "      <td>15.0</td>\n",
       "      <td>9.67</td>\n",
       "      <td>51.15</td>\n",
       "      <td>62.4</td>\n",
       "      <td>2.36</td>\n",
       "      <td>185</td>\n",
       "    </tr>\n",
       "    <tr>\n",
       "      <th>Bullock, AL</th>\n",
       "      <td>67.67</td>\n",
       "      <td>31.7</td>\n",
       "      <td>75725</td>\n",
       "      <td>11120</td>\n",
       "      <td>33.0</td>\n",
       "      <td>7.08</td>\n",
       "      <td>50.76</td>\n",
       "      <td>17.6</td>\n",
       "      <td>2.91</td>\n",
       "      <td>141</td>\n",
       "    </tr>\n",
       "    <tr>\n",
       "      <th>Butler, AL</th>\n",
       "      <td>47.43</td>\n",
       "      <td>33.5</td>\n",
       "      <td>75887</td>\n",
       "      <td>12015</td>\n",
       "      <td>27.1</td>\n",
       "      <td>9.48</td>\n",
       "      <td>53.25</td>\n",
       "      <td>28.1</td>\n",
       "      <td>7.98</td>\n",
       "      <td>266</td>\n",
       "    </tr>\n",
       "    <tr>\n",
       "      <th>Calhoun, AL</th>\n",
       "      <td>38.44</td>\n",
       "      <td>32.7</td>\n",
       "      <td>76073</td>\n",
       "      <td>15162</td>\n",
       "      <td>18.0</td>\n",
       "      <td>11.95</td>\n",
       "      <td>51.66</td>\n",
       "      <td>190.8</td>\n",
       "      <td>4.81</td>\n",
       "      <td>560</td>\n",
       "    </tr>\n",
       "    <tr>\n",
       "      <th>Chambers, AL</th>\n",
       "      <td>45.36</td>\n",
       "      <td>34.8</td>\n",
       "      <td>40498</td>\n",
       "      <td>13887</td>\n",
       "      <td>18.8</td>\n",
       "      <td>10.52</td>\n",
       "      <td>52.77</td>\n",
       "      <td>62.1</td>\n",
       "      <td>6.15</td>\n",
       "      <td>218</td>\n",
       "    </tr>\n",
       "    <tr>\n",
       "      <th>Cherokee, AL</th>\n",
       "      <td>53.61</td>\n",
       "      <td>36.3</td>\n",
       "      <td>56386</td>\n",
       "      <td>13936</td>\n",
       "      <td>15.4</td>\n",
       "      <td>9.29</td>\n",
       "      <td>50.82</td>\n",
       "      <td>35.8</td>\n",
       "      <td>5.61</td>\n",
       "      <td>51</td>\n",
       "    </tr>\n",
       "    <tr>\n",
       "      <th>Chilton, AL</th>\n",
       "      <td>34.19</td>\n",
       "      <td>34.0</td>\n",
       "      <td>52230</td>\n",
       "      <td>14036</td>\n",
       "      <td>18.6</td>\n",
       "      <td>9.48</td>\n",
       "      <td>51.41</td>\n",
       "      <td>47.8</td>\n",
       "      <td>3.58</td>\n",
       "      <td>296</td>\n",
       "    </tr>\n",
       "  </tbody>\n",
       "</table>\n",
       "</div>"
      ],
      "text/plain": [
       "              Percent voting for Clinton in 1992  Median Age  \\\n",
       "County Names                                                   \n",
       "Autauga, AL                                30.92        31.7   \n",
       "Baldwin, AL                                26.24        35.5   \n",
       "Barbour, AL                                46.36        32.8   \n",
       "Blount, AL                                 32.92        34.5   \n",
       "Bullock, AL                                67.67        31.7   \n",
       "Butler, AL                                 47.43        33.5   \n",
       "Calhoun, AL                                38.44        32.7   \n",
       "Chambers, AL                               45.36        34.8   \n",
       "Cherokee, AL                               53.61        36.3   \n",
       "Chilton, AL                                34.19        34.0   \n",
       "\n",
       "              Mean Savings ($)  PerCapita Income ($)  Percent in Poverty  \\\n",
       "County Names                                                               \n",
       "Autauga, AL              57623                 15768                15.2   \n",
       "Baldwin, AL              84935                 16954                13.6   \n",
       "Barbour, AL              83656                 15532                25.0   \n",
       "Blount, AL               61249                 14820                15.0   \n",
       "Bullock, AL              75725                 11120                33.0   \n",
       "Butler, AL               75887                 12015                27.1   \n",
       "Calhoun, AL              76073                 15162                18.0   \n",
       "Chambers, AL             40498                 13887                18.8   \n",
       "Cherokee, AL             56386                 13936                15.4   \n",
       "Chilton, AL              52230                 14036                18.6   \n",
       "\n",
       "              Percent Veterans  Percent Female  Population Density  \\\n",
       "County Names                                                         \n",
       "Autauga, AL              10.74           51.41                60.4   \n",
       "Baldwin, AL               9.73           51.34                66.5   \n",
       "Barbour, AL               8.82           53.03                28.8   \n",
       "Blount, AL                9.67           51.15                62.4   \n",
       "Bullock, AL               7.08           50.76                17.6   \n",
       "Butler, AL                9.48           53.25                28.1   \n",
       "Calhoun, AL              11.95           51.66               190.8   \n",
       "Chambers, AL             10.52           52.77                62.1   \n",
       "Cherokee, AL              9.29           50.82                35.8   \n",
       "Chilton, AL               9.48           51.41                47.8   \n",
       "\n",
       "              Percent in Nursing Homes  Crime Index (Per capita)  \n",
       "County Names                                                      \n",
       "Autauga, AL                       2.36                       457  \n",
       "Baldwin, AL                       5.40                       282  \n",
       "Barbour, AL                       7.02                        47  \n",
       "Blount, AL                        2.36                       185  \n",
       "Bullock, AL                       2.91                       141  \n",
       "Butler, AL                        7.98                       266  \n",
       "Calhoun, AL                       4.81                       560  \n",
       "Chambers, AL                      6.15                       218  \n",
       "Cherokee, AL                      5.61                        51  \n",
       "Chilton, AL                       3.58                       296  "
      ]
     },
     "execution_count": 3,
     "metadata": {},
     "output_type": "execute_result"
    }
   ],
   "source": [
    "#Read that table in from the URL, seperate by using 2 spaces\n",
    "df = pd.read_table('http://www.stat.ufl.edu/~winner/data/clinton1.dat', sep = '\\s{2,}', names = ['County Names','Percent voting for Clinton in 1992','Median Age','Mean Savings ($)','PerCapita Income ($)','Percent in Poverty','Percent Veterans','Percent Female','Population Density','Percent in Nursing Homes','Crime Index (Per capita)'], index_col='County Names')\n",
    "#Seperate state abbreviation from county name\n",
    "#def statename(x):\n",
    "    #return x[-2:]\n",
    "\n",
    "#Clean up the county name column\n",
    "#def countcleanup(x):\n",
    "    #return x[:-4]\n",
    "\n",
    "#Apply functions, and make the data frame look prettier\n",
    "#df['State'] = df['County Names'].apply(statename)\n",
    "#df['County Names'] = df['County Names'].apply(countcleanup)\n",
    "#df = df[['County Names','State','Percent voting for Clinton in 1992','Median Age','Mean Savings ($)','PerCapita Income ($)','Percent in Poverty','Percent Veterans','Percent Female','Population Density','Percent in Nursing Homes','Crime Index (Per capita)']]\n",
    "df[:10]"
   ]
  },
  {
   "cell_type": "markdown",
   "metadata": {
    "collapsed": true
   },
   "source": [
    "# Question 2"
   ]
  },
  {
   "cell_type": "code",
   "execution_count": 4,
   "metadata": {},
   "outputs": [
    {
     "name": "stdout",
     "output_type": "stream",
     "text": [
      "Highest/Worst P-values\n"
     ]
    },
    {
     "data": {
      "text/plain": [
       "Q('Median Age')                  0.238619\n",
       "Q('Crime Index (Per capita)')    0.141950\n",
       "dtype: float64"
      ]
     },
     "execution_count": 4,
     "metadata": {},
     "output_type": "execute_result"
    }
   ],
   "source": [
    "df1 = df.rename(columns = {'Percent voting for Clinton in 1992':'percentVoting'})\n",
    "y, X = dmatrices(\"percentVoting ~ Q('Median Age')+Q('Mean Savings ($)')+Q('PerCapita Income ($)')+Q('Percent in Poverty')+Q('Percent Veterans')+Q('Percent Female')+Q('Population Density')+Q('Percent in Nursing Homes')+Q('Crime Index (Per capita)')\",data = df1, return_type = 'dataframe')\n",
    "model = sm.OLS(y, X)\n",
    "result = model.fit()\n",
    "print 'Highest/Worst P-values'\n",
    "result.pvalues.sort_values(ascending = False)[:2]\n"
   ]
  },
  {
   "cell_type": "markdown",
   "metadata": {},
   "source": [
    "# Question 3"
   ]
  },
  {
   "cell_type": "code",
   "execution_count": 5,
   "metadata": {},
   "outputs": [
    {
     "name": "stdout",
     "output_type": "stream",
     "text": [
      "Formula\n",
      "percentVoting ~ Q('Population Density') + Q('Mean Savings ($)')\n"
     ]
    }
   ],
   "source": [
    "def formulafunction(a):\n",
    "    loader = []\n",
    "    for item in a:\n",
    "        if ' ' in item:\n",
    "            loader.append(\"Q('\"+item+\"')\")\n",
    "        else:\n",
    "            loader.append(item)\n",
    "    returnstring = 'percentVoting ~ '\n",
    "    for item in loader:\n",
    "        returnstring = returnstring+item+' + '\n",
    "    returnstring = returnstring[:-3]\n",
    "    return(returnstring)\n",
    "b = ['Population Density', 'Mean Savings ($)']\n",
    "print 'Formula'\n",
    "print (formulafunction(b))"
   ]
  },
  {
   "cell_type": "markdown",
   "metadata": {},
   "source": [
    "# Question 4"
   ]
  },
  {
   "cell_type": "code",
   "execution_count": 6,
   "metadata": {},
   "outputs": [
    {
     "name": "stdout",
     "output_type": "stream",
     "text": [
      "R-Square\n",
      "0.285829802291\n"
     ]
    }
   ],
   "source": [
    "def rsquare(d):\n",
    "    e = formulafunction(d)\n",
    "    y,X = dmatrices(e,data = df1, return_type = 'dataframe')\n",
    "    model = sm.OLS(y, X)\n",
    "    result = model.fit()\n",
    "    return result.rsquared\n",
    "\n",
    "#Put your list of regressors here\n",
    "regressors = ['Percent in Poverty','Population Density']\n",
    "\n",
    "print ('R-Square')\n",
    "print (rsquare(regressors))\n",
    "\n",
    "    "
   ]
  },
  {
   "cell_type": "markdown",
   "metadata": {},
   "source": [
    "# Question 5"
   ]
  },
  {
   "cell_type": "code",
   "execution_count": 7,
   "metadata": {},
   "outputs": [
    {
     "data": {
      "text/plain": [
       "('Population Density', 0.28709905994748541)"
      ]
     },
     "execution_count": 7,
     "metadata": {},
     "output_type": "execute_result"
    }
   ],
   "source": [
    "current_regressor_list = ['Percent in Poverty','Median Age']\n",
    "all_regressor_list = ['Median Age', 'Mean Savings ($)', 'PerCapita Income ($)', 'Percent in Poverty', 'Percent Veterans','Percent Female','Population Density','Percent in Nursing Homes','Crime Index (Per capita)']\n",
    "def usedlist(a,b):\n",
    "    for item in a:\n",
    "        if item in b:\n",
    "            b.pop(b.index(item))\n",
    "    return b\n",
    "def best_next_regressor(c,d):\n",
    "    c = usedlist(d,c)\n",
    "    diction = {}\n",
    "    for item in c:\n",
    "        d.append(item)\n",
    "        result1 = rsquare(d)\n",
    "        diction[d[-1]] = result1\n",
    "        d.pop()\n",
    "    maximum = max(diction, key = diction.get)\n",
    "    return (maximum, diction[maximum])\n",
    "letstry = best_next_regressor(all_regressor_list,current_regressor_list)\n",
    "letstry\n",
    "        "
   ]
  },
  {
   "cell_type": "markdown",
   "metadata": {},
   "source": [
    "# Question 6"
   ]
  },
  {
   "cell_type": "code",
   "execution_count": 8,
   "metadata": {},
   "outputs": [
    {
     "name": "stdout",
     "output_type": "stream",
     "text": [
      "Percent in Poverty: 0.251038519616\n",
      "Percent in Poverty + Population Density: 0.285829802291\n",
      "Percent in Poverty + Population Density + Percent Female: 0.309145066325\n",
      "Percent in Poverty + Population Density + Percent Female + Mean Savings ($): 0.319241185024\n"
     ]
    }
   ],
   "source": [
    "num_regressors = 4\n",
    "all_regressor_list = ['Median Age', 'Mean Savings ($)', 'PerCapita Income ($)', 'Percent in Poverty', 'Percent Veterans','Percent Female','Population Density','Percent in Nursing Homes','Crime Index (Per capita)']\n",
    "def best_regressors(number,possible):\n",
    "    current_list = []\n",
    "    names = []\n",
    "    for i in range(number):\n",
    "        answer = best_next_regressor(possible,current_list)\n",
    "        answer = list(answer)\n",
    "        current_list.append(answer[0])\n",
    "        names.append(answer)\n",
    "    counter = 1\n",
    "    while counter < len(names):\n",
    "        names[counter][0] = names[counter-1][0]+\" + \"+names[counter][0]\n",
    "        counter +=1\n",
    "\n",
    "    return (tuple(names))\n",
    "answer6 = best_regressors(num_regressors,all_regressor_list)\n",
    "for item in answer6:\n",
    "    print str(item[0])+\": \"+str(item[1])\n",
    "\n",
    "\n",
    "        \n",
    "        \n",
    "        \n"
   ]
  },
  {
   "cell_type": "markdown",
   "metadata": {},
   "source": [
    "# Question 7"
   ]
  },
  {
   "cell_type": "code",
   "execution_count": 9,
   "metadata": {},
   "outputs": [
    {
     "name": "stdout",
     "output_type": "stream",
     "text": [
      "Percent in Poverty: 0.251038519616\n",
      "Percent in Poverty + Population Density: 0.285829802291\n",
      "Percent in Poverty + Population Density + Percent Female: 0.309145066325\n",
      "Percent in Poverty + Population Density + Percent Female + Mean Savings ($): 0.319241185024\n",
      "Percent in Poverty + Population Density + Percent Female + Mean Savings ($) + Percent Veterans: 0.322992568873\n",
      "Percent in Poverty + Population Density + Percent Female + Mean Savings ($) + Percent Veterans + Percent in Nursing Homes: 0.324851271387\n",
      "Percent in Poverty + Population Density + Percent Female + Mean Savings ($) + Percent Veterans + Percent in Nursing Homes + PerCapita Income ($): 0.3258249239\n",
      "Percent in Poverty + Population Density + Percent Female + Mean Savings ($) + Percent Veterans + Percent in Nursing Homes + PerCapita Income ($) + Crime Index (Per capita): 0.326553255705\n",
      "Percent in Poverty + Population Density + Percent Female + Mean Savings ($) + Percent Veterans + Percent in Nursing Homes + PerCapita Income ($) + Crime Index (Per capita) + Median Age: 0.326900387252\n"
     ]
    }
   ],
   "source": [
    "all_regressor_list = ['Median Age', 'Mean Savings ($)', 'PerCapita Income ($)', 'Percent in Poverty', 'Percent Veterans','Percent Female','Population Density','Percent in Nursing Homes','Crime Index (Per capita)']\n",
    "answer7 = best_regressors(9,all_regressor_list)\n",
    "for item in answer7:\n",
    "    print str(item[0])+\": \"+str(item[1])\n"
   ]
  },
  {
   "cell_type": "markdown",
   "metadata": {},
   "source": [
    "# Question 8"
   ]
  },
  {
   "cell_type": "code",
   "execution_count": 10,
   "metadata": {},
   "outputs": [
    {
     "data": {
      "text/plain": [
       "<matplotlib.axes._subplots.AxesSubplot at 0xfaebef0>"
      ]
     },
     "execution_count": 10,
     "metadata": {},
     "output_type": "execute_result"
    },
    {
     "data": {
      "image/png": "[encoded data removed]",
      "text/plain": [
       "<matplotlib.figure.Figure at 0xfaca5f8>"
      ]
     },
     "metadata": {},
     "output_type": "display_data"
    }
   ],
   "source": [
    "df2 = DataFrame.from_records(list(answer7), columns = ['Name','R-Square'], index = 'Name')\n",
    "df2.plot(kind='bar')"
   ]
  },
  {
   "cell_type": "markdown",
   "metadata": {
    "collapsed": true
   },
   "source": [
    "# Question 9"
   ]
  },
  {
   "cell_type": "code",
   "execution_count": 17,
   "metadata": {
    "scrolled": true
   },
   "outputs": [
    {
     "data": {
      "text/html": [
       "<div>\n",
       "<style>\n",
       "    .dataframe thead tr:only-child th {\n",
       "        text-align: right;\n",
       "    }\n",
       "\n",
       "    .dataframe thead th {\n",
       "        text-align: left;\n",
       "    }\n",
       "\n",
       "    .dataframe tbody tr th {\n",
       "        vertical-align: top;\n",
       "    }\n",
       "</style>\n",
       "<table border=\"1\" class=\"dataframe\">\n",
       "  <thead>\n",
       "    <tr style=\"text-align: right;\">\n",
       "      <th></th>\n",
       "      <th>percentVoting</th>\n",
       "      <th>Median Age</th>\n",
       "      <th>Mean Savings ($)</th>\n",
       "      <th>PerCapita Income ($)</th>\n",
       "      <th>Percent in Poverty</th>\n",
       "      <th>Percent Veterans</th>\n",
       "      <th>Percent Female</th>\n",
       "      <th>Population Density</th>\n",
       "      <th>Percent in Nursing Homes</th>\n",
       "      <th>Crime Index (Per capita)</th>\n",
       "      <th>target</th>\n",
       "    </tr>\n",
       "    <tr>\n",
       "      <th>County Names</th>\n",
       "      <th></th>\n",
       "      <th></th>\n",
       "      <th></th>\n",
       "      <th></th>\n",
       "      <th></th>\n",
       "      <th></th>\n",
       "      <th></th>\n",
       "      <th></th>\n",
       "      <th></th>\n",
       "      <th></th>\n",
       "      <th></th>\n",
       "    </tr>\n",
       "  </thead>\n",
       "  <tbody>\n",
       "    <tr>\n",
       "      <th>Autauga, AL</th>\n",
       "      <td>30.92</td>\n",
       "      <td>31.7</td>\n",
       "      <td>57623</td>\n",
       "      <td>15768</td>\n",
       "      <td>15.2</td>\n",
       "      <td>10.74</td>\n",
       "      <td>51.41</td>\n",
       "      <td>60.4</td>\n",
       "      <td>2.36</td>\n",
       "      <td>457</td>\n",
       "      <td>0.0</td>\n",
       "    </tr>\n",
       "    <tr>\n",
       "      <th>Baldwin, AL</th>\n",
       "      <td>26.24</td>\n",
       "      <td>35.5</td>\n",
       "      <td>84935</td>\n",
       "      <td>16954</td>\n",
       "      <td>13.6</td>\n",
       "      <td>9.73</td>\n",
       "      <td>51.34</td>\n",
       "      <td>66.5</td>\n",
       "      <td>5.40</td>\n",
       "      <td>282</td>\n",
       "      <td>0.0</td>\n",
       "    </tr>\n",
       "    <tr>\n",
       "      <th>Barbour, AL</th>\n",
       "      <td>46.36</td>\n",
       "      <td>32.8</td>\n",
       "      <td>83656</td>\n",
       "      <td>15532</td>\n",
       "      <td>25.0</td>\n",
       "      <td>8.82</td>\n",
       "      <td>53.03</td>\n",
       "      <td>28.8</td>\n",
       "      <td>7.02</td>\n",
       "      <td>47</td>\n",
       "      <td>1.0</td>\n",
       "    </tr>\n",
       "    <tr>\n",
       "      <th>Blount, AL</th>\n",
       "      <td>32.92</td>\n",
       "      <td>34.5</td>\n",
       "      <td>61249</td>\n",
       "      <td>14820</td>\n",
       "      <td>15.0</td>\n",
       "      <td>9.67</td>\n",
       "      <td>51.15</td>\n",
       "      <td>62.4</td>\n",
       "      <td>2.36</td>\n",
       "      <td>185</td>\n",
       "      <td>0.0</td>\n",
       "    </tr>\n",
       "    <tr>\n",
       "      <th>Bullock, AL</th>\n",
       "      <td>67.67</td>\n",
       "      <td>31.7</td>\n",
       "      <td>75725</td>\n",
       "      <td>11120</td>\n",
       "      <td>33.0</td>\n",
       "      <td>7.08</td>\n",
       "      <td>50.76</td>\n",
       "      <td>17.6</td>\n",
       "      <td>2.91</td>\n",
       "      <td>141</td>\n",
       "      <td>1.0</td>\n",
       "    </tr>\n",
       "  </tbody>\n",
       "</table>\n",
       "</div>"
      ],
      "text/plain": [
       "              percentVoting  Median Age  Mean Savings ($)  \\\n",
       "County Names                                                \n",
       "Autauga, AL           30.92        31.7             57623   \n",
       "Baldwin, AL           26.24        35.5             84935   \n",
       "Barbour, AL           46.36        32.8             83656   \n",
       "Blount, AL            32.92        34.5             61249   \n",
       "Bullock, AL           67.67        31.7             75725   \n",
       "\n",
       "              PerCapita Income ($)  Percent in Poverty  Percent Veterans  \\\n",
       "County Names                                                               \n",
       "Autauga, AL                  15768                15.2             10.74   \n",
       "Baldwin, AL                  16954                13.6              9.73   \n",
       "Barbour, AL                  15532                25.0              8.82   \n",
       "Blount, AL                   14820                15.0              9.67   \n",
       "Bullock, AL                  11120                33.0              7.08   \n",
       "\n",
       "              Percent Female  Population Density  Percent in Nursing Homes  \\\n",
       "County Names                                                                 \n",
       "Autauga, AL            51.41                60.4                      2.36   \n",
       "Baldwin, AL            51.34                66.5                      5.40   \n",
       "Barbour, AL            53.03                28.8                      7.02   \n",
       "Blount, AL             51.15                62.4                      2.36   \n",
       "Bullock, AL            50.76                17.6                      2.91   \n",
       "\n",
       "              Crime Index (Per capita)  target  \n",
       "County Names                                    \n",
       "Autauga, AL                        457     0.0  \n",
       "Baldwin, AL                        282     0.0  \n",
       "Barbour, AL                         47     1.0  \n",
       "Blount, AL                         185     0.0  \n",
       "Bullock, AL                        141     1.0  "
      ]
     },
     "execution_count": 17,
     "metadata": {},
     "output_type": "execute_result"
    }
   ],
   "source": [
    "df1['target'] = 0.0\n",
    "mask = df1['percentVoting'] >= 40.0\n",
    "df1.loc[mask, 'target'] = 1.0\n",
    "df1[:5]"
   ]
  },
  {
   "cell_type": "markdown",
   "metadata": {},
   "source": [
    "# Question 10"
   ]
  },
  {
   "cell_type": "code",
   "execution_count": 25,
   "metadata": {},
   "outputs": [
    {
     "data": {
      "text/plain": [
       "array([ 0.,  1.,  1.,  0.,  1.])"
      ]
     },
     "execution_count": 25,
     "metadata": {},
     "output_type": "execute_result"
    }
   ],
   "source": [
    "Y, X = dmatrices('target ~ 0+ Q(\"Percent in Poverty\")+Q(\"Population Density\")', df1, return_type = 'dataframe')\n",
    "y = Y['target'].values\n",
    "from sklearn.model_selection import train_test_split\n",
    "X_train, X_test, y_train, y_test = train_test_split(X, y, test_size=0.3, random_state=1)"
   ]
  },
  {
   "cell_type": "markdown",
   "metadata": {},
   "source": [
    "# Question 11"
   ]
  },
  {
   "cell_type": "code",
   "execution_count": 32,
   "metadata": {},
   "outputs": [
    {
     "name": "stdout",
     "output_type": "stream",
     "text": [
      "On training data: \n",
      "With 1 near neighbors, the model makes predictions with 0.997885835095 accuracy.\n",
      "With 3 near neighbors, the model makes predictions with 0.788054968288 accuracy.\n",
      "With 5 near neighbors, the model makes predictions with 0.748414376321 accuracy.\n",
      "With 10 near neighbors, the model makes predictions with 0.720401691332 accuracy.\n",
      "With 20 near neighbors, the model makes predictions with 0.690274841438 accuracy.\n",
      "With 50 near neighbors, the model makes predictions with 0.683932346723 accuracy.\n",
      "With 100 near neighbors, the model makes predictions with 0.677589852008 accuracy.\n",
      "With 1000 near neighbors, the model makes predictions with 0.567124735729 accuracy.\n",
      "\n",
      "On testing data: \n",
      "With 1 near neighbors, the model makes predictions with 0.600985221675 accuracy.\n",
      "With 3 near neighbors, the model makes predictions with 0.635467980296 accuracy.\n",
      "With 5 near neighbors, the model makes predictions with 0.630541871921 accuracy.\n",
      "With 10 near neighbors, the model makes predictions with 0.646551724138 accuracy.\n",
      "With 20 near neighbors, the model makes predictions with 0.658866995074 accuracy.\n",
      "With 50 near neighbors, the model makes predictions with 0.662561576355 accuracy.\n",
      "With 100 near neighbors, the model makes predictions with 0.663793103448 accuracy.\n",
      "With 1000 near neighbors, the model makes predictions with 0.576354679803 accuracy.\n"
     ]
    }
   ],
   "source": [
    "from sklearn import neighbors\n",
    "from sklearn import metrics\n",
    "def nearneighbor(nums):\n",
    "    model = neighbors.KNeighborsClassifier(n_neighbors=nums,\n",
    "                                       weights='uniform',\n",
    "                                       p=2)\n",
    "    return model\n",
    "\n",
    "\n",
    "numn = [1,3,5,10,20,50,100,1000]\n",
    "print (\"On training data: \")\n",
    "for item in numn:\n",
    "    model = nearneighbor(item)\n",
    "    model.fit (X_train, y_train)\n",
    "    prediction_on_training = model.predict (X_train)\n",
    "    print ('With '+str(item)+\" near neighbors, the model makes predictions with \"+ str(metrics.accuracy_score(y_train,prediction_on_training))+\" accuracy.\")\n",
    "\n",
    "print \n",
    "print (\"On testing data: \")\n",
    "for item in numn:\n",
    "    model = nearneighbor(item)\n",
    "    model.fit (X_train, y_train)\n",
    "    prediction_on_training = model.predict (X_test)\n",
    "    print ('With '+str(item)+\" near neighbors, the model makes predictions with \"+ str(metrics.accuracy_score(y_test,prediction_on_training))+\" accuracy.\")\n"
   ]
  },
  {
   "cell_type": "markdown",
   "metadata": {},
   "source": [
    "# Quesiton 12"
   ]
  },
  {
   "cell_type": "code",
   "execution_count": 34,
   "metadata": {},
   "outputs": [
    {
     "data": {
      "text/plain": [
       "Text(0,0.5,u'Population Density')"
      ]
     },
     "execution_count": 34,
     "metadata": {},
     "output_type": "execute_result"
    },
    {
     "data": {
      "image/png": "[encoded data removed]",
      "text/plain": [
       "<matplotlib.figure.Figure at 0x13dfba20>"
      ]
     },
     "metadata": {},
     "output_type": "display_data"
    }
   ],
   "source": [
    "sc = scatter(df1['Percent in Poverty'],df1['Population Density'],c=y,cmap = 'bwr')\n",
    "colorbar(sc)\n",
    "xlabel(\"Percent in Poverty\")\n",
    "ylabel('Population Density')"
   ]
  },
  {
   "cell_type": "markdown",
   "metadata": {},
   "source": [
    "# Seems like counties with a larger percent of the population in poverty and living close together tend to vote for Clinton.\n"
   ]
  },
  {
   "cell_type": "code",
   "execution_count": null,
   "metadata": {
    "collapsed": true
   },
   "outputs": [],
   "source": []
  }
 ],
 "metadata": {
  "kernelspec": {
   "display_name": "Python 2",
   "language": "python",
   "name": "python2"
  },
  "language_info": {
   "codemirror_mode": {
    "name": "ipython",
    "version": 2
   },
   "file_extension": ".py",
   "mimetype": "text/x-python",
   "name": "python",
   "nbconvert_exporter": "python",
   "pygments_lexer": "ipython2",
   "version": "2.7.14"
  }
 },
 "nbformat": 4,
 "nbformat_minor": 2
}
