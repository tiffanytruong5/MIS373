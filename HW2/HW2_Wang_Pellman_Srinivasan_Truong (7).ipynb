{
 "cells": [
  {
   "cell_type": "markdown",
   "metadata": {},
   "source": [
    "### HW2: Kevin Wang, Maddie Pellman, Varun Srinivasan, Tiffany Truong\n",
    "Analyze restaurant inspections in NYC, starting November 1, 2014 and ending January 31, 2015.\n",
    "### Setup\n",
    "    1. Import pandas as pd\n",
    "    2. Import matplotlib for plotting\n",
    "    3. Read NYC_Restaurants.csv"
   ]
  },
  {
   "cell_type": "code",
   "execution_count": 5,
   "metadata": {
    "collapsed": true
   },
   "outputs": [],
   "source": [
    "import pandas as pd\n",
    "from pandas import Series, DataFrame\n",
    "%matplotlib inline\n",
    "import matplotlib\n",
    "\n",
    "#unicode tells Pandas to treat all columns as strings (instead of integers/dates/etc.)\n",
    "df = pd.read_csv('NYC_Restaurants.csv', dtype=unicode)"
   ]
  },
  {
   "cell_type": "markdown",
   "metadata": {},
   "source": [
    "Populating namespace from numpy and matplotlib"
   ]
  },
  {
   "cell_type": "markdown",
   "metadata": {},
   "source": [
    "### Question 1: Create a unique name for each restaurant\n",
    "Create a new column called 'RESTAURANT' and add values from DBA, BUILDING, STREET, and ZIP-CODE columns. Find the unique names for each restaurant and proceed to print out first 10 values of RESTAURANT column."
   ]
  },
  {
   "cell_type": "code",
   "execution_count": 6,
   "metadata": {},
   "outputs": [
    {
     "name": "stdout",
     "output_type": "stream",
     "text": [
      "[\"WENDY'S 469 FLATBUSH AVENUE 11225\"\n",
      " 'TOV KOSHER KITCHEN 97-22 63 ROAD 11374'\n",
      " 'BRUNOS ON THE BOULEVARD 8825 ASTORIA BOULEVARD 11369'\n",
      " 'MAY MAY KITCHEN 1269 SUTTER AVENUE 11208'\n",
      " 'SEUDA FOODS 705 KINGS HIGHWAY 11223'\n",
      " 'CARVEL ICE CREAM 203 CHURCH AVENUE 11218'\n",
      " 'NORDIC DELICACIES 6909 3 AVENUE 11209'\n",
      " 'GLORIOUS FOOD 522 EAST   74 STREET 10021'\n",
      " 'THE MOVABLE FEAST 284 PROSPECT PARK WEST 11215'\n",
      " \"BULLY'S DELI 759 BROADWAY 10003\"]\n"
     ]
    }
   ],
   "source": [
    "df['RESTAURANT'] = df['DBA'] + \" \" + df['BUILDING'] + \" \" + df[\"STREET\"] + \" \" + df['ZIPCODE']\n",
    "\n",
    "restaurants = df['RESTAURANT'].unique() #create unique name for each restaurant\n",
    "print restaurants[0:10]"
   ]
  },
  {
   "cell_type": "markdown",
   "metadata": {},
   "source": [
    "### Question 2: How many restaurants are included in the data?\n",
    "Print out the count of unique locations in RESTAURANT column by using len function."
   ]
  },
  {
   "cell_type": "code",
   "execution_count": 7,
   "metadata": {},
   "outputs": [
    {
     "name": "stdout",
     "output_type": "stream",
     "text": [
      "There are 10114 restaurants included in the data\n"
     ]
    }
   ],
   "source": [
    "print \"There are \" + str(len(restaurants)) + \" restaurants included in the data\""
   ]
  },
  {
   "cell_type": "markdown",
   "metadata": {},
   "source": [
    "### Question 3: How many chains are there?\n",
    "A chain is the same restaurant name occurring in at least two different addresses (building, street, zipcode). \n",
    "\n",
    "    1. Create a new column to df called ADDRESS that will store each row's address\n",
    "    2. Create a new df unique_addresses with DBA, ADDRESS, and BORO. Apply  drop_duplicates() so that there will only be one row for each address\n",
    "    3. Create a mask that determines whether a restaurant is a standalone or chain (duplicated)\n",
    "    4. Create series that keeps one restaurant name per chain and drops standalones.\n",
    "    5. Print out the length of the unique chains (aka amount of chains).\n"
   ]
  },
  {
   "cell_type": "code",
   "execution_count": 9,
   "metadata": {},
   "outputs": [
    {
     "name": "stdout",
     "output_type": "stream",
     "text": [
      "There are 368 chains\n"
     ]
    }
   ],
   "source": [
    "df['ADDRESS'] = df['BUILDING'] +  \" \" + df['STREET'] +  \" \" + df['ZIPCODE']\n",
    "unique_addresses = df[['DBA', 'ADDRESS', 'BORO']].drop_duplicates()\n",
    "chains_mask = unique_addresses['DBA'].duplicated()\n",
    "chain_series = unique_addresses['DBA'][chains_mask].unique()\n",
    "print \"There are \" + str(len(chain_series)) + \" chains\""
   ]
  },
  {
   "cell_type": "markdown",
   "metadata": {},
   "source": [
    "### Question 4: Plot a bar graph of the 20 most popular chains\n",
    "    1. Get chain location addresses from unique_addresses that are in chain_series\n",
    "    2. Use value_counts() to find count of each chain\n",
    "    3. Plot 20 most popular chains by looking at counts"
   ]
  },
  {
   "cell_type": "code",
   "execution_count": 10,
   "metadata": {},
   "outputs": [
    {
     "data": {
      "text/plain": [
       "<matplotlib.axes._subplots.AxesSubplot at 0x1117c1950>"
      ]
     },
     "execution_count": 10,
     "metadata": {},
     "output_type": "execute_result"
    },
    {
     "data": {
      "image/png": "[encoded data removed]",
      "text/plain": [
       "<matplotlib.figure.Figure at 0x110c593d0>"
      ]
     },
     "metadata": {},
     "output_type": "display_data"
    }
   ],
   "source": [
    "chain_addresses = unique_addresses[unique_addresses['DBA'].isin(chain_series)].sort_values('DBA')\n",
    "#print len(chain_addresses)\n",
    "chain_count = chain_addresses['DBA'].value_counts()\n",
    "chain_count[:20].plot(kind='bar')"
   ]
  },
  {
   "cell_type": "markdown",
   "metadata": {},
   "source": [
    "### Question 5: What fraction of all restaurants are chains?\n",
    "Divide the length of chain_addresses over length of unique_addresses"
   ]
  },
  {
   "cell_type": "code",
   "execution_count": 11,
   "metadata": {},
   "outputs": [
    {
     "name": "stdout",
     "output_type": "stream",
     "text": [
      "16.4722167293% of all restaurants are chains\n"
     ]
    }
   ],
   "source": [
    "chain_fraction = (float(len(chain_addresses['DBA'])) / len(unique_addresses['DBA']))\n",
    "chain_percentage = chain_fraction*100\n",
    "print str(chain_percentage) + \"% of all restaurants are chains\""
   ]
  },
  {
   "cell_type": "markdown",
   "metadata": {},
   "source": [
    "### Question 6: Plot the number of non-chain restaurants in each boro"
   ]
  },
  {
   "cell_type": "markdown",
   "metadata": {},
   "source": [
    "1. Find the restaurant count \n",
    "2. Create a mask where restaurant count = 1\n",
    "3. Get new df where restaurant count = 1 (apply mask) \n",
    "4. Do value_counts on new frame, based on Boro, and plot "
   ]
  },
  {
   "cell_type": "code",
   "execution_count": 12,
   "metadata": {},
   "outputs": [
    {
     "data": {
      "text/plain": [
       "<matplotlib.axes._subplots.AxesSubplot at 0x111385150>"
      ]
     },
     "execution_count": 12,
     "metadata": {},
     "output_type": "execute_result"
    },
    {
     "data": {
      "image/png": "[encoded data removed]",
      "text/plain": [
       "<matplotlib.figure.Figure at 0x10f8589d0>"
      ]
     },
     "metadata": {},
     "output_type": "display_data"
    }
   ],
   "source": [
    "restaurant_count = unique_addresses['DBA'].value_counts()\n",
    "mask = (restaurant_count == 1)\n",
    "non_chains = restaurant_count[mask]\n",
    "non_chain_addresses = unique_addresses[unique_addresses['DBA'].isin(non_chains.index)].sort_values('DBA')\n",
    "non_chain_addresses['BORO'].value_counts().drop(\"Missing\").plot(kind='bar') "
   ]
  },
  {
   "cell_type": "markdown",
   "metadata": {},
   "source": [
    "### Question 7: Plot the fraction of non-chain restaurants in each boro"
   ]
  },
  {
   "cell_type": "markdown",
   "metadata": {},
   "source": [
    "1. Find chain restaurant and non-chain restaurant totals in each boro\n",
    "2. Find total restauarants in each boro\n",
    "3. Divide non-chain restautants by total restaurants and plot\n",
    "\n",
    "The boro with the most independent restaurants, Manhattan, is NOT the one with the highest ratio of independent restaurants, Brooklyn. "
   ]
  },
  {
   "cell_type": "code",
   "execution_count": 13,
   "metadata": {},
   "outputs": [
    {
     "data": {
      "text/plain": [
       "<matplotlib.axes._subplots.AxesSubplot at 0x113da6d90>"
      ]
     },
     "execution_count": 13,
     "metadata": {},
     "output_type": "execute_result"
    },
    {
     "data": {
      "image/png": "[encoded data removed]",
      "text/plain": [
       "<matplotlib.figure.Figure at 0x111670c50>"
      ]
     },
     "metadata": {},
     "output_type": "display_data"
    }
   ],
   "source": [
    "non_chain = non_chain_addresses['BORO'].value_counts().drop(\"Missing\")\n",
    "chain = chain_addresses['BORO'].value_counts().drop(\"Missing\")\n",
    "total_restaurants = chain+non_chain\n",
    "(non_chain/total_restaurants).sort_values(ascending=False).plot(kind='bar')\n",
    "\n",
    "\n"
   ]
  },
  {
   "cell_type": "markdown",
   "metadata": {},
   "source": [
    "### Question 8: Plot the popularity of cuisines"
   ]
  },
  {
   "cell_type": "markdown",
   "metadata": {},
   "source": [
    "1. Create new dataframe that does NOT repeat restaurants\n",
    "2. Using value counts, plot the popularity of the cuisines. "
   ]
  },
  {
   "cell_type": "code",
   "execution_count": 30,
   "metadata": {},
   "outputs": [
    {
     "data": {
      "text/plain": [
       "<matplotlib.axes._subplots.AxesSubplot at 0x116bd0f10>"
      ]
     },
     "execution_count": 30,
     "metadata": {},
     "output_type": "execute_result"
    },
    {
     "data": {
      "image/png": "[encoded data removed]",
      "text/plain": [
       "<matplotlib.figure.Figure at 0x113adbfd0>"
      ]
     },
     "metadata": {},
     "output_type": "display_data"
    }
   ],
   "source": [
    "unique_restaurant_name = df.drop_duplicates(subset = 'DBA')\n",
    "popularity_of_cuisines = unique_restaurant_name['CUISINE DESCRIPTION'].value_counts()\n",
    "popularity_of_cuisines[:20].plot(kind='bar')\n"
   ]
  },
  {
   "cell_type": "markdown",
   "metadata": {},
   "source": [
    "### Question 9: Plot the cuisines among restaurants which do not get cited for violations"
   ]
  },
  {
   "cell_type": "markdown",
   "metadata": {},
   "source": [
    "1. Find all restaurant/cuisine combinations where there is no violation\n",
    "2. Plot the dataframe based on cuisine description"
   ]
  },
  {
   "cell_type": "code",
   "execution_count": 32,
   "metadata": {},
   "outputs": [
    {
     "data": {
      "text/plain": [
       "<matplotlib.axes._subplots.AxesSubplot at 0x116e85f90>"
      ]
     },
     "execution_count": 32,
     "metadata": {},
     "output_type": "execute_result"
    },
    {
     "data": {
      "image/png": "[encoded data removed]",
      "text/plain": [
       "<matplotlib.figure.Figure at 0x1171ffa90>"
      ]
     },
     "metadata": {},
     "output_type": "display_data"
    }
   ],
   "source": [
    "\n",
    "no_violations_mask = unique_restaurant_name['VIOLATION DESCRIPTION'].isnull()\n",
    "restuarant_cuisine = unique_restaurant_name[no_violations_mask][['RESTAURANT','CUISINE DESCRIPTION']]\n",
    "not_cited = restuarant_cuisine['CUISINE DESCRIPTION'].value_counts()\n",
    "not_cited[:20].plot(kind='bar')"
   ]
  },
  {
   "cell_type": "markdown",
   "metadata": {},
   "source": [
    "### Question 10: What cuisines tend to be the \"cleanest\"?"
   ]
  },
  {
   "cell_type": "markdown",
   "metadata": {},
   "source": [
    "1. create function to find cuisines that have more than 20 inspections\n",
    "2. use function to make mask\n",
    "3. Apply mask to series from problem 8 and problem 9 and divide the two by each other\n",
    "4. sort the values and show only top 10 \"cleanest\" restaurants\n"
   ]
  },
  {
   "cell_type": "code",
   "execution_count": 52,
   "metadata": {},
   "outputs": [
    {
     "data": {
      "text/plain": [
       "Vietnamese/Cambodian/Malaysia     0.100000\n",
       "Soul Food                         0.090909\n",
       "Other                             0.073684\n",
       "Sandwiches/Salads/Mixed Buffet    0.061224\n",
       "Irish                             0.057143\n",
       "Continental                       0.050000\n",
       "Barbecue                          0.050000\n",
       "Asian                             0.049645\n",
       "Hamburgers                        0.047619\n",
       "Donuts                            0.045455\n",
       "Name: CUISINE DESCRIPTION, dtype: float64"
      ]
     },
     "execution_count": 52,
     "metadata": {},
     "output_type": "execute_result"
    }
   ],
   "source": [
    "def more_than_20(num):\n",
    "    return num >= 20\n",
    "\n",
    "cuisine_counts = unique_restaurant_name['CUISINE DESCRIPTION'].value_counts()\n",
    "mask = cuisine_counts.map(more_than_20)\n",
    "\n",
    "cleanest_cuisines = (not_cited[mask]/popularity_of_cuisines[mask]).sort_values(ascending=False)\n",
    "cleanest_cuisines[cleanest_cuisines.notnull()][:10]\n",
    "\n",
    "\n",
    "\n",
    "\n",
    "#I can't figure out what this quesiton is asking. Are these unique restaurants, or just inspections regardless of how many times\n",
    "#per restaurant. Also is some inspection 1 or more, or is it all? Need clarification."
   ]
  },
  {
   "cell_type": "markdown",
   "metadata": {},
   "source": [
    "### Question 11: What are the most common violations in each borough?"
   ]
  },
  {
   "cell_type": "code",
   "execution_count": 58,
   "metadata": {},
   "outputs": [
    {
     "data": {
      "text/html": [
       "<div>\n",
       "<style>\n",
       "    .dataframe thead tr:only-child th {\n",
       "        text-align: right;\n",
       "    }\n",
       "\n",
       "    .dataframe thead th {\n",
       "        text-align: left;\n",
       "    }\n",
       "\n",
       "    .dataframe tbody tr th {\n",
       "        vertical-align: top;\n",
       "    }\n",
       "</style>\n",
       "<table border=\"1\" class=\"dataframe\">\n",
       "  <thead>\n",
       "    <tr style=\"text-align: right;\">\n",
       "      <th>BORO</th>\n",
       "      <th>BRONX</th>\n",
       "      <th>BROOKLYN</th>\n",
       "      <th>MANHATTAN</th>\n",
       "      <th>Missing</th>\n",
       "      <th>QUEENS</th>\n",
       "      <th>STATEN ISLAND</th>\n",
       "    </tr>\n",
       "    <tr>\n",
       "      <th>VIOLATION DESCRIPTION</th>\n",
       "      <th></th>\n",
       "      <th></th>\n",
       "      <th></th>\n",
       "      <th></th>\n",
       "      <th></th>\n",
       "      <th></th>\n",
       "    </tr>\n",
       "  </thead>\n",
       "  <tbody>\n",
       "    <tr>\n",
       "      <th>\u001aChoking first aid\u001a poster not posted. \u001aAlcohol and pregnancy\u001a warning sign not posted. Resuscitation equipment: exhaled air resuscitation masks (adult &amp; pediatric), latex gloves, sign not posted. Inspection report sign not posted.</th>\n",
       "      <td>12</td>\n",
       "      <td>40</td>\n",
       "      <td>49</td>\n",
       "      <td>0</td>\n",
       "      <td>29</td>\n",
       "      <td>5</td>\n",
       "    </tr>\n",
       "    <tr>\n",
       "      <th>''''No Smoking\u001a and/or 'Smoking Permitted\u001a sign not conspicuously posted. Health warning not present on 'Smoking Permitted\u001a</th>\n",
       "      <td>1</td>\n",
       "      <td>5</td>\n",
       "      <td>6</td>\n",
       "      <td>0</td>\n",
       "      <td>4</td>\n",
       "      <td>1</td>\n",
       "    </tr>\n",
       "    <tr>\n",
       "      <th>''''Wash hands\u001a sign not posted at hand wash facility.</th>\n",
       "      <td>21</td>\n",
       "      <td>57</td>\n",
       "      <td>93</td>\n",
       "      <td>1</td>\n",
       "      <td>60</td>\n",
       "      <td>8</td>\n",
       "    </tr>\n",
       "    <tr>\n",
       "      <th>A food containing artificial trans fat, with 0.5 grams or more of trans fat per serving, is being stored, distributed, held for service, used in preparation of a menu item, or served.</th>\n",
       "      <td>5</td>\n",
       "      <td>12</td>\n",
       "      <td>19</td>\n",
       "      <td>0</td>\n",
       "      <td>24</td>\n",
       "      <td>3</td>\n",
       "    </tr>\n",
       "    <tr>\n",
       "      <th>Accurate thermometer not provided in refrigerated or hot holding equipment.</th>\n",
       "      <td>21</td>\n",
       "      <td>76</td>\n",
       "      <td>98</td>\n",
       "      <td>0</td>\n",
       "      <td>92</td>\n",
       "      <td>16</td>\n",
       "    </tr>\n",
       "    <tr>\n",
       "      <th>Appropriately scaled metal stem-type thermometer or thermocouple not provided or used to evaluate temperatures of potentially hazardous foods during cooking, cooling, reheating and holding.</th>\n",
       "      <td>27</td>\n",
       "      <td>120</td>\n",
       "      <td>162</td>\n",
       "      <td>0</td>\n",
       "      <td>85</td>\n",
       "      <td>17</td>\n",
       "    </tr>\n",
       "    <tr>\n",
       "      <th>Ashtray present in smoke-free area.</th>\n",
       "      <td>4</td>\n",
       "      <td>4</td>\n",
       "      <td>5</td>\n",
       "      <td>0</td>\n",
       "      <td>8</td>\n",
       "      <td>1</td>\n",
       "    </tr>\n",
       "    <tr>\n",
       "      <th>Bulb not shielded or shatterproof, in areas where there is extreme heat, temperature changes, or where accidental contact may occur.</th>\n",
       "      <td>20</td>\n",
       "      <td>93</td>\n",
       "      <td>168</td>\n",
       "      <td>0</td>\n",
       "      <td>80</td>\n",
       "      <td>10</td>\n",
       "    </tr>\n",
       "    <tr>\n",
       "      <th>Caloric content not posted on menus, menu boards or food tags, in a food service establishment that is 1 of 15 or more outlets operating the same type of business nationally under common ownership or control, or as a franchise or doing business under the same name, for each menu item that is served in portions, the size and content of which are standardized.</th>\n",
       "      <td>0</td>\n",
       "      <td>4</td>\n",
       "      <td>6</td>\n",
       "      <td>0</td>\n",
       "      <td>5</td>\n",
       "      <td>1</td>\n",
       "    </tr>\n",
       "    <tr>\n",
       "      <th>Caloric content range (minimum to maximum) not posted on menus and or menu boards for each flavor, variety and size of each menu item that is offered for sale in different flavors, varieties and sizes.</th>\n",
       "      <td>0</td>\n",
       "      <td>0</td>\n",
       "      <td>0</td>\n",
       "      <td>0</td>\n",
       "      <td>1</td>\n",
       "      <td>0</td>\n",
       "    </tr>\n",
       "    <tr>\n",
       "      <th>Canned food product observed dented and not segregated from other consumable food items.</th>\n",
       "      <td>16</td>\n",
       "      <td>33</td>\n",
       "      <td>76</td>\n",
       "      <td>0</td>\n",
       "      <td>44</td>\n",
       "      <td>3</td>\n",
       "    </tr>\n",
       "    <tr>\n",
       "      <th>Canned food product observed swollen, leaking or rusted, and not segregated from other consumable food items .</th>\n",
       "      <td>0</td>\n",
       "      <td>2</td>\n",
       "      <td>2</td>\n",
       "      <td>0</td>\n",
       "      <td>1</td>\n",
       "      <td>0</td>\n",
       "    </tr>\n",
       "    <tr>\n",
       "      <th>Cold food item held above 41º F (smoked fish and reduced oxygen packaged foods above 38 ºF) except during necessary preparation.</th>\n",
       "      <td>168</td>\n",
       "      <td>635</td>\n",
       "      <td>1232</td>\n",
       "      <td>1</td>\n",
       "      <td>621</td>\n",
       "      <td>118</td>\n",
       "    </tr>\n",
       "    <tr>\n",
       "      <th>Covered garbage receptacle not provided or inadequate, except that garbage receptacle may be uncovered during active use. Garbage storage area not properly constructed or maintained; grinder or compactor dirty.</th>\n",
       "      <td>7</td>\n",
       "      <td>35</td>\n",
       "      <td>65</td>\n",
       "      <td>0</td>\n",
       "      <td>24</td>\n",
       "      <td>4</td>\n",
       "    </tr>\n",
       "    <tr>\n",
       "      <th>Current letter grade card not posted.</th>\n",
       "      <td>22</td>\n",
       "      <td>61</td>\n",
       "      <td>176</td>\n",
       "      <td>0</td>\n",
       "      <td>51</td>\n",
       "      <td>15</td>\n",
       "    </tr>\n",
       "    <tr>\n",
       "      <th>Duties of an officer of the Department interfered with or obstructed.</th>\n",
       "      <td>2</td>\n",
       "      <td>3</td>\n",
       "      <td>2</td>\n",
       "      <td>0</td>\n",
       "      <td>1</td>\n",
       "      <td>0</td>\n",
       "    </tr>\n",
       "    <tr>\n",
       "      <th>Eggs found dirty/cracked; liquid, frozen or powdered eggs not pasteurized.</th>\n",
       "      <td>0</td>\n",
       "      <td>3</td>\n",
       "      <td>4</td>\n",
       "      <td>0</td>\n",
       "      <td>3</td>\n",
       "      <td>1</td>\n",
       "    </tr>\n",
       "    <tr>\n",
       "      <th>Evidence of mice or live mice present in facility's food and/or non-food areas.</th>\n",
       "      <td>313</td>\n",
       "      <td>937</td>\n",
       "      <td>1228</td>\n",
       "      <td>1</td>\n",
       "      <td>776</td>\n",
       "      <td>103</td>\n",
       "    </tr>\n",
       "    <tr>\n",
       "      <th>Evidence of rats or live rats present in facility's food and/or non-food areas.</th>\n",
       "      <td>40</td>\n",
       "      <td>93</td>\n",
       "      <td>133</td>\n",
       "      <td>0</td>\n",
       "      <td>42</td>\n",
       "      <td>4</td>\n",
       "    </tr>\n",
       "    <tr>\n",
       "      <th>Facility not vermin proof. Harborage or conditions conducive to attracting vermin to the premises and/or allowing vermin to exist.</th>\n",
       "      <td>452</td>\n",
       "      <td>1242</td>\n",
       "      <td>1890</td>\n",
       "      <td>2</td>\n",
       "      <td>1107</td>\n",
       "      <td>128</td>\n",
       "    </tr>\n",
       "    <tr>\n",
       "      <th>Failure to comply with an Order of the Board of Health, Commissioner, or Department.</th>\n",
       "      <td>2</td>\n",
       "      <td>6</td>\n",
       "      <td>8</td>\n",
       "      <td>0</td>\n",
       "      <td>0</td>\n",
       "      <td>0</td>\n",
       "    </tr>\n",
       "    <tr>\n",
       "      <th>Filth flies or food/refuse/sewage-associated (FRSA) flies present in facility\u001as food and/or non-food areas. Filth flies include house flies, little house flies, blow flies, bottle flies and flesh flies. Food/refuse/sewage-associated flies include fruit flies, drain flies and Phorid flies.</th>\n",
       "      <td>178</td>\n",
       "      <td>392</td>\n",
       "      <td>881</td>\n",
       "      <td>1</td>\n",
       "      <td>388</td>\n",
       "      <td>46</td>\n",
       "    </tr>\n",
       "    <tr>\n",
       "      <th>Flavored tobacco products sold or offered for sale.</th>\n",
       "      <td>4</td>\n",
       "      <td>6</td>\n",
       "      <td>4</td>\n",
       "      <td>0</td>\n",
       "      <td>5</td>\n",
       "      <td>0</td>\n",
       "    </tr>\n",
       "    <tr>\n",
       "      <th>Food Protection Certificate not held by supervisor of food operations.</th>\n",
       "      <td>90</td>\n",
       "      <td>238</td>\n",
       "      <td>297</td>\n",
       "      <td>1</td>\n",
       "      <td>230</td>\n",
       "      <td>33</td>\n",
       "    </tr>\n",
       "    <tr>\n",
       "      <th>Food allergy information poster not conspicuously posted where food is being prepared or processed by food workers.</th>\n",
       "      <td>2</td>\n",
       "      <td>16</td>\n",
       "      <td>14</td>\n",
       "      <td>0</td>\n",
       "      <td>7</td>\n",
       "      <td>0</td>\n",
       "    </tr>\n",
       "    <tr>\n",
       "      <th>Food allergy information poster not posted in language understood by all food workers.</th>\n",
       "      <td>0</td>\n",
       "      <td>0</td>\n",
       "      <td>2</td>\n",
       "      <td>0</td>\n",
       "      <td>1</td>\n",
       "      <td>0</td>\n",
       "    </tr>\n",
       "    <tr>\n",
       "      <th>Food contact surface improperly constructed or located. Unacceptable material used.</th>\n",
       "      <td>1</td>\n",
       "      <td>1</td>\n",
       "      <td>3</td>\n",
       "      <td>0</td>\n",
       "      <td>1</td>\n",
       "      <td>0</td>\n",
       "    </tr>\n",
       "    <tr>\n",
       "      <th>Food contact surface not properly maintained.</th>\n",
       "      <td>42</td>\n",
       "      <td>187</td>\n",
       "      <td>257</td>\n",
       "      <td>0</td>\n",
       "      <td>126</td>\n",
       "      <td>14</td>\n",
       "    </tr>\n",
       "    <tr>\n",
       "      <th>Food contact surface not properly washed, rinsed and sanitized after each use and following any activity when contamination may have occurred.</th>\n",
       "      <td>156</td>\n",
       "      <td>615</td>\n",
       "      <td>1203</td>\n",
       "      <td>6</td>\n",
       "      <td>619</td>\n",
       "      <td>119</td>\n",
       "    </tr>\n",
       "    <tr>\n",
       "      <th>Food from unapproved or unknown source or home canned. Reduced oxygen packaged (ROP) fish not frozen before processing; or ROP foods prepared on premises transported to another site.</th>\n",
       "      <td>2</td>\n",
       "      <td>25</td>\n",
       "      <td>22</td>\n",
       "      <td>0</td>\n",
       "      <td>11</td>\n",
       "      <td>1</td>\n",
       "    </tr>\n",
       "    <tr>\n",
       "      <th>...</th>\n",
       "      <td>...</td>\n",
       "      <td>...</td>\n",
       "      <td>...</td>\n",
       "      <td>...</td>\n",
       "      <td>...</td>\n",
       "      <td>...</td>\n",
       "    </tr>\n",
       "    <tr>\n",
       "      <th>Non-food contact surface improperly constructed. Unacceptable material used. Non-food contact surface or equipment improperly maintained and/or not properly sealed, raised, spaced or movable to allow accessibility for cleaning on all sides, above and underneath the unit.</th>\n",
       "      <td>500</td>\n",
       "      <td>1485</td>\n",
       "      <td>2417</td>\n",
       "      <td>8</td>\n",
       "      <td>1416</td>\n",
       "      <td>230</td>\n",
       "    </tr>\n",
       "    <tr>\n",
       "      <th>Notice of the Department of Board of Health mutilated, obstructed, or removed.</th>\n",
       "      <td>0</td>\n",
       "      <td>2</td>\n",
       "      <td>1</td>\n",
       "      <td>0</td>\n",
       "      <td>0</td>\n",
       "      <td>0</td>\n",
       "    </tr>\n",
       "    <tr>\n",
       "      <th>Nuisance created or allowed to exist. Facility not free from unsafe, hazardous, offensive or annoying conditions.</th>\n",
       "      <td>6</td>\n",
       "      <td>37</td>\n",
       "      <td>63</td>\n",
       "      <td>0</td>\n",
       "      <td>38</td>\n",
       "      <td>2</td>\n",
       "    </tr>\n",
       "    <tr>\n",
       "      <th>Operator failed to make good faith effort to inform smokers of the Smoke-free Act prohibition of smoking.</th>\n",
       "      <td>5</td>\n",
       "      <td>2</td>\n",
       "      <td>0</td>\n",
       "      <td>0</td>\n",
       "      <td>4</td>\n",
       "      <td>0</td>\n",
       "    </tr>\n",
       "    <tr>\n",
       "      <th>Original label for tobacco products sold or offered for sale.</th>\n",
       "      <td>0</td>\n",
       "      <td>2</td>\n",
       "      <td>4</td>\n",
       "      <td>0</td>\n",
       "      <td>3</td>\n",
       "      <td>0</td>\n",
       "    </tr>\n",
       "    <tr>\n",
       "      <th>Out-of package sale of tobacco products observed.</th>\n",
       "      <td>0</td>\n",
       "      <td>0</td>\n",
       "      <td>2</td>\n",
       "      <td>0</td>\n",
       "      <td>0</td>\n",
       "      <td>0</td>\n",
       "    </tr>\n",
       "    <tr>\n",
       "      <th>Permit not conspicuously displayed.</th>\n",
       "      <td>6</td>\n",
       "      <td>4</td>\n",
       "      <td>22</td>\n",
       "      <td>0</td>\n",
       "      <td>4</td>\n",
       "      <td>0</td>\n",
       "    </tr>\n",
       "    <tr>\n",
       "      <th>Personal cleanliness inadequate. Outer garment soiled with possible contaminant.  Effective hair restraint not worn in an area where food is prepared.</th>\n",
       "      <td>43</td>\n",
       "      <td>190</td>\n",
       "      <td>309</td>\n",
       "      <td>0</td>\n",
       "      <td>189</td>\n",
       "      <td>32</td>\n",
       "    </tr>\n",
       "    <tr>\n",
       "      <th>Pesticide use not in accordance with label or applicable laws. Prohibited chemical used/stored. Open bait station used.</th>\n",
       "      <td>41</td>\n",
       "      <td>147</td>\n",
       "      <td>186</td>\n",
       "      <td>1</td>\n",
       "      <td>140</td>\n",
       "      <td>20</td>\n",
       "    </tr>\n",
       "    <tr>\n",
       "      <th>Plumbing not properly installed or maintained; anti-siphonage or backflow prevention device not provided where required; equipment or floor not properly drained; sewage disposal system in disrepair or not functioning properly.</th>\n",
       "      <td>149</td>\n",
       "      <td>490</td>\n",
       "      <td>861</td>\n",
       "      <td>0</td>\n",
       "      <td>502</td>\n",
       "      <td>91</td>\n",
       "    </tr>\n",
       "    <tr>\n",
       "      <th>Potable water supply inadequate. Water or ice not potable or from unapproved source.  Cross connection in potable water supply system observed.</th>\n",
       "      <td>0</td>\n",
       "      <td>0</td>\n",
       "      <td>2</td>\n",
       "      <td>0</td>\n",
       "      <td>0</td>\n",
       "      <td>0</td>\n",
       "    </tr>\n",
       "    <tr>\n",
       "      <th>Precooked potentially hazardous food from commercial food processing establishment that is supposed to be heated, but is not heated to 140º F within 2 hours.</th>\n",
       "      <td>0</td>\n",
       "      <td>5</td>\n",
       "      <td>2</td>\n",
       "      <td>0</td>\n",
       "      <td>0</td>\n",
       "      <td>0</td>\n",
       "    </tr>\n",
       "    <tr>\n",
       "      <th>Proper sanitization not provided for utensil ware washing operation.</th>\n",
       "      <td>53</td>\n",
       "      <td>154</td>\n",
       "      <td>281</td>\n",
       "      <td>0</td>\n",
       "      <td>150</td>\n",
       "      <td>22</td>\n",
       "    </tr>\n",
       "    <tr>\n",
       "      <th>ROP processing equipment not approved by DOHMH.</th>\n",
       "      <td>0</td>\n",
       "      <td>1</td>\n",
       "      <td>2</td>\n",
       "      <td>0</td>\n",
       "      <td>1</td>\n",
       "      <td>0</td>\n",
       "    </tr>\n",
       "    <tr>\n",
       "      <th>Raw food not properly washed prior to serving.</th>\n",
       "      <td>0</td>\n",
       "      <td>0</td>\n",
       "      <td>0</td>\n",
       "      <td>0</td>\n",
       "      <td>1</td>\n",
       "      <td>0</td>\n",
       "    </tr>\n",
       "    <tr>\n",
       "      <th>Raw, cooked or prepared food is adulterated, contaminated, cross-contaminated, or not discarded in accordance with HACCP plan.</th>\n",
       "      <td>50</td>\n",
       "      <td>218</td>\n",
       "      <td>435</td>\n",
       "      <td>1</td>\n",
       "      <td>231</td>\n",
       "      <td>36</td>\n",
       "    </tr>\n",
       "    <tr>\n",
       "      <th>Sanitized equipment or utensil, including in-use food dispensing utensil, improperly used or stored.</th>\n",
       "      <td>48</td>\n",
       "      <td>195</td>\n",
       "      <td>410</td>\n",
       "      <td>0</td>\n",
       "      <td>283</td>\n",
       "      <td>45</td>\n",
       "    </tr>\n",
       "    <tr>\n",
       "      <th>Sewage disposal system improper or unapproved.</th>\n",
       "      <td>1</td>\n",
       "      <td>3</td>\n",
       "      <td>5</td>\n",
       "      <td>0</td>\n",
       "      <td>4</td>\n",
       "      <td>0</td>\n",
       "    </tr>\n",
       "    <tr>\n",
       "      <th>Shellfish not from approved source, improperly tagged/labeled; tags not retained for 90 days.</th>\n",
       "      <td>0</td>\n",
       "      <td>10</td>\n",
       "      <td>8</td>\n",
       "      <td>0</td>\n",
       "      <td>9</td>\n",
       "      <td>2</td>\n",
       "    </tr>\n",
       "    <tr>\n",
       "      <th>Single service item reused, improperly stored, dispensed; not used when required.</th>\n",
       "      <td>27</td>\n",
       "      <td>93</td>\n",
       "      <td>149</td>\n",
       "      <td>0</td>\n",
       "      <td>114</td>\n",
       "      <td>15</td>\n",
       "    </tr>\n",
       "    <tr>\n",
       "      <th>Smoke free workplace smoking policy inadequate, not posted, not provided to employees.</th>\n",
       "      <td>45</td>\n",
       "      <td>222</td>\n",
       "      <td>264</td>\n",
       "      <td>1</td>\n",
       "      <td>154</td>\n",
       "      <td>22</td>\n",
       "    </tr>\n",
       "    <tr>\n",
       "      <th>Thawing procedures improper.</th>\n",
       "      <td>36</td>\n",
       "      <td>109</td>\n",
       "      <td>151</td>\n",
       "      <td>1</td>\n",
       "      <td>100</td>\n",
       "      <td>23</td>\n",
       "    </tr>\n",
       "    <tr>\n",
       "      <th>The original nutritional fact labels and/or ingredient label for a cooking oil, shortening or margarine or food item sold in bulk, or acceptable manufacturer\u001as documentation not maintained on site.</th>\n",
       "      <td>48</td>\n",
       "      <td>125</td>\n",
       "      <td>198</td>\n",
       "      <td>1</td>\n",
       "      <td>151</td>\n",
       "      <td>25</td>\n",
       "    </tr>\n",
       "    <tr>\n",
       "      <th>Tobacco use, eating, or drinking from open container in food preparation, food storage or dishwashing area observed.</th>\n",
       "      <td>22</td>\n",
       "      <td>55</td>\n",
       "      <td>107</td>\n",
       "      <td>0</td>\n",
       "      <td>64</td>\n",
       "      <td>7</td>\n",
       "    </tr>\n",
       "    <tr>\n",
       "      <th>Toilet facility not maintained and provided with toilet paper, waste receptacle and self-closing door.</th>\n",
       "      <td>46</td>\n",
       "      <td>142</td>\n",
       "      <td>225</td>\n",
       "      <td>0</td>\n",
       "      <td>134</td>\n",
       "      <td>14</td>\n",
       "    </tr>\n",
       "    <tr>\n",
       "      <th>Toilet facility not provided for employees or for patrons when required.</th>\n",
       "      <td>2</td>\n",
       "      <td>3</td>\n",
       "      <td>11</td>\n",
       "      <td>0</td>\n",
       "      <td>3</td>\n",
       "      <td>1</td>\n",
       "    </tr>\n",
       "    <tr>\n",
       "      <th>Toilet facility used by women does not have at least one covered garbage receptacle.</th>\n",
       "      <td>1</td>\n",
       "      <td>5</td>\n",
       "      <td>7</td>\n",
       "      <td>0</td>\n",
       "      <td>2</td>\n",
       "      <td>1</td>\n",
       "    </tr>\n",
       "    <tr>\n",
       "      <th>Toxic chemical improperly labeled, stored or used such that food contamination may occur.</th>\n",
       "      <td>2</td>\n",
       "      <td>8</td>\n",
       "      <td>15</td>\n",
       "      <td>0</td>\n",
       "      <td>20</td>\n",
       "      <td>3</td>\n",
       "    </tr>\n",
       "    <tr>\n",
       "      <th>Unprotected food re-served.</th>\n",
       "      <td>1</td>\n",
       "      <td>0</td>\n",
       "      <td>1</td>\n",
       "      <td>0</td>\n",
       "      <td>0</td>\n",
       "      <td>0</td>\n",
       "    </tr>\n",
       "    <tr>\n",
       "      <th>Wiping cloths soiled or not stored in sanitizing solution.</th>\n",
       "      <td>47</td>\n",
       "      <td>198</td>\n",
       "      <td>285</td>\n",
       "      <td>1</td>\n",
       "      <td>168</td>\n",
       "      <td>25</td>\n",
       "    </tr>\n",
       "  </tbody>\n",
       "</table>\n",
       "<p>82 rows × 6 columns</p>\n",
       "</div>"
      ],
      "text/plain": [
       "BORO                                                BRONX  BROOKLYN  \\\n",
       "VIOLATION DESCRIPTION                                                 \n",
       "\u001aChoking first aid\u001a poster not posted. \u001aAlcohol...     12        40   \n",
       "''''No Smoking\u001a and/or 'Smoking Permitted\u001a sign...      1         5   \n",
       "''''Wash hands\u001a sign not posted at hand wash fa...     21        57   \n",
       "A food containing artificial trans fat, with 0....      5        12   \n",
       "Accurate thermometer not provided in refrigerat...     21        76   \n",
       "Appropriately scaled metal stem-type thermomete...     27       120   \n",
       "Ashtray present in smoke-free area.                     4         4   \n",
       "Bulb not shielded or shatterproof, in areas whe...     20        93   \n",
       "Caloric content not posted on menus, menu board...      0         4   \n",
       "Caloric content range (minimum to maximum) not ...      0         0   \n",
       "Canned food product observed dented and not seg...     16        33   \n",
       "Canned food product observed swollen, leaking o...      0         2   \n",
       "Cold food item held above 41º F (smoked fish an...    168       635   \n",
       "Covered garbage receptacle not provided or inad...      7        35   \n",
       "Current letter grade card not posted.                  22        61   \n",
       "Duties of an officer of the Department interfer...      2         3   \n",
       "Eggs found dirty/cracked; liquid, frozen or pow...      0         3   \n",
       "Evidence of mice or live mice present in facili...    313       937   \n",
       "Evidence of rats or live rats present in facili...     40        93   \n",
       "Facility not vermin proof. Harborage or conditi...    452      1242   \n",
       "Failure to comply with an Order of the Board of...      2         6   \n",
       "Filth flies or food/refuse/sewage-associated (F...    178       392   \n",
       "Flavored tobacco products sold or offered for s...      4         6   \n",
       "Food Protection Certificate not held by supervi...     90       238   \n",
       "Food allergy information poster not conspicuous...      2        16   \n",
       "Food allergy information poster not posted in l...      0         0   \n",
       "Food contact surface improperly constructed or ...      1         1   \n",
       "Food contact surface not properly maintained.          42       187   \n",
       "Food contact surface not properly washed, rinse...    156       615   \n",
       "Food from unapproved or unknown source or home ...      2        25   \n",
       "...                                                   ...       ...   \n",
       "Non-food contact surface improperly constructed...    500      1485   \n",
       "Notice of the Department of Board of Health mut...      0         2   \n",
       "Nuisance created or allowed to exist. Facility ...      6        37   \n",
       "Operator failed to make good faith effort to in...      5         2   \n",
       "Original label for tobacco products sold or off...      0         2   \n",
       "Out-of package sale of tobacco products observed.       0         0   \n",
       "Permit not conspicuously displayed.                     6         4   \n",
       "Personal cleanliness inadequate. Outer garment ...     43       190   \n",
       "Pesticide use not in accordance with label or a...     41       147   \n",
       "Plumbing not properly installed or maintained; ...    149       490   \n",
       "Potable water supply inadequate. Water or ice n...      0         0   \n",
       "Precooked potentially hazardous food from comme...      0         5   \n",
       "Proper sanitization not provided for utensil wa...     53       154   \n",
       "ROP processing equipment not approved by DOHMH.         0         1   \n",
       "Raw food not properly washed prior to serving.          0         0   \n",
       "Raw, cooked or prepared food is adulterated, co...     50       218   \n",
       "Sanitized equipment or utensil, including in-us...     48       195   \n",
       "Sewage disposal system improper or unapproved.          1         3   \n",
       "Shellfish not from approved source, improperly ...      0        10   \n",
       "Single service item reused, improperly stored, ...     27        93   \n",
       "Smoke free workplace smoking policy inadequate,...     45       222   \n",
       "Thawing procedures improper.                           36       109   \n",
       "The original nutritional fact labels and/or ing...     48       125   \n",
       "Tobacco use, eating, or drinking from open cont...     22        55   \n",
       "Toilet facility not maintained and provided wit...     46       142   \n",
       "Toilet facility not provided for employees or f...      2         3   \n",
       "Toilet facility used by women does not have at ...      1         5   \n",
       "Toxic chemical improperly labeled, stored or us...      2         8   \n",
       "Unprotected food re-served.                             1         0   \n",
       "Wiping cloths soiled or not stored in sanitizin...     47       198   \n",
       "\n",
       "BORO                                                MANHATTAN  Missing  \\\n",
       "VIOLATION DESCRIPTION                                                    \n",
       "\u001aChoking first aid\u001a poster not posted. \u001aAlcohol...         49        0   \n",
       "''''No Smoking\u001a and/or 'Smoking Permitted\u001a sign...          6        0   \n",
       "''''Wash hands\u001a sign not posted at hand wash fa...         93        1   \n",
       "A food containing artificial trans fat, with 0....         19        0   \n",
       "Accurate thermometer not provided in refrigerat...         98        0   \n",
       "Appropriately scaled metal stem-type thermomete...        162        0   \n",
       "Ashtray present in smoke-free area.                         5        0   \n",
       "Bulb not shielded or shatterproof, in areas whe...        168        0   \n",
       "Caloric content not posted on menus, menu board...          6        0   \n",
       "Caloric content range (minimum to maximum) not ...          0        0   \n",
       "Canned food product observed dented and not seg...         76        0   \n",
       "Canned food product observed swollen, leaking o...          2        0   \n",
       "Cold food item held above 41º F (smoked fish an...       1232        1   \n",
       "Covered garbage receptacle not provided or inad...         65        0   \n",
       "Current letter grade card not posted.                     176        0   \n",
       "Duties of an officer of the Department interfer...          2        0   \n",
       "Eggs found dirty/cracked; liquid, frozen or pow...          4        0   \n",
       "Evidence of mice or live mice present in facili...       1228        1   \n",
       "Evidence of rats or live rats present in facili...        133        0   \n",
       "Facility not vermin proof. Harborage or conditi...       1890        2   \n",
       "Failure to comply with an Order of the Board of...          8        0   \n",
       "Filth flies or food/refuse/sewage-associated (F...        881        1   \n",
       "Flavored tobacco products sold or offered for s...          4        0   \n",
       "Food Protection Certificate not held by supervi...        297        1   \n",
       "Food allergy information poster not conspicuous...         14        0   \n",
       "Food allergy information poster not posted in l...          2        0   \n",
       "Food contact surface improperly constructed or ...          3        0   \n",
       "Food contact surface not properly maintained.             257        0   \n",
       "Food contact surface not properly washed, rinse...       1203        6   \n",
       "Food from unapproved or unknown source or home ...         22        0   \n",
       "...                                                       ...      ...   \n",
       "Non-food contact surface improperly constructed...       2417        8   \n",
       "Notice of the Department of Board of Health mut...          1        0   \n",
       "Nuisance created or allowed to exist. Facility ...         63        0   \n",
       "Operator failed to make good faith effort to in...          0        0   \n",
       "Original label for tobacco products sold or off...          4        0   \n",
       "Out-of package sale of tobacco products observed.           2        0   \n",
       "Permit not conspicuously displayed.                        22        0   \n",
       "Personal cleanliness inadequate. Outer garment ...        309        0   \n",
       "Pesticide use not in accordance with label or a...        186        1   \n",
       "Plumbing not properly installed or maintained; ...        861        0   \n",
       "Potable water supply inadequate. Water or ice n...          2        0   \n",
       "Precooked potentially hazardous food from comme...          2        0   \n",
       "Proper sanitization not provided for utensil wa...        281        0   \n",
       "ROP processing equipment not approved by DOHMH.             2        0   \n",
       "Raw food not properly washed prior to serving.              0        0   \n",
       "Raw, cooked or prepared food is adulterated, co...        435        1   \n",
       "Sanitized equipment or utensil, including in-us...        410        0   \n",
       "Sewage disposal system improper or unapproved.              5        0   \n",
       "Shellfish not from approved source, improperly ...          8        0   \n",
       "Single service item reused, improperly stored, ...        149        0   \n",
       "Smoke free workplace smoking policy inadequate,...        264        1   \n",
       "Thawing procedures improper.                              151        1   \n",
       "The original nutritional fact labels and/or ing...        198        1   \n",
       "Tobacco use, eating, or drinking from open cont...        107        0   \n",
       "Toilet facility not maintained and provided wit...        225        0   \n",
       "Toilet facility not provided for employees or f...         11        0   \n",
       "Toilet facility used by women does not have at ...          7        0   \n",
       "Toxic chemical improperly labeled, stored or us...         15        0   \n",
       "Unprotected food re-served.                                 1        0   \n",
       "Wiping cloths soiled or not stored in sanitizin...        285        1   \n",
       "\n",
       "BORO                                                QUEENS  STATEN ISLAND  \n",
       "VIOLATION DESCRIPTION                                                      \n",
       "\u001aChoking first aid\u001a poster not posted. \u001aAlcohol...      29              5  \n",
       "''''No Smoking\u001a and/or 'Smoking Permitted\u001a sign...       4              1  \n",
       "''''Wash hands\u001a sign not posted at hand wash fa...      60              8  \n",
       "A food containing artificial trans fat, with 0....      24              3  \n",
       "Accurate thermometer not provided in refrigerat...      92             16  \n",
       "Appropriately scaled metal stem-type thermomete...      85             17  \n",
       "Ashtray present in smoke-free area.                      8              1  \n",
       "Bulb not shielded or shatterproof, in areas whe...      80             10  \n",
       "Caloric content not posted on menus, menu board...       5              1  \n",
       "Caloric content range (minimum to maximum) not ...       1              0  \n",
       "Canned food product observed dented and not seg...      44              3  \n",
       "Canned food product observed swollen, leaking o...       1              0  \n",
       "Cold food item held above 41º F (smoked fish an...     621            118  \n",
       "Covered garbage receptacle not provided or inad...      24              4  \n",
       "Current letter grade card not posted.                   51             15  \n",
       "Duties of an officer of the Department interfer...       1              0  \n",
       "Eggs found dirty/cracked; liquid, frozen or pow...       3              1  \n",
       "Evidence of mice or live mice present in facili...     776            103  \n",
       "Evidence of rats or live rats present in facili...      42              4  \n",
       "Facility not vermin proof. Harborage or conditi...    1107            128  \n",
       "Failure to comply with an Order of the Board of...       0              0  \n",
       "Filth flies or food/refuse/sewage-associated (F...     388             46  \n",
       "Flavored tobacco products sold or offered for s...       5              0  \n",
       "Food Protection Certificate not held by supervi...     230             33  \n",
       "Food allergy information poster not conspicuous...       7              0  \n",
       "Food allergy information poster not posted in l...       1              0  \n",
       "Food contact surface improperly constructed or ...       1              0  \n",
       "Food contact surface not properly maintained.          126             14  \n",
       "Food contact surface not properly washed, rinse...     619            119  \n",
       "Food from unapproved or unknown source or home ...      11              1  \n",
       "...                                                    ...            ...  \n",
       "Non-food contact surface improperly constructed...    1416            230  \n",
       "Notice of the Department of Board of Health mut...       0              0  \n",
       "Nuisance created or allowed to exist. Facility ...      38              2  \n",
       "Operator failed to make good faith effort to in...       4              0  \n",
       "Original label for tobacco products sold or off...       3              0  \n",
       "Out-of package sale of tobacco products observed.        0              0  \n",
       "Permit not conspicuously displayed.                      4              0  \n",
       "Personal cleanliness inadequate. Outer garment ...     189             32  \n",
       "Pesticide use not in accordance with label or a...     140             20  \n",
       "Plumbing not properly installed or maintained; ...     502             91  \n",
       "Potable water supply inadequate. Water or ice n...       0              0  \n",
       "Precooked potentially hazardous food from comme...       0              0  \n",
       "Proper sanitization not provided for utensil wa...     150             22  \n",
       "ROP processing equipment not approved by DOHMH.          1              0  \n",
       "Raw food not properly washed prior to serving.           1              0  \n",
       "Raw, cooked or prepared food is adulterated, co...     231             36  \n",
       "Sanitized equipment or utensil, including in-us...     283             45  \n",
       "Sewage disposal system improper or unapproved.           4              0  \n",
       "Shellfish not from approved source, improperly ...       9              2  \n",
       "Single service item reused, improperly stored, ...     114             15  \n",
       "Smoke free workplace smoking policy inadequate,...     154             22  \n",
       "Thawing procedures improper.                           100             23  \n",
       "The original nutritional fact labels and/or ing...     151             25  \n",
       "Tobacco use, eating, or drinking from open cont...      64              7  \n",
       "Toilet facility not maintained and provided wit...     134             14  \n",
       "Toilet facility not provided for employees or f...       3              1  \n",
       "Toilet facility used by women does not have at ...       2              1  \n",
       "Toxic chemical improperly labeled, stored or us...      20              3  \n",
       "Unprotected food re-served.                              0              0  \n",
       "Wiping cloths soiled or not stored in sanitizin...     168             25  \n",
       "\n",
       "[82 rows x 6 columns]"
      ]
     },
     "execution_count": 58,
     "metadata": {},
     "output_type": "execute_result"
    }
   ],
   "source": [
    "#Used the crosstab function in pandas and set the index as \"Violation Description\" and the 'Boro', which calculates frequency from the dataframe\n",
    "\n",
    "violation_b = pd.crosstab(df['VIOLATION DESCRIPTION'],df['BORO'])\n",
    "violation_b"
   ]
  },
  {
   "cell_type": "code",
   "execution_count": 51,
   "metadata": {},
   "outputs": [
    {
     "data": {
      "text/plain": [
       "BORO\n",
       "BRONX            Non-food contact surface improperly constructe...\n",
       "BROOKLYN         Non-food contact surface improperly constructe...\n",
       "MANHATTAN        Non-food contact surface improperly constructe...\n",
       "Missing          Non-food contact surface improperly constructe...\n",
       "QUEENS           Non-food contact surface improperly constructe...\n",
       "STATEN ISLAND    Non-food contact surface improperly constructe...\n",
       "dtype: object"
      ]
     },
     "execution_count": 51,
     "metadata": {},
     "output_type": "execute_result"
    }
   ],
   "source": [
    "#Uses the idxmax over the crosstab and gives max for each column (the boro)\n",
    "violation_b.idxmax()"
   ]
  },
  {
   "cell_type": "raw",
   "metadata": {},
   "source": [
    "Question 12: What are the most common violations per borough, after normalizing for the relative abundance of each violation?"
   ]
  },
  {
   "cell_type": "code",
   "execution_count": 69,
   "metadata": {},
   "outputs": [
    {
     "data": {
      "text/plain": [
       "BORO\n",
       "BRONX                                  Unprotected food re-served.\n",
       "BROOKLYN         Precooked potentially hazardous food from comm...\n",
       "MANHATTAN        Out-of package sale of tobacco products observed.\n",
       "Missing          ''''Wash hands\u001a sign not posted at hand wash f...\n",
       "QUEENS           Caloric content range (minimum to maximum) not...\n",
       "STATEN ISLAND    Eggs found dirty/cracked; liquid, frozen or po...\n",
       "dtype: object"
      ]
     },
     "execution_count": 69,
     "metadata": {},
     "output_type": "execute_result"
    }
   ],
   "source": [
    "#Uses a new crosstab, but normalizes it by taking it as a fraction of that violation (horizontal totals)\n",
    "violation_normal = pd.crosstab(df['VIOLATION DESCRIPTION'],df['BORO'],normalize=\"index\")\n",
    "violation_normal.idxmax()"
   ]
  },
  {
   "cell_type": "code",
   "execution_count": null,
   "metadata": {
    "collapsed": true
   },
   "outputs": [],
   "source": []
  }
 ],
 "metadata": {
  "kernelspec": {
   "display_name": "Python 2",
   "language": "python",
   "name": "python2"
  },
  "language_info": {
   "codemirror_mode": {
    "name": "ipython",
    "version": 2
   },
   "file_extension": ".py",
   "mimetype": "text/x-python",
   "name": "python",
   "nbconvert_exporter": "python",
   "pygments_lexer": "ipython2",
   "version": "2.7.14"
  }
 },
 "nbformat": 4,
 "nbformat_minor": 2
}
