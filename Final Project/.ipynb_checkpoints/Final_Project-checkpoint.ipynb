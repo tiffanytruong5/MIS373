{
 "cells": [
  {
   "cell_type": "code",
   "execution_count": 71,
   "metadata": {},
   "outputs": [
    {
     "name": "stdout",
     "output_type": "stream",
     "text": [
      "Populating the interactive namespace from numpy and matplotlib\n"
     ]
    }
   ],
   "source": [
    "from pandas import Series, DataFrame\n",
    "import pandas as pd\n",
    "from patsy import dmatrices\n",
    "%pylab inline\n",
    "\n",
    "# We will ignore some silly warnings that pop up due to scikit-learn\n",
    "import warnings\n",
    "warnings.filterwarnings('ignore')"
   ]
  },
  {
   "cell_type": "markdown",
   "metadata": {},
   "source": [
    "# Adoption Data"
   ]
  },
  {
   "cell_type": "code",
   "execution_count": 2,
   "metadata": {
    "scrolled": true
   },
   "outputs": [
    {
     "data": {
      "text/plain": [
       "Dog     45366\n",
       "Cat     29539\n",
       "Bird      339\n",
       "Name: animal_type, dtype: int64"
      ]
     },
     "execution_count": 2,
     "metadata": {},
     "output_type": "execute_result"
    }
   ],
   "source": [
    "#Reading in CSV\n",
    "df = pd.read_csv('aac_intakes_outcomes.csv')\n",
    "\n",
    "\n",
    "\n",
    "\n",
    "#There's also a bunch of random animals in here that maybe skew the data (bats, possums). Let's take those out.\n",
    "df['catordog'] = False\n",
    "def catdogcheck(x):\n",
    "    valid = ['Dog','Cat','Bird']\n",
    "    if x in valid:\n",
    "        return True\n",
    "    return False\n",
    "df['catordog'] = df['animal_type'].apply(catdogcheck)\n",
    "cdmask = (df['catordog']==True)\n",
    "df = df[cdmask]\n",
    "\n",
    "df['animal_type'].value_counts()"
   ]
  },
  {
   "cell_type": "code",
   "execution_count": 3,
   "metadata": {},
   "outputs": [
    {
     "data": {
      "text/plain": [
       "Neutered Male    28194\n",
       "Spayed Female    25460\n",
       "Intact Male       9473\n",
       "Intact Female     9103\n",
       "Name: sex_upon_outcome, dtype: int64"
      ]
     },
     "execution_count": 3,
     "metadata": {},
     "output_type": "execute_result"
    }
   ],
   "source": [
    "#Some filtering\n",
    "\n",
    "#Convert 'age_upon_outcome' from string with 'year' into just the string with the number\n",
    "def seperation(x):\n",
    "    y = x.split(' ')\n",
    "    return (y[0])\n",
    "df['just_age'] = df['age_upon_outcome'].apply(seperation)\n",
    "\n",
    "#Take out 'mix' from the breeds, condenses the number of dummy variables later on\n",
    "def mixer(x):\n",
    "    if 'Mix' in x:\n",
    "        s = x.replace(' Mix','')\n",
    "        return s\n",
    "    return x\n",
    "df['breed_nomix'] = df['breed'].apply(mixer)\n",
    "\n",
    "\n",
    "#Now seperate the breed into bins based off frequency, arbitrarily set threshold at 100\n",
    "num = df['breed_nomix'].value_counts()>100\n",
    "a = df['breed_nomix'].value_counts()[num].index.tolist()\n",
    "df['breed_bin'] = 'other'\n",
    "def breedtest(x):\n",
    "    if x in a:\n",
    "        return x\n",
    "    return 'other'\n",
    "df['breed_bin'] = df['breed_nomix'].apply(breedtest)\n",
    "\n",
    "#Get colors where the count is greater than 100, more relevant I guess this way\n",
    "col = df['color'].value_counts()>100\n",
    "b = df['color'].value_counts()[col].index.tolist()\n",
    "df['color_bin'] = 'other'\n",
    "def colortest(x):\n",
    "    if x in b:\n",
    "        return x\n",
    "    return 'other'\n",
    "df['color_bin'] = df['color'].apply(colortest)\n",
    "#df['color_bin'].value_counts()\n",
    "\n",
    "#Also filter out the unknown genders\n",
    "gen = df['sex_upon_outcome'] != 'Unknown'\n",
    "df = df[gen]\n",
    "df['sex_upon_outcome'].value_counts()\n"
   ]
  },
  {
   "cell_type": "code",
   "execution_count": 4,
   "metadata": {
    "collapsed": true
   },
   "outputs": [],
   "source": [
    "# Setting up regressions using naive-bayes\n",
    "\n",
    "# Should we filter out return to owner? seems logical because we want to look at actual strays, not ones that just got lost for a few days\n",
    "\n",
    "mask = (df['outcome_type'] != 'Return to Owner')\n",
    "df1 = df[mask]\n",
    "\n",
    "\n",
    "# df1 now excludes all pets that were returned to owner, future analysis may include ones that were returned \n",
    "# after an extended period of time, for now it will only include long-term strays\n",
    "df1['target_adopt'] = 0\n",
    "mask = (df1['outcome_type']=='Adoption')\n",
    "df1['target_adopt'][mask] = 1.0\n",
    "#df1['target_adopt'].value_counts()\n",
    "\n",
    "#Important to use categorical, most factors seem categorical except time in shelter (days), will qcut\n",
    "df1['time_spent_shelter']= pd.qcut(df['time_in_shelter_days'],5)\n",
    "#df1['time_spent_shelter'].value_counts()\n",
    "\n",
    "#Seperate dates of birth into buckets as well\n",
    "df1['DOB_DT'] = pd.to_datetime(df['date_of_birth'])\n",
    "#df1['DOB_DT'][:5]\n",
    "df1['DOB_bucket'] = pd.qcut(df1['DOB_DT'],5)\n",
    "#df1['DOB_bucket'].value_counts()\n",
    "\n",
    "#Change the age into a num and seperate into buckets\n",
    "df1['age_upon_outcome_numeric']= pd.to_numeric(df1['just_age'])\n",
    "df1['age_bucket'] = pd.qcut(df1['age_upon_outcome_numeric'],5)\n",
    "#df1['age_bucket'].value_counts()"
   ]
  },
  {
   "cell_type": "code",
   "execution_count": 5,
   "metadata": {},
   "outputs": [
    {
     "name": "stdout",
     "output_type": "stream",
     "text": [
      "['age_upon_outcome' 'animal_id_outcome' 'date_of_birth' 'outcome_subtype'\n",
      " 'outcome_type' 'sex_upon_outcome' 'age_upon_outcome_(days)'\n",
      " 'age_upon_outcome_(years)' 'age_upon_outcome_age_group' 'outcome_datetime'\n",
      " 'outcome_month' 'outcome_year' 'outcome_monthyear' 'outcome_weekday'\n",
      " 'outcome_hour' 'outcome_number' 'dob_year' 'dob_month' 'dob_monthyear'\n",
      " 'age_upon_intake' 'animal_id_intake' 'animal_type' 'breed' 'color'\n",
      " 'found_location' 'intake_condition' 'intake_type' 'sex_upon_intake'\n",
      " 'count' 'age_upon_intake_(days)' 'age_upon_intake_(years)'\n",
      " 'age_upon_intake_age_group' 'intake_datetime' 'intake_month' 'intake_year'\n",
      " 'intake_monthyear' 'intake_weekday' 'intake_hour' 'intake_number'\n",
      " 'time_in_shelter' 'time_in_shelter_days' 'catordog' 'just_age'\n",
      " 'breed_nomix' 'breed_bin' 'color_bin' 'target_adopt' 'time_spent_shelter'\n",
      " 'DOB_DT' 'DOB_bucket' 'age_upon_outcome_numeric' 'age_bucket']\n"
     ]
    }
   ],
   "source": [
    "print df1.columns.values\n",
    "\n",
    "#Going to use age_upon_outcome, date_of_birth, outcome_type, sex_upon_outocome, outcome_monthyear, outcome_weekday, outcome_hour, animal_type\n",
    "#breed,color, intake_coundition, time_in_shelter_days"
   ]
  },
  {
   "cell_type": "code",
   "execution_count": 148,
   "metadata": {},
   "outputs": [
    {
     "data": {
      "text/plain": [
       "array(['age_bucket_(-0.001, 1.0]', 'age_bucket_(1.0, 2.0]',\n",
       "       'age_bucket_(2.0, 3.0]', 'age_bucket_(3.0, 5.0]',\n",
       "       'age_bucket_(5.0, 25.0]',\n",
       "       'DOB_bucket_(1991-12-10 23:59:59.999999999, 2012-07-28]',\n",
       "       'DOB_bucket_(2012-07-28, 2014-03-18]',\n",
       "       'DOB_bucket_(2014-03-18, 2015-04-03]',\n",
       "       'DOB_bucket_(2015-04-03, 2016-04-17]',\n",
       "       'DOB_bucket_(2016-04-17, 2018-03-24]'], dtype=object)"
      ]
     },
     "execution_count": 148,
     "metadata": {},
     "output_type": "execute_result"
    }
   ],
   "source": [
    "#Create categories to analyze\n",
    "categorical_columns = ['age_bucket','DOB_bucket','sex_upon_outcome','animal_type',\n",
    "                       'intake_condition','time_spent_shelter','breed_bin','color_bin']\n",
    "df_dummies = pd.get_dummies(df1[categorical_columns],\n",
    "                            prefix=categorical_columns,\n",
    "                            columns=categorical_columns)\n",
    "dummy_column_names = df_dummies.columns.values\n",
    "dummy_column_names[:10]\n"
   ]
  },
  {
   "cell_type": "code",
   "execution_count": 149,
   "metadata": {
    "collapsed": true
   },
   "outputs": [
    {
     "name": "stdout",
     "output_type": "stream",
     "text": [
      "target_adopt ~ 0 + Q(\"age_bucket_(-0.001, 1.0]\") + Q(\"age_bucket_(1.0, 2.0]\") + Q(\"age_bucket_(2.0, 3.0]\") + Q(\"age_bucket_(3.0, 5.0]\") + Q(\"age_bucket_(5.0, 25.0]\") + Q(\"DOB_bucket_(1991-12-10 23:59:59.999999999, 2012-07-28]\") + Q(\"DOB_bucket_(2012-07-28, 2014-03-18]\") + Q(\"DOB_bucket_(2014-03-18, 2015-04-03]\") + Q(\"DOB_bucket_(2015-04-03, 2016-04-17]\") + Q(\"DOB_bucket_(2016-04-17, 2018-03-24]\") + Q(\"sex_upon_outcome_Intact Female\") + Q(\"sex_upon_outcome_Intact Male\") + Q(\"sex_upon_outcome_Neutered Male\") + Q(\"sex_upon_outcome_Spayed Female\") + Q(\"animal_type_Bird\") + Q(\"animal_type_Cat\") + Q(\"animal_type_Dog\") + Q(\"intake_condition_Aged\") + Q(\"intake_condition_Feral\") + Q(\"intake_condition_Injured\") + Q(\"intake_condition_Normal\") + Q(\"intake_condition_Nursing\") + Q(\"intake_condition_Other\") + Q(\"intake_condition_Pregnant\") + Q(\"intake_condition_Sick\") + Q(\"time_spent_shelter_(-0.000306, 2.92]\") + Q(\"time_spent_shelter_(2.92, 5.08]\") + Q(\"time_spent_shelter_(5.08, 9.983]\") + Q(\"time_spent_shelter_(9.983, 30.253]\") + Q(\"time_spent_shelter_(30.253, 1268.975]\") + Q(\"breed_bin_American Bulldog\") + Q(\"breed_bin_American Pit Bull Terrier\") + Q(\"breed_bin_American Shorthair\") + Q(\"breed_bin_American Staffordshire Terrier\") + Q(\"breed_bin_Anatol Shepherd\") + Q(\"breed_bin_Australian Cattle Dog\") + Q(\"breed_bin_Australian Kelpie\") + Q(\"breed_bin_Australian Shepherd\") + Q(\"breed_bin_Beagle\") + Q(\"breed_bin_Black Mouth Cur\") + Q(\"breed_bin_Border Collie\") + Q(\"breed_bin_Border Terrier\") + Q(\"breed_bin_Boxer\") + Q(\"breed_bin_Cairn Terrier\") + Q(\"breed_bin_Catahoula\") + Q(\"breed_bin_Chicken\") + Q(\"breed_bin_Chihuahua Longhair\") + Q(\"breed_bin_Chihuahua Shorthair\") + Q(\"breed_bin_Chihuahua Shorthair/Dachshund\") + Q(\"breed_bin_Chow Chow\") + Q(\"breed_bin_Dachshund\") + Q(\"breed_bin_Dachshund/Chihuahua Shorthair\") + Q(\"breed_bin_Doberman Pinsch\") + Q(\"breed_bin_Domestic Longhair\") + Q(\"breed_bin_Domestic Medium Hair\") + Q(\"breed_bin_Domestic Shorthair\") + Q(\"breed_bin_German Shepherd\") + Q(\"breed_bin_German Shepherd/Labrador Retriever\") + Q(\"breed_bin_Golden Retriever\") + Q(\"breed_bin_Great Pyrenees\") + Q(\"breed_bin_Jack Russell Terrier\") + Q(\"breed_bin_Labrador Retriever\") + Q(\"breed_bin_Labrador Retriever/German Shepherd\") + Q(\"breed_bin_Labrador Retriever/Pit Bull\") + Q(\"breed_bin_Maltese\") + Q(\"breed_bin_Miniature Pinscher\") + Q(\"breed_bin_Miniature Poodle\") + Q(\"breed_bin_Miniature Schnauzer\") + Q(\"breed_bin_Pit Bull\") + Q(\"breed_bin_Plott Hound\") + Q(\"breed_bin_Pointer\") + Q(\"breed_bin_Queensland Heeler\") + Q(\"breed_bin_Rat Terrier\") + Q(\"breed_bin_Rottweiler\") + Q(\"breed_bin_Shih Tzu\") + Q(\"breed_bin_Siamese\") + Q(\"breed_bin_Siberian Husky\") + Q(\"breed_bin_Snowshoe\") + Q(\"breed_bin_Staffordshire\") + Q(\"breed_bin_Yorkshire Terrier\") + Q(\"breed_bin_other\") + Q(\"color_bin_Black\") + Q(\"color_bin_Black Brindle/White\") + Q(\"color_bin_Black Smoke\") + Q(\"color_bin_Black Tabby\") + Q(\"color_bin_Black/Brown\") + Q(\"color_bin_Black/Tan\") + Q(\"color_bin_Black/Tricolor\") + Q(\"color_bin_Black/White\") + Q(\"color_bin_Blue\") + Q(\"color_bin_Blue Merle\") + Q(\"color_bin_Blue Tabby\") + Q(\"color_bin_Blue Tabby/White\") + Q(\"color_bin_Blue/White\") + Q(\"color_bin_Brown\") + Q(\"color_bin_Brown Brindle\") + Q(\"color_bin_Brown Brindle/White\") + Q(\"color_bin_Brown Tabby\") + Q(\"color_bin_Brown Tabby/White\") + Q(\"color_bin_Brown/Black\") + Q(\"color_bin_Brown/Tan\") + Q(\"color_bin_Brown/White\") + Q(\"color_bin_Buff\") + Q(\"color_bin_Calico\") + Q(\"color_bin_Chocolate\") + Q(\"color_bin_Chocolate/Tan\") + Q(\"color_bin_Chocolate/White\") + Q(\"color_bin_Cream\") + Q(\"color_bin_Cream Tabby\") + Q(\"color_bin_Cream Tabby/White\") + Q(\"color_bin_Cream/White\") + Q(\"color_bin_Fawn\") + Q(\"color_bin_Fawn/White\") + Q(\"color_bin_Flame Point\") + Q(\"color_bin_Gray\") + Q(\"color_bin_Gray Tabby\") + Q(\"color_bin_Gray/White\") + Q(\"color_bin_Lynx Point\") + Q(\"color_bin_Orange Tabby\") + Q(\"color_bin_Orange Tabby/White\") + Q(\"color_bin_Red\") + Q(\"color_bin_Red/Black\") + Q(\"color_bin_Red/White\") + Q(\"color_bin_Sable\") + Q(\"color_bin_Sable/White\") + Q(\"color_bin_Seal Point\") + Q(\"color_bin_Tan\") + Q(\"color_bin_Tan/Black\") + Q(\"color_bin_Tan/White\") + Q(\"color_bin_Torbie\") + Q(\"color_bin_Torbie/White\") + Q(\"color_bin_Tortie\") + Q(\"color_bin_Tricolor\") + Q(\"color_bin_White\") + Q(\"color_bin_White/Black\") + Q(\"color_bin_White/Blue\") + Q(\"color_bin_White/Brown\") + Q(\"color_bin_White/Brown Brindle\") + Q(\"color_bin_White/Brown Tabby\") + Q(\"color_bin_White/Gray\") + Q(\"color_bin_White/Red\") + Q(\"color_bin_White/Tan\") + Q(\"color_bin_Yellow\") + Q(\"color_bin_other\")\n"
     ]
    }
   ],
   "source": [
    "#Concatanate the columns and throw them together, then format\n",
    "df2 = pd.concat([df1, df_dummies], axis=1)\n",
    "formula = 'target_adopt ~ 0 + {}'.format(' + '.join(['Q(\"{}\")'.format(x) for x in dummy_column_names]))\n",
    "print formula"
   ]
  },
  {
   "cell_type": "code",
   "execution_count": 150,
   "metadata": {},
   "outputs": [
    {
     "data": {
      "text/plain": [
       "array([ 0.,  0.,  1.,  0.,  1.,  0.,  0.,  0.,  0.,  1.])"
      ]
     },
     "execution_count": 150,
     "metadata": {},
     "output_type": "execute_result"
    }
   ],
   "source": [
    "#Make the matrix\n",
    "Y, X = dmatrices(formula, df2, return_type='dataframe')\n",
    "y = Y['target_adopt'].values\n",
    "y[:10]"
   ]
  },
  {
   "cell_type": "code",
   "execution_count": 151,
   "metadata": {},
   "outputs": [
    {
     "data": {
      "text/plain": [
       "MultinomialNB(alpha=1.0, class_prior=None, fit_prior=True)"
      ]
     },
     "execution_count": 151,
     "metadata": {},
     "output_type": "execute_result"
    }
   ],
   "source": [
    "from sklearn import naive_bayes\n",
    "model = naive_bayes.MultinomialNB()\n",
    "model.fit(X,y)"
   ]
  },
  {
   "cell_type": "code",
   "execution_count": 152,
   "metadata": {},
   "outputs": [
    {
     "name": "stdout",
     "output_type": "stream",
     "text": [
      "Prediction\n",
      "[ 1.  1.  1.  0.  1.  0.  0.  0.  0.  1.]\n",
      "Actual\n",
      "[ 0.  0.  1.  0.  1.  0.  0.  0.  0.  1.]\n"
     ]
    }
   ],
   "source": [
    "print 'Prediction'\n",
    "print model.predict(X[:10])\n",
    "print 'Actual'\n",
    "print y[:10]"
   ]
  },
  {
   "cell_type": "code",
   "execution_count": 153,
   "metadata": {},
   "outputs": [
    {
     "name": "stdout",
     "output_type": "stream",
     "text": [
      "0.803930768429\n"
     ]
    }
   ],
   "source": [
    "#What's the accuracy of our predictions\n",
    "from sklearn import metrics\n",
    "prediction_train = model.predict(X)\n",
    "print metrics.accuracy_score(y, prediction_train)"
   ]
  },
  {
   "cell_type": "code",
   "execution_count": 154,
   "metadata": {},
   "outputs": [
    {
     "name": "stdout",
     "output_type": "stream",
     "text": [
      "Prior probability for the negative class is 0.420967573767\n",
      "Prior probability for the positive class is 0.579032426233\n"
     ]
    }
   ],
   "source": [
    "print 'Prior probability for the negative class is',\n",
    "print exp(model.class_log_prior_[0])\n",
    "print 'Prior probability for the positive class is',\n",
    "print exp(model.class_log_prior_[1])"
   ]
  },
  {
   "cell_type": "code",
   "execution_count": 155,
   "metadata": {},
   "outputs": [
    {
     "data": {
      "text/plain": [
       "Q(\"sex_upon_outcome_Intact Male\")            -2.685773\n",
       "Q(\"sex_upon_outcome_Intact Female\")          -2.568252\n",
       "Q(\"breed_bin_Shih Tzu\")                      -1.863499\n",
       "Q(\"time_spent_shelter_(-0.000306, 2.92]\")    -1.814789\n",
       "Q(\"intake_condition_Feral\")                  -1.587111\n",
       "Q(\"intake_condition_Sick\")                   -1.363791\n",
       "Q(\"time_spent_shelter_(30.253, 1268.975]\")    1.332277\n",
       "Q(\"color_bin_Gray Tabby\")                    -1.219387\n",
       "Q(\"intake_condition_Other\")                  -1.024819\n",
       "Q(\"intake_condition_Nursing\")                -0.966405\n",
       "dtype: float64"
      ]
     },
     "execution_count": 155,
     "metadata": {},
     "output_type": "execute_result"
    }
   ],
   "source": [
    "feature_importances = abs(model.feature_log_prob_[1] - model.feature_log_prob_[0])\n",
    "feature_importance_series = Series(feature_importances, index=X.columns.values)\n",
    "top_10_feature_indices = feature_importance_series.sort_values(ascending=False)[:10].index.values\n",
    "inter_class_differences = model.feature_log_prob_[1] - model.feature_log_prob_[0]\n",
    "new_feature_importance_series = Series(inter_class_differences, index=X.columns.values)\n",
    "\n",
    "new_feature_importance_series[top_10_feature_indices]\n"
   ]
  },
  {
   "cell_type": "markdown",
   "metadata": {
    "collapsed": true
   },
   "source": [
    "# Above is naive bayes for a whole bunch of different categorical variables, let's try to find more specifics and put in some graphs/charts "
   ]
  },
  {
   "cell_type": "code",
   "execution_count": 156,
   "metadata": {},
   "outputs": [
    {
     "data": {
      "text/plain": [
       "array(['breed_bin_American Bulldog', 'breed_bin_American Pit Bull Terrier',\n",
       "       'breed_bin_American Shorthair',\n",
       "       'breed_bin_American Staffordshire Terrier',\n",
       "       'breed_bin_Anatol Shepherd', 'breed_bin_Australian Cattle Dog',\n",
       "       'breed_bin_Australian Kelpie', 'breed_bin_Australian Shepherd',\n",
       "       'breed_bin_Beagle', 'breed_bin_Black Mouth Cur'], dtype=object)"
      ]
     },
     "execution_count": 156,
     "metadata": {},
     "output_type": "execute_result"
    }
   ],
   "source": [
    "# Let's work with naive bayes regression for just breed and color and sex first.\n",
    "#For simplification, ignoring breed and color for now\n",
    "categorical_columns1 = ['breed_bin','color_bin','sex_upon_outcome']\n",
    "df_dummies = pd.get_dummies(df1[categorical_columns1],\n",
    "                            prefix=categorical_columns1,\n",
    "                            columns=categorical_columns1)\n",
    "dummy_column_names = df_dummies.columns.values\n",
    "dummy_column_names[:10]"
   ]
  },
  {
   "cell_type": "code",
   "execution_count": 157,
   "metadata": {
    "collapsed": true
   },
   "outputs": [
    {
     "name": "stdout",
     "output_type": "stream",
     "text": [
      "target_adopt ~ 0 + Q(\"breed_bin_American Bulldog\") + Q(\"breed_bin_American Pit Bull Terrier\") + Q(\"breed_bin_American Shorthair\") + Q(\"breed_bin_American Staffordshire Terrier\") + Q(\"breed_bin_Anatol Shepherd\") + Q(\"breed_bin_Australian Cattle Dog\") + Q(\"breed_bin_Australian Kelpie\") + Q(\"breed_bin_Australian Shepherd\") + Q(\"breed_bin_Beagle\") + Q(\"breed_bin_Black Mouth Cur\") + Q(\"breed_bin_Border Collie\") + Q(\"breed_bin_Border Terrier\") + Q(\"breed_bin_Boxer\") + Q(\"breed_bin_Cairn Terrier\") + Q(\"breed_bin_Catahoula\") + Q(\"breed_bin_Chicken\") + Q(\"breed_bin_Chihuahua Longhair\") + Q(\"breed_bin_Chihuahua Shorthair\") + Q(\"breed_bin_Chihuahua Shorthair/Dachshund\") + Q(\"breed_bin_Chow Chow\") + Q(\"breed_bin_Dachshund\") + Q(\"breed_bin_Dachshund/Chihuahua Shorthair\") + Q(\"breed_bin_Doberman Pinsch\") + Q(\"breed_bin_Domestic Longhair\") + Q(\"breed_bin_Domestic Medium Hair\") + Q(\"breed_bin_Domestic Shorthair\") + Q(\"breed_bin_German Shepherd\") + Q(\"breed_bin_German Shepherd/Labrador Retriever\") + Q(\"breed_bin_Golden Retriever\") + Q(\"breed_bin_Great Pyrenees\") + Q(\"breed_bin_Jack Russell Terrier\") + Q(\"breed_bin_Labrador Retriever\") + Q(\"breed_bin_Labrador Retriever/German Shepherd\") + Q(\"breed_bin_Labrador Retriever/Pit Bull\") + Q(\"breed_bin_Maltese\") + Q(\"breed_bin_Miniature Pinscher\") + Q(\"breed_bin_Miniature Poodle\") + Q(\"breed_bin_Miniature Schnauzer\") + Q(\"breed_bin_Pit Bull\") + Q(\"breed_bin_Plott Hound\") + Q(\"breed_bin_Pointer\") + Q(\"breed_bin_Queensland Heeler\") + Q(\"breed_bin_Rat Terrier\") + Q(\"breed_bin_Rottweiler\") + Q(\"breed_bin_Shih Tzu\") + Q(\"breed_bin_Siamese\") + Q(\"breed_bin_Siberian Husky\") + Q(\"breed_bin_Snowshoe\") + Q(\"breed_bin_Staffordshire\") + Q(\"breed_bin_Yorkshire Terrier\") + Q(\"breed_bin_other\") + Q(\"color_bin_Black\") + Q(\"color_bin_Black Brindle/White\") + Q(\"color_bin_Black Smoke\") + Q(\"color_bin_Black Tabby\") + Q(\"color_bin_Black/Brown\") + Q(\"color_bin_Black/Tan\") + Q(\"color_bin_Black/Tricolor\") + Q(\"color_bin_Black/White\") + Q(\"color_bin_Blue\") + Q(\"color_bin_Blue Merle\") + Q(\"color_bin_Blue Tabby\") + Q(\"color_bin_Blue Tabby/White\") + Q(\"color_bin_Blue/White\") + Q(\"color_bin_Brown\") + Q(\"color_bin_Brown Brindle\") + Q(\"color_bin_Brown Brindle/White\") + Q(\"color_bin_Brown Tabby\") + Q(\"color_bin_Brown Tabby/White\") + Q(\"color_bin_Brown/Black\") + Q(\"color_bin_Brown/Tan\") + Q(\"color_bin_Brown/White\") + Q(\"color_bin_Buff\") + Q(\"color_bin_Calico\") + Q(\"color_bin_Chocolate\") + Q(\"color_bin_Chocolate/Tan\") + Q(\"color_bin_Chocolate/White\") + Q(\"color_bin_Cream\") + Q(\"color_bin_Cream Tabby\") + Q(\"color_bin_Cream Tabby/White\") + Q(\"color_bin_Cream/White\") + Q(\"color_bin_Fawn\") + Q(\"color_bin_Fawn/White\") + Q(\"color_bin_Flame Point\") + Q(\"color_bin_Gray\") + Q(\"color_bin_Gray Tabby\") + Q(\"color_bin_Gray/White\") + Q(\"color_bin_Lynx Point\") + Q(\"color_bin_Orange Tabby\") + Q(\"color_bin_Orange Tabby/White\") + Q(\"color_bin_Red\") + Q(\"color_bin_Red/Black\") + Q(\"color_bin_Red/White\") + Q(\"color_bin_Sable\") + Q(\"color_bin_Sable/White\") + Q(\"color_bin_Seal Point\") + Q(\"color_bin_Tan\") + Q(\"color_bin_Tan/Black\") + Q(\"color_bin_Tan/White\") + Q(\"color_bin_Torbie\") + Q(\"color_bin_Torbie/White\") + Q(\"color_bin_Tortie\") + Q(\"color_bin_Tricolor\") + Q(\"color_bin_White\") + Q(\"color_bin_White/Black\") + Q(\"color_bin_White/Blue\") + Q(\"color_bin_White/Brown\") + Q(\"color_bin_White/Brown Brindle\") + Q(\"color_bin_White/Brown Tabby\") + Q(\"color_bin_White/Gray\") + Q(\"color_bin_White/Red\") + Q(\"color_bin_White/Tan\") + Q(\"color_bin_Yellow\") + Q(\"color_bin_other\") + Q(\"sex_upon_outcome_Intact Female\") + Q(\"sex_upon_outcome_Intact Male\") + Q(\"sex_upon_outcome_Neutered Male\") + Q(\"sex_upon_outcome_Spayed Female\")\n"
     ]
    }
   ],
   "source": [
    "#Concatanate the columns and throw them together, then format\n",
    "df2 = pd.concat([df1, df_dummies], axis=1)\n",
    "formula = 'target_adopt ~ 0 + {}'.format(' + '.join(['Q(\"{}\")'.format(x) for x in dummy_column_names]))\n",
    "print formula"
   ]
  },
  {
   "cell_type": "code",
   "execution_count": 158,
   "metadata": {},
   "outputs": [
    {
     "data": {
      "text/plain": [
       "array([ 0.,  0.,  1.,  0.,  1.,  0.,  0.,  0.,  0.,  1.])"
      ]
     },
     "execution_count": 158,
     "metadata": {},
     "output_type": "execute_result"
    }
   ],
   "source": [
    "#Make the matrix\n",
    "B, A = dmatrices(formula, df2, return_type='dataframe')\n",
    "b = B['target_adopt'].values\n",
    "b[:10]"
   ]
  },
  {
   "cell_type": "code",
   "execution_count": 159,
   "metadata": {},
   "outputs": [
    {
     "data": {
      "text/plain": [
       "MultinomialNB(alpha=1.0, class_prior=None, fit_prior=True)"
      ]
     },
     "execution_count": 159,
     "metadata": {},
     "output_type": "execute_result"
    }
   ],
   "source": [
    "model1 = naive_bayes.MultinomialNB()\n",
    "model1.fit(A,b)"
   ]
  },
  {
   "cell_type": "code",
   "execution_count": 160,
   "metadata": {},
   "outputs": [
    {
     "name": "stdout",
     "output_type": "stream",
     "text": [
      "Prediction\n",
      "[ 1.  1.  1.  1.  1.  1.  1.  1.  1.  1.]\n",
      "Actual\n",
      "[ 0.  0.  1.  0.  1.  0.  0.  0.  0.  1.]\n"
     ]
    }
   ],
   "source": [
    "print 'Prediction'\n",
    "print model1.predict(A[:10])\n",
    "print 'Actual'\n",
    "print b[:10]"
   ]
  },
  {
   "cell_type": "code",
   "execution_count": 161,
   "metadata": {},
   "outputs": [
    {
     "name": "stdout",
     "output_type": "stream",
     "text": [
      "0.794894519167\n"
     ]
    }
   ],
   "source": [
    "prediction_train = model1.predict(A)\n",
    "print metrics.accuracy_score(b, prediction_train)"
   ]
  },
  {
   "cell_type": "code",
   "execution_count": 162,
   "metadata": {},
   "outputs": [
    {
     "data": {
      "text/plain": [
       "Q(\"sex_upon_outcome_Intact Male\")                   -2.685773\n",
       "Q(\"sex_upon_outcome_Intact Female\")                 -2.568252\n",
       "Q(\"breed_bin_Shih Tzu\")                             -1.863499\n",
       "Q(\"color_bin_Gray Tabby\")                           -1.219387\n",
       "Q(\"breed_bin_Staffordshire\")                         0.959598\n",
       "Q(\"sex_upon_outcome_Spayed Female\")                  0.875474\n",
       "Q(\"breed_bin_German Shepherd/Labrador Retriever\")    0.791847\n",
       "Q(\"color_bin_Black/Tricolor\")                        0.768036\n",
       "Q(\"breed_bin_Siberian Husky\")                        0.766940\n",
       "Q(\"breed_bin_Cairn Terrier\")                         0.740792\n",
       "dtype: float64"
      ]
     },
     "execution_count": 162,
     "metadata": {},
     "output_type": "execute_result"
    }
   ],
   "source": [
    "feature_importances = abs(model1.feature_log_prob_[1] - model1.feature_log_prob_[0])\n",
    "feature_importance_series = Series(feature_importances, index=A.columns.values)\n",
    "top_10_feature_indices = feature_importance_series.sort_values(ascending=False)[:10].index.values\n",
    "inter_class_differences = model.feature_log_prob_[1] - model.feature_log_prob_[0]\n",
    "new_feature_importance_series = Series(inter_class_differences, index=X.columns.values)\n",
    "\n",
    "new_feature_importance_series[top_10_feature_indices]"
   ]
  },
  {
   "cell_type": "code",
   "execution_count": 163,
   "metadata": {},
   "outputs": [
    {
     "data": {
      "image/png": "[encoded data removed]",
      "text/plain": [
       "<matplotlib.figure.Figure at 0x123b8908>"
      ]
     },
     "metadata": {},
     "output_type": "display_data"
    }
   ],
   "source": [
    "new_feature_importance_series[top_10_feature_indices].plot(kind = 'bar')\n",
    "show()"
   ]
  },
  {
   "cell_type": "code",
   "execution_count": 71,
   "metadata": {},
   "outputs": [
    {
     "data": {
      "text/plain": [
       "1    0.517779\n",
       "0    0.482221\n",
       "Name: target_adopt, dtype: float64"
      ]
     },
     "execution_count": 71,
     "metadata": {},
     "output_type": "execute_result"
    }
   ],
   "source": [
    "#Conclusion, looks like there's a similar amount of adoptions vs non-adoptions, but most people don't adopt \n",
    "# bats, raccoon, opossums, etc.'\n",
    "df1['target_adopt'].value_counts()/len(df1)"
   ]
  },
  {
   "cell_type": "code",
   "execution_count": 84,
   "metadata": {},
   "outputs": [
    {
     "data": {
      "text/plain": [
       "Dog      32093\n",
       "Cat      28068\n",
       "Other     4390\n",
       "Bird       330\n",
       "Name: animal_type, dtype: int64"
      ]
     },
     "execution_count": 84,
     "metadata": {},
     "output_type": "execute_result"
    }
   ],
   "source": [
    "#We should focus more specifically on dogs and cats\n",
    "dcmask = (df1['animal_type'] == \"Dog\")\n",
    "dc = df1[dcmask]\n",
    "df1['animal_type'].value_counts()"
   ]
  },
  {
   "cell_type": "code",
   "execution_count": 143,
   "metadata": {},
   "outputs": [
    {
     "data": {
      "text/plain": [
       "Neutered Male    21791\n",
       "Spayed Female    20649\n",
       "Intact Female     7746\n",
       "Intact Male       7360\n",
       "Unknown           2945\n",
       "Name: sex_upon_outcome, dtype: int64"
      ]
     },
     "execution_count": 143,
     "metadata": {},
     "output_type": "execute_result"
    }
   ],
   "source": [
    "df1['sex_upon_outcome'].value_counts()"
   ]
  },
  {
   "cell_type": "markdown",
   "metadata": {
    "collapsed": true
   },
   "source": [
    "# Now let's answer some general questions\n",
    "# 1) Do certain breeds of dogs get adopted faster\n",
    "# 2) Are certain animals/breeds more prone to sickness\n",
    "# 3) How do Austin adoption rates look over time?"
   ]
  },
  {
   "cell_type": "code",
   "execution_count": 22,
   "metadata": {
    "collapsed": true
   },
   "outputs": [
    {
     "data": {
      "text/plain": [
       "other                                 29648\n",
       "Chihuahua Shorthair/Dachshund           195\n",
       "Dachshund/Chihuahua Shorthair           159\n",
       "Labrador Retriever/Pit Bull             153\n",
       "Labrador Retriever                      143\n",
       "German Shepherd                         133\n",
       "Chihuahua Shorthair                     131\n",
       "Pit Bull                                126\n",
       "German Shepherd/Labrador Retriever      111\n",
       "Labrador Retriever/German Shepherd      108\n",
       "Shih Tzu                                 85\n",
       "Dachshund                                79\n",
       "Australian Cattle Dog                    57\n",
       "Siberian Husky                           56\n",
       "Rottweiler                               56\n",
       "Pit Bull/Labrador Retriever              56\n",
       "Boxer                                    56\n",
       "Miniature Poodle                         36\n",
       "Great Pyrenees                           35\n",
       "Maltese                                  32\n",
       "Jack Russell Terrier                     31\n",
       "Beagle                                   31\n",
       "Doberman Pinsch                          30\n",
       "Cocker Spaniel                           29\n",
       "Border Collie                            28\n",
       "Miniature Schnauzer                      28\n",
       "Yorkshire Terrier                        23\n",
       "Pekingese                                23\n",
       "American Staffordshire Terrier           22\n",
       "Australian Shepherd                      22\n",
       "Catahoula                                21\n",
       "Pug                                      21\n",
       "Boston Terrier                           19\n",
       "Cairn Terrier                            19\n",
       "Rat Terrier                              17\n",
       "Basset Hound                             16\n",
       "Pomeranian                               16\n",
       "Chinese Sharpei                          15\n",
       "Anatol Shepherd                          15\n",
       "Staffordshire                            15\n",
       "Golden Retriever                         14\n",
       "Great Dane                               14\n",
       "English Bulldog                          14\n",
       "Australian Kelpie                        13\n",
       "Toy Poodle                               13\n",
       "Lhasa Apso                               12\n",
       "Miniature Pinscher                       12\n",
       "Dachshund Longhair                       11\n",
       "Chihuahua Longhair                       11\n",
       "Border Terrier                           10\n",
       "Chow Chow                                10\n",
       "Queensland Heeler                         9\n",
       "American Bulldog                          9\n",
       "Black Mouth Cur                           9\n",
       "Blue Lacy                                 7\n",
       "Pointer                                   7\n",
       "Plott Hound                               7\n",
       "Cardigan Welsh Corgi                      5\n",
       "American Pit Bull Terrier                 5\n",
       "Mastiff                                   5\n",
       "Name: popbreed, dtype: int64"
      ]
     },
     "execution_count": 22,
     "metadata": {},
     "output_type": "execute_result"
    }
   ],
   "source": [
    "# 1) Do certain breeds of dogs get adopted faster\n",
    "\n",
    "# Start with new dataframe\n",
    "df_dog = pd.read_csv('aac_intakes_outcomes.csv')\n",
    "df_dog.columns.values\n",
    "\n",
    "def adoptbinary(x):\n",
    "    if x == 'Adoption':\n",
    "        return x\n",
    "    else:\n",
    "        return \"Not Adopted\"\n",
    "\n",
    "#Filter out returned to owner\n",
    "maskd = (df_dog['outcome_type'] != 'Return to Owner')\n",
    "df_dog = df_dog[maskd]\n",
    "\n",
    "\n",
    "#Filter out to only include dog\n",
    "maskd1 = (df_dog['animal_type'] == 'Dog')\n",
    "df_dog = df_dog[maskd1]\n",
    "\n",
    "#Make a new column that has binary value for whether result is adoption or not\n",
    "df_dog['newOutcome'] = df_dog['outcome_type'].apply(adoptbinary)\n",
    "df_dog['newOutcome'][:10]\n",
    "\n",
    "#Also want to make sure significance level of data is enough, so maybe only look at breeds with value_counts > 100\n",
    "maskoff = df_dog['breed'].value_counts()>100\n",
    "ab = df_dog['breed'].value_counts()[maskoff].index.tolist()\n",
    "df_dog['popbreed'] = 'other'\n",
    "def breedtest1(x):\n",
    "    if x in ab:\n",
    "        return x\n",
    "    return 'other'\n",
    "df_dog['popbreed'] = df_dog['breed'].apply(breedtest)\n",
    "df_dog['popbreed'].value_counts()\n"
   ]
  },
  {
   "cell_type": "code",
   "execution_count": 46,
   "metadata": {},
   "outputs": [
    {
     "data": {
      "text/plain": [
       "7"
      ]
     },
     "execution_count": 46,
     "metadata": {},
     "output_type": "execute_result"
    }
   ],
   "source": [
    "#Now that we've sufficiently filtered out our dataframe to just include dogs that weren't returned to owners, we can start grouby\n",
    "group_by_buckets = df_dog.groupby(['popbreed','newOutcome'])[['newOutcome']].agg('count')\n",
    "#group_by_buckets\n",
    "#Look at ratios perhaps, probably should also have some si\n",
    "group_by_buckets.iloc[0]"
   ]
  },
  {
   "cell_type": "code",
   "execution_count": 68,
   "metadata": {},
   "outputs": [
    {
     "data": {
      "text/plain": [
       "0.7777777777777778"
      ]
     },
     "execution_count": 68,
     "metadata": {},
     "output_type": "execute_result"
    }
   ],
   "source": [
    "#Hate doing this but honestly have no idea how I'd write a function to index this by Friday\n",
    "i = 0\n",
    "diction = []\n",
    "while i < len(group_by_buckets)-2:\n",
    "    temporarylist = []\n",
    "    temporarylist.append(group_by_buckets.iloc[i])\n",
    "    ratio = float(group_by_buckets.iloc[i][0])/float((group_by_buckets.iloc[i][0]+group_by_buckets.iloc[i+1][0]))\n",
    "    temporarylist.append(ratio)\n",
    "    diction.append(temporarylist)\n",
    "    i += 2\n",
    "diction[0][1]"
   ]
  },
  {
   "cell_type": "code",
   "execution_count": 77,
   "metadata": {},
   "outputs": [
    {
     "data": {
      "text/html": [
       "<div>\n",
       "<style>\n",
       "    .dataframe thead tr:only-child th {\n",
       "        text-align: right;\n",
       "    }\n",
       "\n",
       "    .dataframe thead th {\n",
       "        text-align: left;\n",
       "    }\n",
       "\n",
       "    .dataframe tbody tr th {\n",
       "        vertical-align: top;\n",
       "    }\n",
       "</style>\n",
       "<table border=\"1\" class=\"dataframe\">\n",
       "  <thead>\n",
       "    <tr style=\"text-align: right;\">\n",
       "      <th></th>\n",
       "      <th>ratio</th>\n",
       "    </tr>\n",
       "  </thead>\n",
       "  <tbody>\n",
       "    <tr>\n",
       "      <th>American Bulldog, Adoption</th>\n",
       "      <td>0.777778</td>\n",
       "    </tr>\n",
       "    <tr>\n",
       "      <th>American Pit Bull Terrier, Adoption</th>\n",
       "      <td>0.400000</td>\n",
       "    </tr>\n",
       "    <tr>\n",
       "      <th>American Staffordshire Terrier, Adoption</th>\n",
       "      <td>0.363636</td>\n",
       "    </tr>\n",
       "    <tr>\n",
       "      <th>Anatol Shepherd, Adoption</th>\n",
       "      <td>0.800000</td>\n",
       "    </tr>\n",
       "    <tr>\n",
       "      <th>Australian Cattle Dog, Adoption</th>\n",
       "      <td>0.666667</td>\n",
       "    </tr>\n",
       "    <tr>\n",
       "      <th>Australian Kelpie, Adoption</th>\n",
       "      <td>0.615385</td>\n",
       "    </tr>\n",
       "    <tr>\n",
       "      <th>Australian Shepherd, Adoption</th>\n",
       "      <td>0.727273</td>\n",
       "    </tr>\n",
       "    <tr>\n",
       "      <th>Basset Hound, Adoption</th>\n",
       "      <td>0.437500</td>\n",
       "    </tr>\n",
       "    <tr>\n",
       "      <th>Beagle, Adoption</th>\n",
       "      <td>0.387097</td>\n",
       "    </tr>\n",
       "    <tr>\n",
       "      <th>Black Mouth Cur, Adoption</th>\n",
       "      <td>0.555556</td>\n",
       "    </tr>\n",
       "  </tbody>\n",
       "</table>\n",
       "</div>"
      ],
      "text/plain": [
       "                                             ratio\n",
       "American Bulldog, Adoption                0.777778\n",
       "American Pit Bull Terrier, Adoption       0.400000\n",
       "American Staffordshire Terrier, Adoption  0.363636\n",
       "Anatol Shepherd, Adoption                 0.800000\n",
       "Australian Cattle Dog, Adoption           0.666667\n",
       "Australian Kelpie, Adoption               0.615385\n",
       "Australian Shepherd, Adoption             0.727273\n",
       "Basset Hound, Adoption                    0.437500\n",
       "Beagle, Adoption                          0.387097\n",
       "Black Mouth Cur, Adoption                 0.555556"
      ]
     },
     "execution_count": 77,
     "metadata": {},
     "output_type": "execute_result"
    }
   ],
   "source": [
    "#Can't believe I had to resort to regex for this\n",
    "import re\n",
    "regex = r\"\\((.+)\\)\"\n",
    "b = []\n",
    "z = []\n",
    "for item in diction:\n",
    "    a = re.findall(regex,str(item[0]))\n",
    "    b.append(a[0])\n",
    "\n",
    "for item in diction:\n",
    "    z.append(item[1])\n",
    "\n",
    "finaldf = pd.DataFrame(data = z, index = b, columns = ['ratio'])\n",
    "finaldf[:10]"
   ]
  },
  {
   "cell_type": "code",
   "execution_count": 79,
   "metadata": {},
   "outputs": [
    {
     "data": {
      "text/plain": [
       "<matplotlib.axes._subplots.AxesSubplot at 0x1edd6d68>"
      ]
     },
     "execution_count": 79,
     "metadata": {},
     "output_type": "execute_result"
    },
    {
     "data": {
      "image/png": "[encoded data removed]",
      "text/plain": [
       "<matplotlib.figure.Figure at 0x1208ff98>"
      ]
     },
     "metadata": {},
     "output_type": "display_data"
    }
   ],
   "source": [
    "finaldf[:10].plot(kind = 'bar', title = 'Adoption rates for common dogs not returned to their owners')"
   ]
  },
  {
   "cell_type": "code",
   "execution_count": 84,
   "metadata": {},
   "outputs": [
    {
     "data": {
      "text/html": [
       "<div>\n",
       "<style>\n",
       "    .dataframe thead tr:only-child th {\n",
       "        text-align: right;\n",
       "    }\n",
       "\n",
       "    .dataframe thead th {\n",
       "        text-align: left;\n",
       "    }\n",
       "\n",
       "    .dataframe tbody tr th {\n",
       "        vertical-align: top;\n",
       "    }\n",
       "</style>\n",
       "<table border=\"1\" class=\"dataframe\">\n",
       "  <thead>\n",
       "    <tr style=\"text-align: right;\">\n",
       "      <th></th>\n",
       "      <th>outcome_year</th>\n",
       "      <th>newOutcome</th>\n",
       "    </tr>\n",
       "  </thead>\n",
       "  <tbody>\n",
       "    <tr>\n",
       "      <th>3</th>\n",
       "      <td>2014</td>\n",
       "      <td>Not Adopted</td>\n",
       "    </tr>\n",
       "    <tr>\n",
       "      <th>12</th>\n",
       "      <td>2013</td>\n",
       "      <td>Adoption</td>\n",
       "    </tr>\n",
       "    <tr>\n",
       "      <th>13</th>\n",
       "      <td>2015</td>\n",
       "      <td>Not Adopted</td>\n",
       "    </tr>\n",
       "    <tr>\n",
       "      <th>14</th>\n",
       "      <td>2016</td>\n",
       "      <td>Adoption</td>\n",
       "    </tr>\n",
       "    <tr>\n",
       "      <th>18</th>\n",
       "      <td>2013</td>\n",
       "      <td>Not Adopted</td>\n",
       "    </tr>\n",
       "  </tbody>\n",
       "</table>\n",
       "</div>"
      ],
      "text/plain": [
       "    outcome_year   newOutcome\n",
       "3           2014  Not Adopted\n",
       "12          2013     Adoption\n",
       "13          2015  Not Adopted\n",
       "14          2016     Adoption\n",
       "18          2013  Not Adopted"
      ]
     },
     "execution_count": 84,
     "metadata": {},
     "output_type": "execute_result"
    }
   ],
   "source": [
    "# Now let's look at adoption rates over time\n",
    "df_dog[['outcome_year','newOutcome']][:5]"
   ]
  },
  {
   "cell_type": "code",
   "execution_count": 118,
   "metadata": {},
   "outputs": [
    {
     "data": {
      "text/html": [
       "<div>\n",
       "<style>\n",
       "    .dataframe thead tr:only-child th {\n",
       "        text-align: right;\n",
       "    }\n",
       "\n",
       "    .dataframe thead th {\n",
       "        text-align: left;\n",
       "    }\n",
       "\n",
       "    .dataframe tbody tr th {\n",
       "        vertical-align: top;\n",
       "    }\n",
       "</style>\n",
       "<table border=\"1\" class=\"dataframe\">\n",
       "  <thead>\n",
       "    <tr style=\"text-align: right;\">\n",
       "      <th></th>\n",
       "      <th>newOutcome</th>\n",
       "      <th>ratio</th>\n",
       "    </tr>\n",
       "    <tr>\n",
       "      <th>outcome_year</th>\n",
       "      <th></th>\n",
       "      <th></th>\n",
       "    </tr>\n",
       "  </thead>\n",
       "  <tbody>\n",
       "    <tr>\n",
       "      <th>2013</th>\n",
       "      <td>868</td>\n",
       "      <td>0.530238</td>\n",
       "    </tr>\n",
       "    <tr>\n",
       "      <th>2014</th>\n",
       "      <td>4485</td>\n",
       "      <td>0.591377</td>\n",
       "    </tr>\n",
       "    <tr>\n",
       "      <th>2015</th>\n",
       "      <td>4475</td>\n",
       "      <td>0.628953</td>\n",
       "    </tr>\n",
       "    <tr>\n",
       "      <th>2016</th>\n",
       "      <td>4839</td>\n",
       "      <td>0.693863</td>\n",
       "    </tr>\n",
       "    <tr>\n",
       "      <th>2017</th>\n",
       "      <td>4691</td>\n",
       "      <td>0.662851</td>\n",
       "    </tr>\n",
       "    <tr>\n",
       "      <th>2018</th>\n",
       "      <td>1223</td>\n",
       "      <td>0.716882</td>\n",
       "    </tr>\n",
       "  </tbody>\n",
       "</table>\n",
       "</div>"
      ],
      "text/plain": [
       "              newOutcome     ratio\n",
       "outcome_year                      \n",
       "2013                 868  0.530238\n",
       "2014                4485  0.591377\n",
       "2015                4475  0.628953\n",
       "2016                4839  0.693863\n",
       "2017                4691  0.662851\n",
       "2018                1223  0.716882"
      ]
     },
     "execution_count": 118,
     "metadata": {},
     "output_type": "execute_result"
    }
   ],
   "source": [
    "#Now that we've sufficiently filtered out our dataframe to just include dogs that weren't returned to owners, we can start grouby\n",
    "maskonnow = (df_dog['newOutcome']=='Adoption')\n",
    "new_df = df_dog[maskonnow]\n",
    "grouping = new_df.groupby(['outcome_year'])[['newOutcome']].agg('count')\n",
    "#group_by_buckets"
   ]
  },
  {
   "cell_type": "code",
   "execution_count": 97,
   "metadata": {},
   "outputs": [
    {
     "data": {
      "text/plain": [
       "<matplotlib.axes._subplots.AxesSubplot at 0x1d349400>"
      ]
     },
     "execution_count": 97,
     "metadata": {},
     "output_type": "execute_result"
    },
    {
     "data": {
      "image/png": "[encoded data removed]",
      "text/plain": [
       "<matplotlib.figure.Figure at 0x1ceabf98>"
      ]
     },
     "metadata": {},
     "output_type": "display_data"
    }
   ],
   "source": [
    "grouping.plot(kind='line',title=\n",
    "            'Austin adoption rates from 2013-2018')"
   ]
  },
  {
   "cell_type": "code",
   "execution_count": 120,
   "metadata": {},
   "outputs": [
    {
     "data": {
      "text/plain": [
       "<matplotlib.axes._subplots.AxesSubplot at 0x13561c50>"
      ]
     },
     "execution_count": 120,
     "metadata": {},
     "output_type": "execute_result"
    },
    {
     "data": {
      "image/png": "[encoded data removed]",
      "text/plain": [
       "<matplotlib.figure.Figure at 0x1d292278>"
      ]
     },
     "metadata": {},
     "output_type": "display_data"
    }
   ],
   "source": [
    "#Problem is that 2013 and 2018 are probably partial years (not data from entire year included)\n",
    "#Solve by taking ratios of adopted / total animals not returend to owner\n",
    "maskoffFuture = df_dog.groupby(['outcome_year'])[['newOutcome']].agg('count')\n",
    "grouping['ratio'] = grouping['newOutcome']/maskoffFuture['newOutcome']\n",
    "grouping['ratio'].plot(kind='line',title=\n",
    "                      'Austin dog adoption ratios from 2013-2018')"
   ]
  },
  {
   "cell_type": "code",
   "execution_count": null,
   "metadata": {
    "collapsed": true
   },
   "outputs": [],
   "source": []
  }
 ],
 "metadata": {
  "kernelspec": {
   "display_name": "Python 2",
   "language": "python",
   "name": "python2"
  },
  "language_info": {
   "codemirror_mode": {
    "name": "ipython",
    "version": 2
   },
   "file_extension": ".py",
   "mimetype": "text/x-python",
   "name": "python",
   "nbconvert_exporter": "python",
   "pygments_lexer": "ipython2",
   "version": "2.7.14"
  }
 },
 "nbformat": 4,
 "nbformat_minor": 2
}
