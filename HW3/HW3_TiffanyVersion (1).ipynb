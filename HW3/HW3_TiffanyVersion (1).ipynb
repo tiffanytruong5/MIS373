{
 "cells": [
  {
   "cell_type": "markdown",
   "metadata": {},
   "source": [
    "##Homework 3: Regression\n",
    "\n",
    "We will try to predict the percentage of votes won by Bill Clinton in the 1992 election."
   ]
  },
  {
   "cell_type": "markdown",
   "metadata": {},
   "source": [
    "###Imports"
   ]
  },
  {
   "cell_type": "code",
   "execution_count": 1,
   "metadata": {},
   "outputs": [
    {
     "name": "stderr",
     "output_type": "stream",
     "text": [
      "C:\\Users\\tiffa\\Anaconda2\\lib\\site-packages\\statsmodels\\compat\\pandas.py:56: FutureWarning: The pandas.core.datetools module is deprecated and will be removed in a future version. Please use the pandas.tseries module instead.\n",
      "  from pandas.core import datetools\n"
     ]
    },
    {
     "name": "stdout",
     "output_type": "stream",
     "text": [
      "Populating the interactive namespace from numpy and matplotlib\n"
     ]
    }
   ],
   "source": [
    "from pandas import Series, DataFrame\n",
    "import pandas as pd\n",
    "import statsmodels.api as sm\n",
    "from patsy import dmatrices\n",
    "%pylab inline"
   ]
  },
  {
   "cell_type": "markdown",
   "metadata": {},
   "source": [
    "###Question 1: Read the data"
   ]
  },
  {
   "cell_type": "code",
   "execution_count": 99,
   "metadata": {},
   "outputs": [
    {
     "data": {
      "text/html": [
       "<div>\n",
       "<style>\n",
       "    .dataframe thead tr:only-child th {\n",
       "        text-align: right;\n",
       "    }\n",
       "\n",
       "    .dataframe thead th {\n",
       "        text-align: left;\n",
       "    }\n",
       "\n",
       "    .dataframe tbody tr th {\n",
       "        vertical-align: top;\n",
       "    }\n",
       "</style>\n",
       "<table border=\"1\" class=\"dataframe\">\n",
       "  <thead>\n",
       "    <tr style=\"text-align: right;\">\n",
       "      <th></th>\n",
       "      <th>percentVoting</th>\n",
       "      <th>medianAge</th>\n",
       "      <th>meanSavings</th>\n",
       "      <th>perCapitalIncome</th>\n",
       "      <th>percentPoverty</th>\n",
       "      <th>percentVeterans</th>\n",
       "      <th>percentFemale</th>\n",
       "      <th>popDensity</th>\n",
       "      <th>percentNursing</th>\n",
       "      <th>crimeIndex</th>\n",
       "    </tr>\n",
       "    <tr>\n",
       "      <th>countyName</th>\n",
       "      <th></th>\n",
       "      <th></th>\n",
       "      <th></th>\n",
       "      <th></th>\n",
       "      <th></th>\n",
       "      <th></th>\n",
       "      <th></th>\n",
       "      <th></th>\n",
       "      <th></th>\n",
       "      <th></th>\n",
       "    </tr>\n",
       "  </thead>\n",
       "  <tbody>\n",
       "    <tr>\n",
       "      <th>Autauga, AL</th>\n",
       "      <td>30.92</td>\n",
       "      <td>31.7</td>\n",
       "      <td>57623</td>\n",
       "      <td>15768</td>\n",
       "      <td>15.2</td>\n",
       "      <td>10.74</td>\n",
       "      <td>51.41</td>\n",
       "      <td>60.4</td>\n",
       "      <td>2.36</td>\n",
       "      <td>457</td>\n",
       "    </tr>\n",
       "    <tr>\n",
       "      <th>Baldwin, AL</th>\n",
       "      <td>26.24</td>\n",
       "      <td>35.5</td>\n",
       "      <td>84935</td>\n",
       "      <td>16954</td>\n",
       "      <td>13.6</td>\n",
       "      <td>9.73</td>\n",
       "      <td>51.34</td>\n",
       "      <td>66.5</td>\n",
       "      <td>5.40</td>\n",
       "      <td>282</td>\n",
       "    </tr>\n",
       "    <tr>\n",
       "      <th>Barbour, AL</th>\n",
       "      <td>46.36</td>\n",
       "      <td>32.8</td>\n",
       "      <td>83656</td>\n",
       "      <td>15532</td>\n",
       "      <td>25.0</td>\n",
       "      <td>8.82</td>\n",
       "      <td>53.03</td>\n",
       "      <td>28.8</td>\n",
       "      <td>7.02</td>\n",
       "      <td>47</td>\n",
       "    </tr>\n",
       "    <tr>\n",
       "      <th>Blount, AL</th>\n",
       "      <td>32.92</td>\n",
       "      <td>34.5</td>\n",
       "      <td>61249</td>\n",
       "      <td>14820</td>\n",
       "      <td>15.0</td>\n",
       "      <td>9.67</td>\n",
       "      <td>51.15</td>\n",
       "      <td>62.4</td>\n",
       "      <td>2.36</td>\n",
       "      <td>185</td>\n",
       "    </tr>\n",
       "    <tr>\n",
       "      <th>Bullock, AL</th>\n",
       "      <td>67.67</td>\n",
       "      <td>31.7</td>\n",
       "      <td>75725</td>\n",
       "      <td>11120</td>\n",
       "      <td>33.0</td>\n",
       "      <td>7.08</td>\n",
       "      <td>50.76</td>\n",
       "      <td>17.6</td>\n",
       "      <td>2.91</td>\n",
       "      <td>141</td>\n",
       "    </tr>\n",
       "    <tr>\n",
       "      <th>Butler, AL</th>\n",
       "      <td>47.43</td>\n",
       "      <td>33.5</td>\n",
       "      <td>75887</td>\n",
       "      <td>12015</td>\n",
       "      <td>27.1</td>\n",
       "      <td>9.48</td>\n",
       "      <td>53.25</td>\n",
       "      <td>28.1</td>\n",
       "      <td>7.98</td>\n",
       "      <td>266</td>\n",
       "    </tr>\n",
       "    <tr>\n",
       "      <th>Calhoun, AL</th>\n",
       "      <td>38.44</td>\n",
       "      <td>32.7</td>\n",
       "      <td>76073</td>\n",
       "      <td>15162</td>\n",
       "      <td>18.0</td>\n",
       "      <td>11.95</td>\n",
       "      <td>51.66</td>\n",
       "      <td>190.8</td>\n",
       "      <td>4.81</td>\n",
       "      <td>560</td>\n",
       "    </tr>\n",
       "    <tr>\n",
       "      <th>Chambers, AL</th>\n",
       "      <td>45.36</td>\n",
       "      <td>34.8</td>\n",
       "      <td>40498</td>\n",
       "      <td>13887</td>\n",
       "      <td>18.8</td>\n",
       "      <td>10.52</td>\n",
       "      <td>52.77</td>\n",
       "      <td>62.1</td>\n",
       "      <td>6.15</td>\n",
       "      <td>218</td>\n",
       "    </tr>\n",
       "    <tr>\n",
       "      <th>Cherokee, AL</th>\n",
       "      <td>53.61</td>\n",
       "      <td>36.3</td>\n",
       "      <td>56386</td>\n",
       "      <td>13936</td>\n",
       "      <td>15.4</td>\n",
       "      <td>9.29</td>\n",
       "      <td>50.82</td>\n",
       "      <td>35.8</td>\n",
       "      <td>5.61</td>\n",
       "      <td>51</td>\n",
       "    </tr>\n",
       "    <tr>\n",
       "      <th>Chilton, AL</th>\n",
       "      <td>34.19</td>\n",
       "      <td>34.0</td>\n",
       "      <td>52230</td>\n",
       "      <td>14036</td>\n",
       "      <td>18.6</td>\n",
       "      <td>9.48</td>\n",
       "      <td>51.41</td>\n",
       "      <td>47.8</td>\n",
       "      <td>3.58</td>\n",
       "      <td>296</td>\n",
       "    </tr>\n",
       "  </tbody>\n",
       "</table>\n",
       "</div>"
      ],
      "text/plain": [
       "              percentVoting  medianAge  meanSavings  perCapitalIncome  \\\n",
       "countyName                                                              \n",
       "Autauga, AL           30.92       31.7        57623             15768   \n",
       "Baldwin, AL           26.24       35.5        84935             16954   \n",
       "Barbour, AL           46.36       32.8        83656             15532   \n",
       "Blount, AL            32.92       34.5        61249             14820   \n",
       "Bullock, AL           67.67       31.7        75725             11120   \n",
       "Butler, AL            47.43       33.5        75887             12015   \n",
       "Calhoun, AL           38.44       32.7        76073             15162   \n",
       "Chambers, AL          45.36       34.8        40498             13887   \n",
       "Cherokee, AL          53.61       36.3        56386             13936   \n",
       "Chilton, AL           34.19       34.0        52230             14036   \n",
       "\n",
       "              percentPoverty  percentVeterans  percentFemale  popDensity  \\\n",
       "countyName                                                                 \n",
       "Autauga, AL             15.2            10.74          51.41        60.4   \n",
       "Baldwin, AL             13.6             9.73          51.34        66.5   \n",
       "Barbour, AL             25.0             8.82          53.03        28.8   \n",
       "Blount, AL              15.0             9.67          51.15        62.4   \n",
       "Bullock, AL             33.0             7.08          50.76        17.6   \n",
       "Butler, AL              27.1             9.48          53.25        28.1   \n",
       "Calhoun, AL             18.0            11.95          51.66       190.8   \n",
       "Chambers, AL            18.8            10.52          52.77        62.1   \n",
       "Cherokee, AL            15.4             9.29          50.82        35.8   \n",
       "Chilton, AL             18.6             9.48          51.41        47.8   \n",
       "\n",
       "              percentNursing  crimeIndex  \n",
       "countyName                                \n",
       "Autauga, AL             2.36         457  \n",
       "Baldwin, AL             5.40         282  \n",
       "Barbour, AL             7.02          47  \n",
       "Blount, AL              2.36         185  \n",
       "Bullock, AL             2.91         141  \n",
       "Butler, AL              7.98         266  \n",
       "Calhoun, AL             4.81         560  \n",
       "Chambers, AL            6.15         218  \n",
       "Cherokee, AL            5.61          51  \n",
       "Chilton, AL             3.58         296  "
      ]
     },
     "execution_count": 99,
     "metadata": {},
     "output_type": "execute_result"
    }
   ],
   "source": [
    "df = pd.read_csv('http://www.stat.ufl.edu/~winner/data/clinton1.dat', sep='\\s\\s+', names= ['countyName','percentVoting', 'medianAge', 'meanSavings', 'perCapitalIncome', 'percentPoverty', 'percentVeterans', 'percentFemale', 'popDensity', 'percentNursing', 'crimeIndex'],index_col='countyName', engine='python')\n",
    "df[:10]"
   ]
  },
  {
   "cell_type": "markdown",
   "metadata": {},
   "source": [
    "###Question 2: Predict percentVoting on all regressors\n",
    "\n",
    "medianAge and crimeIndex are the worst regressor p-values"
   ]
  },
  {
   "cell_type": "code",
   "execution_count": 129,
   "metadata": {},
   "outputs": [
    {
     "name": "stdout",
     "output_type": "stream",
     "text": [
      "medianAge            2.386186e-01\n",
      "crimeIndex           1.419496e-01\n",
      "perCapitalIncome     1.761381e-02\n",
      "percentNursing       5.246414e-03\n",
      "percentVeterans      3.852591e-04\n",
      "meanSavings          4.859660e-10\n",
      "Intercept            5.457367e-11\n",
      "popDensity           8.177372e-22\n",
      "percentFemale        4.425751e-23\n",
      "percentPoverty      9.526970e-100\n",
      "dtype: float64\n"
     ]
    }
   ],
   "source": [
    "y, X = dmatrices('percentVoting ~ medianAge + meanSavings + perCapitalIncome + percentPoverty + percentVeterans + percentFemale + popDensity + percentNursing + crimeIndex', data=df, return_type='dataframe')\n",
    "model = sm.OLS(y, X)\n",
    "result = model.fit()\n",
    "print result.pvalues.sort_values(ascending = False)"
   ]
  },
  {
   "cell_type": "markdown",
   "metadata": {},
   "source": [
    "###Question 3: A formula-creating function"
   ]
  },
  {
   "cell_type": "code",
   "execution_count": 131,
   "metadata": {
    "collapsed": true
   },
   "outputs": [],
   "source": [
    "def formula(listreg):\n",
    "    return 'percentVoting ~ ' + ' + '.join(listreg)"
   ]
  },
  {
   "cell_type": "markdown",
   "metadata": {},
   "source": [
    "###Question 4: R-squared computation function"
   ]
  },
  {
   "cell_type": "code",
   "execution_count": 83,
   "metadata": {},
   "outputs": [
    {
     "data": {
      "text/plain": [
       "0.28582980229105792"
      ]
     },
     "execution_count": 83,
     "metadata": {},
     "output_type": "execute_result"
    }
   ],
   "source": [
    "def rsquared(listreg):\n",
    "    calculation = formula(listreg)\n",
    "    y, X = dmatrices(calculation, data=df, return_type='dataframe')\n",
    "    model = sm.OLS(y, X)\n",
    "    result = model.fit()\n",
    "    return result.rsquared\n",
    "\n",
    "#test\n",
    "listOfRegressors = ['percentPoverty','popDensity']\n",
    "rsquared(listOfRegressors)"
   ]
  },
  {
   "cell_type": "markdown",
   "metadata": {},
   "source": [
    "###Question 5: Find the next best regressor"
   ]
  },
  {
   "cell_type": "code",
   "execution_count": 188,
   "metadata": {},
   "outputs": [
    {
     "data": {
      "text/plain": [
       "('popDensity', 0.28709905994748541)"
      ]
     },
     "execution_count": 188,
     "metadata": {},
     "output_type": "execute_result"
    }
   ],
   "source": [
    "def best_next_regressor(current_regressor_list, all_regressors_list):\n",
    "    improvements = {}\n",
    "    \n",
    "    #get the list of regressors that we want to check \n",
    "    regressors_list = list(set(all_regressors_list) - set(current_regressor_list))\n",
    "\n",
    "    for regressor in regressors_list:\n",
    "        temporary = current_regressor_list[:]\n",
    "        temporary.append(regressor)\n",
    "        #print temporary\n",
    "        \n",
    "        improvements[regressor] = rsquared(temporary)\n",
    "    #print improvements\n",
    "    bestRegressor = max(improvements, key=improvements.get)\n",
    "    return (bestRegressor, improvements[bestRegressor])\n",
    "\n",
    "#test\n",
    "best_next_regressor(['percentPoverty','medianAge'], ['medianAge', 'meanSavings', 'perCapitalIncome', 'percentPoverty', 'percentVeterans', 'percentFemale', 'popDensity', 'percentNursing', 'crimeIndex'])"
   ]
  },
  {
   "cell_type": "markdown",
   "metadata": {},
   "source": [
    "###Question 6: Pick the k best regressors"
   ]
  },
  {
   "cell_type": "code",
   "execution_count": 180,
   "metadata": {},
   "outputs": [
    {
     "name": "stdout",
     "output_type": "stream",
     "text": [
      "(['percentPoverty'], 0.25103851961631962)\n",
      "(['percentPoverty', 'popDensity'], 0.28582980229105792)\n",
      "(['percentPoverty', 'popDensity', 'percentFemale'], 0.30914506632485794)\n",
      "(['percentPoverty', 'popDensity', 'percentFemale', 'meanSavings'], 0.31924118502370513)\n",
      "(['percentPoverty', 'popDensity', 'percentFemale', 'meanSavings', 'percentVeterans'], 0.32299256887291694)\n",
      "(['percentPoverty', 'popDensity', 'percentFemale', 'meanSavings', 'percentVeterans', 'percentNursing'], 0.32485127138693681)\n"
     ]
    }
   ],
   "source": [
    "def best_regressors(num, all_regressors):\n",
    "    #will keep track of current best regressors for looping\n",
    "    current = []\n",
    "    #will keep track of current best regressors along with the r squared\n",
    "    best_regressors_list = []\n",
    "    complete_list = []\n",
    "    for i in range(num):\n",
    "        x = best_next_regressor(current, all_regressors)\n",
    "        #convert x to a list because it will be returning a tuple and we want to continue updating our current regressors\n",
    "        y = list(x) \n",
    "        #grab the regressor from y list and append it to current regressors list\n",
    "        current.append(y[0])\n",
    "        best_regressors_list.append(x)\n",
    "        #print current\n",
    "        #print x\n",
    "        complete_item = (current[:i+1], x[1])\n",
    "        complete_list.append(complete_item)\n",
    "    return complete_list\n",
    "    #return best_regressors_list\n",
    "\n",
    "    \n",
    "num_regressors = 6\n",
    "all_regressors_list = ['medianAge', 'meanSavings', 'perCapitalIncome', 'percentPoverty', 'percentVeterans', 'percentFemale', 'popDensity', 'percentNursing', 'crimeIndex']\n",
    "results = best_regressors(num_regressors, all_regressors_list)\n",
    "#print results\n",
    "for i in results:\n",
    "    print i"
   ]
  },
  {
   "cell_type": "markdown",
   "metadata": {},
   "source": [
    "###Question 7: Order all regressors in the best order"
   ]
  },
  {
   "cell_type": "code",
   "execution_count": 181,
   "metadata": {},
   "outputs": [
    {
     "name": "stdout",
     "output_type": "stream",
     "text": [
      "percentPoverty\n",
      "popDensity\n",
      "percentFemale\n",
      "meanSavings\n",
      "percentVeterans\n",
      "percentNursing\n",
      "perCapitalIncome\n",
      "crimeIndex\n",
      "medianAge\n"
     ]
    }
   ],
   "source": [
    "#fill up the number_of_all_regressors with the length of all possible regressors\n",
    "#pass it to the best_regressors method so that it can order the best regressors\n",
    "\n",
    "number_of_all_regressors = len(all_regressors_list)\n",
    "#print number_of_all_regressors\n",
    "results_for_all = best_regressors(number_of_all_regressors, all_regressors_list)\n",
    "#print results_for_all\n",
    "\n",
    "for i in results_for_all:\n",
    "    #convert each tuple item to list \n",
    "    item = list(i)\n",
    "    #print item\n",
    "    #grab last regressor to print them in order\n",
    "    print item[0][-1]\n",
    "    "
   ]
  },
  {
   "cell_type": "markdown",
   "metadata": {},
   "source": [
    "###Question 8: Plot the R-squared values as regressors are added in the best order"
   ]
  },
  {
   "cell_type": "code",
   "execution_count": 182,
   "metadata": {},
   "outputs": [
    {
     "data": {
      "text/html": [
       "<div>\n",
       "<style>\n",
       "    .dataframe thead tr:only-child th {\n",
       "        text-align: right;\n",
       "    }\n",
       "\n",
       "    .dataframe thead th {\n",
       "        text-align: left;\n",
       "    }\n",
       "\n",
       "    .dataframe tbody tr th {\n",
       "        vertical-align: top;\n",
       "    }\n",
       "</style>\n",
       "<table border=\"1\" class=\"dataframe\">\n",
       "  <thead>\n",
       "    <tr style=\"text-align: right;\">\n",
       "      <th></th>\n",
       "      <th>R-Square Value</th>\n",
       "    </tr>\n",
       "    <tr>\n",
       "      <th>Regressors</th>\n",
       "      <th></th>\n",
       "    </tr>\n",
       "  </thead>\n",
       "  <tbody>\n",
       "    <tr>\n",
       "      <th>[percentPoverty]</th>\n",
       "      <td>0.251039</td>\n",
       "    </tr>\n",
       "    <tr>\n",
       "      <th>[percentPoverty, popDensity]</th>\n",
       "      <td>0.285830</td>\n",
       "    </tr>\n",
       "    <tr>\n",
       "      <th>[percentPoverty, popDensity, percentFemale]</th>\n",
       "      <td>0.309145</td>\n",
       "    </tr>\n",
       "    <tr>\n",
       "      <th>[percentPoverty, popDensity, percentFemale, meanSavings]</th>\n",
       "      <td>0.319241</td>\n",
       "    </tr>\n",
       "    <tr>\n",
       "      <th>[percentPoverty, popDensity, percentFemale, meanSavings, percentVeterans]</th>\n",
       "      <td>0.322993</td>\n",
       "    </tr>\n",
       "    <tr>\n",
       "      <th>[percentPoverty, popDensity, percentFemale, meanSavings, percentVeterans, percentNursing]</th>\n",
       "      <td>0.324851</td>\n",
       "    </tr>\n",
       "    <tr>\n",
       "      <th>[percentPoverty, popDensity, percentFemale, meanSavings, percentVeterans, percentNursing, perCapitalIncome]</th>\n",
       "      <td>0.325825</td>\n",
       "    </tr>\n",
       "    <tr>\n",
       "      <th>[percentPoverty, popDensity, percentFemale, meanSavings, percentVeterans, percentNursing, perCapitalIncome, crimeIndex]</th>\n",
       "      <td>0.326553</td>\n",
       "    </tr>\n",
       "    <tr>\n",
       "      <th>[percentPoverty, popDensity, percentFemale, meanSavings, percentVeterans, percentNursing, perCapitalIncome, crimeIndex, medianAge]</th>\n",
       "      <td>0.326900</td>\n",
       "    </tr>\n",
       "  </tbody>\n",
       "</table>\n",
       "</div>"
      ],
      "text/plain": [
       "                                                    R-Square Value\n",
       "Regressors                                                        \n",
       "[percentPoverty]                                          0.251039\n",
       "[percentPoverty, popDensity]                              0.285830\n",
       "[percentPoverty, popDensity, percentFemale]               0.309145\n",
       "[percentPoverty, popDensity, percentFemale, mea...        0.319241\n",
       "[percentPoverty, popDensity, percentFemale, mea...        0.322993\n",
       "[percentPoverty, popDensity, percentFemale, mea...        0.324851\n",
       "[percentPoverty, popDensity, percentFemale, mea...        0.325825\n",
       "[percentPoverty, popDensity, percentFemale, mea...        0.326553\n",
       "[percentPoverty, popDensity, percentFemale, mea...        0.326900"
      ]
     },
     "execution_count": 182,
     "metadata": {},
     "output_type": "execute_result"
    }
   ],
   "source": [
    "df_rsquared = DataFrame.from_records(results_for_all, columns = ['Regressors','R-Square Value'], index = 'Regressors')\n",
    "df_rsquared"
   ]
  },
  {
   "cell_type": "code",
   "execution_count": 183,
   "metadata": {},
   "outputs": [
    {
     "data": {
      "text/plain": [
       "<matplotlib.axes._subplots.AxesSubplot at 0x16cc66d8>"
      ]
     },
     "execution_count": 183,
     "metadata": {},
     "output_type": "execute_result"
    },
    {
     "data": {
      "image/png": "[encoded data removed]",
      "text/plain": [
       "<matplotlib.figure.Figure at 0x1060f2e8>"
      ]
     },
     "metadata": {},
     "output_type": "display_data"
    }
   ],
   "source": [
    "df_rsquared.plot(kind = 'bar')"
   ]
  },
  {
   "cell_type": "markdown",
   "metadata": {},
   "source": [
    "###Question 9: Create a classification target"
   ]
  },
  {
   "cell_type": "code",
   "execution_count": 204,
   "metadata": {},
   "outputs": [
    {
     "data": {
      "text/html": [
       "<div>\n",
       "<style>\n",
       "    .dataframe thead tr:only-child th {\n",
       "        text-align: right;\n",
       "    }\n",
       "\n",
       "    .dataframe thead th {\n",
       "        text-align: left;\n",
       "    }\n",
       "\n",
       "    .dataframe tbody tr th {\n",
       "        vertical-align: top;\n",
       "    }\n",
       "</style>\n",
       "<table border=\"1\" class=\"dataframe\">\n",
       "  <thead>\n",
       "    <tr style=\"text-align: right;\">\n",
       "      <th></th>\n",
       "      <th>percentVoting</th>\n",
       "      <th>medianAge</th>\n",
       "      <th>meanSavings</th>\n",
       "      <th>perCapitalIncome</th>\n",
       "      <th>percentPoverty</th>\n",
       "      <th>percentVeterans</th>\n",
       "      <th>percentFemale</th>\n",
       "      <th>popDensity</th>\n",
       "      <th>percentNursing</th>\n",
       "      <th>crimeIndex</th>\n",
       "      <th>target</th>\n",
       "    </tr>\n",
       "    <tr>\n",
       "      <th>countyName</th>\n",
       "      <th></th>\n",
       "      <th></th>\n",
       "      <th></th>\n",
       "      <th></th>\n",
       "      <th></th>\n",
       "      <th></th>\n",
       "      <th></th>\n",
       "      <th></th>\n",
       "      <th></th>\n",
       "      <th></th>\n",
       "      <th></th>\n",
       "    </tr>\n",
       "  </thead>\n",
       "  <tbody>\n",
       "    <tr>\n",
       "      <th>Autauga, AL</th>\n",
       "      <td>30.92</td>\n",
       "      <td>31.7</td>\n",
       "      <td>57623</td>\n",
       "      <td>15768</td>\n",
       "      <td>15.2</td>\n",
       "      <td>10.74</td>\n",
       "      <td>51.41</td>\n",
       "      <td>60.4</td>\n",
       "      <td>2.36</td>\n",
       "      <td>457</td>\n",
       "      <td>0.0</td>\n",
       "    </tr>\n",
       "    <tr>\n",
       "      <th>Baldwin, AL</th>\n",
       "      <td>26.24</td>\n",
       "      <td>35.5</td>\n",
       "      <td>84935</td>\n",
       "      <td>16954</td>\n",
       "      <td>13.6</td>\n",
       "      <td>9.73</td>\n",
       "      <td>51.34</td>\n",
       "      <td>66.5</td>\n",
       "      <td>5.40</td>\n",
       "      <td>282</td>\n",
       "      <td>0.0</td>\n",
       "    </tr>\n",
       "    <tr>\n",
       "      <th>Barbour, AL</th>\n",
       "      <td>46.36</td>\n",
       "      <td>32.8</td>\n",
       "      <td>83656</td>\n",
       "      <td>15532</td>\n",
       "      <td>25.0</td>\n",
       "      <td>8.82</td>\n",
       "      <td>53.03</td>\n",
       "      <td>28.8</td>\n",
       "      <td>7.02</td>\n",
       "      <td>47</td>\n",
       "      <td>1.0</td>\n",
       "    </tr>\n",
       "    <tr>\n",
       "      <th>Blount, AL</th>\n",
       "      <td>32.92</td>\n",
       "      <td>34.5</td>\n",
       "      <td>61249</td>\n",
       "      <td>14820</td>\n",
       "      <td>15.0</td>\n",
       "      <td>9.67</td>\n",
       "      <td>51.15</td>\n",
       "      <td>62.4</td>\n",
       "      <td>2.36</td>\n",
       "      <td>185</td>\n",
       "      <td>0.0</td>\n",
       "    </tr>\n",
       "    <tr>\n",
       "      <th>Bullock, AL</th>\n",
       "      <td>67.67</td>\n",
       "      <td>31.7</td>\n",
       "      <td>75725</td>\n",
       "      <td>11120</td>\n",
       "      <td>33.0</td>\n",
       "      <td>7.08</td>\n",
       "      <td>50.76</td>\n",
       "      <td>17.6</td>\n",
       "      <td>2.91</td>\n",
       "      <td>141</td>\n",
       "      <td>1.0</td>\n",
       "    </tr>\n",
       "    <tr>\n",
       "      <th>Butler, AL</th>\n",
       "      <td>47.43</td>\n",
       "      <td>33.5</td>\n",
       "      <td>75887</td>\n",
       "      <td>12015</td>\n",
       "      <td>27.1</td>\n",
       "      <td>9.48</td>\n",
       "      <td>53.25</td>\n",
       "      <td>28.1</td>\n",
       "      <td>7.98</td>\n",
       "      <td>266</td>\n",
       "      <td>1.0</td>\n",
       "    </tr>\n",
       "    <tr>\n",
       "      <th>Calhoun, AL</th>\n",
       "      <td>38.44</td>\n",
       "      <td>32.7</td>\n",
       "      <td>76073</td>\n",
       "      <td>15162</td>\n",
       "      <td>18.0</td>\n",
       "      <td>11.95</td>\n",
       "      <td>51.66</td>\n",
       "      <td>190.8</td>\n",
       "      <td>4.81</td>\n",
       "      <td>560</td>\n",
       "      <td>0.0</td>\n",
       "    </tr>\n",
       "    <tr>\n",
       "      <th>Chambers, AL</th>\n",
       "      <td>45.36</td>\n",
       "      <td>34.8</td>\n",
       "      <td>40498</td>\n",
       "      <td>13887</td>\n",
       "      <td>18.8</td>\n",
       "      <td>10.52</td>\n",
       "      <td>52.77</td>\n",
       "      <td>62.1</td>\n",
       "      <td>6.15</td>\n",
       "      <td>218</td>\n",
       "      <td>1.0</td>\n",
       "    </tr>\n",
       "    <tr>\n",
       "      <th>Cherokee, AL</th>\n",
       "      <td>53.61</td>\n",
       "      <td>36.3</td>\n",
       "      <td>56386</td>\n",
       "      <td>13936</td>\n",
       "      <td>15.4</td>\n",
       "      <td>9.29</td>\n",
       "      <td>50.82</td>\n",
       "      <td>35.8</td>\n",
       "      <td>5.61</td>\n",
       "      <td>51</td>\n",
       "      <td>1.0</td>\n",
       "    </tr>\n",
       "    <tr>\n",
       "      <th>Chilton, AL</th>\n",
       "      <td>34.19</td>\n",
       "      <td>34.0</td>\n",
       "      <td>52230</td>\n",
       "      <td>14036</td>\n",
       "      <td>18.6</td>\n",
       "      <td>9.48</td>\n",
       "      <td>51.41</td>\n",
       "      <td>47.8</td>\n",
       "      <td>3.58</td>\n",
       "      <td>296</td>\n",
       "      <td>0.0</td>\n",
       "    </tr>\n",
       "  </tbody>\n",
       "</table>\n",
       "</div>"
      ],
      "text/plain": [
       "              percentVoting  medianAge  meanSavings  perCapitalIncome  \\\n",
       "countyName                                                              \n",
       "Autauga, AL           30.92       31.7        57623             15768   \n",
       "Baldwin, AL           26.24       35.5        84935             16954   \n",
       "Barbour, AL           46.36       32.8        83656             15532   \n",
       "Blount, AL            32.92       34.5        61249             14820   \n",
       "Bullock, AL           67.67       31.7        75725             11120   \n",
       "Butler, AL            47.43       33.5        75887             12015   \n",
       "Calhoun, AL           38.44       32.7        76073             15162   \n",
       "Chambers, AL          45.36       34.8        40498             13887   \n",
       "Cherokee, AL          53.61       36.3        56386             13936   \n",
       "Chilton, AL           34.19       34.0        52230             14036   \n",
       "\n",
       "              percentPoverty  percentVeterans  percentFemale  popDensity  \\\n",
       "countyName                                                                 \n",
       "Autauga, AL             15.2            10.74          51.41        60.4   \n",
       "Baldwin, AL             13.6             9.73          51.34        66.5   \n",
       "Barbour, AL             25.0             8.82          53.03        28.8   \n",
       "Blount, AL              15.0             9.67          51.15        62.4   \n",
       "Bullock, AL             33.0             7.08          50.76        17.6   \n",
       "Butler, AL              27.1             9.48          53.25        28.1   \n",
       "Calhoun, AL             18.0            11.95          51.66       190.8   \n",
       "Chambers, AL            18.8            10.52          52.77        62.1   \n",
       "Cherokee, AL            15.4             9.29          50.82        35.8   \n",
       "Chilton, AL             18.6             9.48          51.41        47.8   \n",
       "\n",
       "              percentNursing  crimeIndex  target  \n",
       "countyName                                        \n",
       "Autauga, AL             2.36         457     0.0  \n",
       "Baldwin, AL             5.40         282     0.0  \n",
       "Barbour, AL             7.02          47     1.0  \n",
       "Blount, AL              2.36         185     0.0  \n",
       "Bullock, AL             2.91         141     1.0  \n",
       "Butler, AL              7.98         266     1.0  \n",
       "Calhoun, AL             4.81         560     0.0  \n",
       "Chambers, AL            6.15         218     1.0  \n",
       "Cherokee, AL            5.61          51     1.0  \n",
       "Chilton, AL             3.58         296     0.0  "
      ]
     },
     "execution_count": 204,
     "metadata": {},
     "output_type": "execute_result"
    }
   ],
   "source": [
    "df['target'] = 0\n",
    "mask = (df['percentVoting'] >= 40.0)\n",
    "df.loc[mask, 'target'] = 1.0\n",
    "df[:10]"
   ]
  },
  {
   "cell_type": "markdown",
   "metadata": {},
   "source": [
    "###Question 10: Create training and test sets"
   ]
  },
  {
   "cell_type": "code",
   "execution_count": 205,
   "metadata": {},
   "outputs": [
    {
     "data": {
      "text/plain": [
       "Text(0,0.5,u'Population Density')"
      ]
     },
     "execution_count": 205,
     "metadata": {},
     "output_type": "execute_result"
    },
    {
     "data": {
      "image/png": "[encoded data removed]",
      "text/plain": [
       "<matplotlib.figure.Figure at 0xfde85f8>"
      ]
     },
     "metadata": {},
     "output_type": "display_data"
    }
   ],
   "source": [
    "Y, X = dmatrices('target ~ 0 + percentPoverty + popDensity',\n",
    "                 df,return_type=\"dataframe\")\n",
    "\n",
    "y = Y['target'].values\n",
    "\n",
    "from sklearn.model_selection import train_test_split\n",
    "X_train, X_test, y_train, y_test = train_test_split(X, y, test_size=0.3, random_state=1)\n",
    "\n",
    "sc = scatter(df['percentPoverty'], df['popDensity'], c=y, cmap='bwr')\n",
    "colorbar(sc)\n",
    "xlabel('Percent in Poverty')\n",
    "ylabel('Population Density')"
   ]
  },
  {
   "cell_type": "markdown",
   "metadata": {},
   "source": [
    "###Question 11: Accuracy of classification"
   ]
  },
  {
   "cell_type": "code",
   "execution_count": 210,
   "metadata": {},
   "outputs": [
    {
     "name": "stdout",
     "output_type": "stream",
     "text": [
      "1 Neighbors\n",
      "Training score: 0.997885835095\n",
      "Testing score: 0.600985221675\n",
      "\n",
      "3 Neighbors\n",
      "Training score: 0.788054968288\n",
      "Testing score: 0.635467980296\n",
      "\n",
      "5 Neighbors\n",
      "Training score: 0.748414376321\n",
      "Testing score: 0.630541871921\n",
      "\n",
      "10 Neighbors\n",
      "Training score: 0.720401691332\n",
      "Testing score: 0.646551724138\n",
      "\n",
      "20 Neighbors\n",
      "Training score: 0.690274841438\n",
      "Testing score: 0.658866995074\n",
      "\n",
      "50 Neighbors\n",
      "Training score: 0.683932346723\n",
      "Testing score: 0.662561576355\n",
      "\n",
      "100 Neighbors\n",
      "Training score: 0.677589852008\n",
      "Testing score: 0.663793103448\n",
      "\n",
      "1000 Neighbors\n",
      "Training score: 0.567124735729\n",
      "Testing score: 0.576354679803\n",
      "\n"
     ]
    }
   ],
   "source": [
    "from sklearn.model_selection import train_test_split\n",
    "from sklearn import neighbors\n",
    "from sklearn import metrics\n",
    "\n",
    "neighbor_amounts = [1, 3, 5, 10, 20, 50, 100, 1000]\n",
    "\n",
    "for amount in neighbor_amounts:\n",
    "    print str(amount) + ' Neighbors'\n",
    "    \n",
    "    model = neighbors.KNeighborsClassifier(n_neighbors=amount, weights='uniform', p=2)\n",
    "    model.fit(X_train, y_train)\n",
    "    \n",
    "    prediction_on_training = model.predict(X_train)\n",
    "    prediction_testing = model.predict(X_test)\n",
    "    \n",
    "    training_score = metrics.accuracy_score(y_train, prediction_on_training)\n",
    "    print \"Training score: \" + str(training_score)\n",
    "    testing_score = metrics.accuracy_score(y_test, prediction_testing)\n",
    "    print \"Testing score: \" + str(testing_score)\n",
    "    print"
   ]
  },
  {
   "cell_type": "markdown",
   "metadata": {},
   "source": [
    "###Question 12: Plots and reasons\n",
    "\n",
    "From the graph, each red dot represents a county that voted for Clinton. It looks like those in higher percentages of poverty and high population densities tend to vote for Clinton."
   ]
  },
  {
   "cell_type": "code",
   "execution_count": 214,
   "metadata": {},
   "outputs": [
    {
     "data": {
      "text/plain": [
       "Text(0,0.5,u'Population Density')"
      ]
     },
     "execution_count": 214,
     "metadata": {},
     "output_type": "execute_result"
    },
    {
     "data": {
      "image/png": "[encoded data removed]",
      "text/plain": [
       "<matplotlib.figure.Figure at 0x181ce860>"
      ]
     },
     "metadata": {},
     "output_type": "display_data"
    }
   ],
   "source": [
    "scatter(df['percentPoverty'], df['popDensity'], c=y, cmap='bwr')\n",
    "colorbar(sc)\n",
    "xlabel(\"Percent in Poverty\")\n",
    "ylabel(\"Population Density\")"
   ]
  },
  {
   "cell_type": "code",
   "execution_count": null,
   "metadata": {
    "collapsed": true
   },
   "outputs": [],
   "source": []
  }
 ],
 "metadata": {
  "kernelspec": {
   "display_name": "Python 2",
   "language": "python",
   "name": "python2"
  },
  "language_info": {
   "codemirror_mode": {
    "name": "ipython",
    "version": 2
   },
   "file_extension": ".py",
   "mimetype": "text/x-python",
   "name": "python",
   "nbconvert_exporter": "python",
   "pygments_lexer": "ipython2",
   "version": "2.7.14"
  }
 },
 "nbformat": 4,
 "nbformat_minor": 2
}
